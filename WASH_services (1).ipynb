{
  "nbformat": 4,
  "nbformat_minor": 0,
  "metadata": {
    "colab": {
      "provenance": []
    },
    "kernelspec": {
      "name": "python3",
      "display_name": "Python 3"
    },
    "language_info": {
      "name": "python"
    },
    "gpuClass": "standard"
  },
  "cells": [
    {
      "cell_type": "markdown",
      "source": [
        "**Libraries, Data preparation and EDA**"
      ],
      "metadata": {
        "id": "gkrYn-6AZ-L_"
      }
    },
    {
      "cell_type": "code",
      "source": [
        "!pip install shap"
      ],
      "metadata": {
        "id": "ZhT_JQ2WdaD-",
        "colab": {
          "base_uri": "https://localhost:8080/"
        },
        "outputId": "27ff7a66-4a0d-4fbe-ff4f-4a5e899d9522"
      },
      "execution_count": null,
      "outputs": [
        {
          "output_type": "stream",
          "name": "stdout",
          "text": [
            "Looking in indexes: https://pypi.org/simple, https://us-python.pkg.dev/colab-wheels/public/simple/\n",
            "Requirement already satisfied: shap in /usr/local/lib/python3.10/dist-packages (0.41.0)\n",
            "Requirement already satisfied: numpy in /usr/local/lib/python3.10/dist-packages (from shap) (1.22.4)\n",
            "Requirement already satisfied: scipy in /usr/local/lib/python3.10/dist-packages (from shap) (1.10.1)\n",
            "Requirement already satisfied: scikit-learn in /usr/local/lib/python3.10/dist-packages (from shap) (1.2.2)\n",
            "Requirement already satisfied: pandas in /usr/local/lib/python3.10/dist-packages (from shap) (1.5.3)\n",
            "Requirement already satisfied: tqdm>4.25.0 in /usr/local/lib/python3.10/dist-packages (from shap) (4.65.0)\n",
            "Requirement already satisfied: packaging>20.9 in /usr/local/lib/python3.10/dist-packages (from shap) (23.1)\n",
            "Requirement already satisfied: slicer==0.0.7 in /usr/local/lib/python3.10/dist-packages (from shap) (0.0.7)\n",
            "Requirement already satisfied: numba in /usr/local/lib/python3.10/dist-packages (from shap) (0.56.4)\n",
            "Requirement already satisfied: cloudpickle in /usr/local/lib/python3.10/dist-packages (from shap) (2.2.1)\n",
            "Requirement already satisfied: llvmlite<0.40,>=0.39.0dev0 in /usr/local/lib/python3.10/dist-packages (from numba->shap) (0.39.1)\n",
            "Requirement already satisfied: setuptools in /usr/local/lib/python3.10/dist-packages (from numba->shap) (67.7.2)\n",
            "Requirement already satisfied: python-dateutil>=2.8.1 in /usr/local/lib/python3.10/dist-packages (from pandas->shap) (2.8.2)\n",
            "Requirement already satisfied: pytz>=2020.1 in /usr/local/lib/python3.10/dist-packages (from pandas->shap) (2022.7.1)\n",
            "Requirement already satisfied: joblib>=1.1.1 in /usr/local/lib/python3.10/dist-packages (from scikit-learn->shap) (1.2.0)\n",
            "Requirement already satisfied: threadpoolctl>=2.0.0 in /usr/local/lib/python3.10/dist-packages (from scikit-learn->shap) (3.1.0)\n",
            "Requirement already satisfied: six>=1.5 in /usr/local/lib/python3.10/dist-packages (from python-dateutil>=2.8.1->pandas->shap) (1.16.0)\n"
          ]
        }
      ]
    },
    {
      "cell_type": "code",
      "source": [
        "#!pip install cleanlab\n",
        "!pip install 'cleanlab[datalab]'\n",
        "#from cleanlab.classification import CleanLearning\n",
        "from cleanlab import Datalab"
      ],
      "metadata": {
        "id": "Gl-XKTltjfLC",
        "colab": {
          "base_uri": "https://localhost:8080/"
        },
        "outputId": "b4eda5f4-914d-4c05-c43f-f4ce38c2fa7c"
      },
      "execution_count": null,
      "outputs": [
        {
          "output_type": "stream",
          "name": "stdout",
          "text": [
            "Looking in indexes: https://pypi.org/simple, https://us-python.pkg.dev/colab-wheels/public/simple/\n",
            "Requirement already satisfied: cleanlab[datalab] in /usr/local/lib/python3.10/dist-packages (2.4.0)\n",
            "Requirement already satisfied: numpy>=1.20.0 in /usr/local/lib/python3.10/dist-packages (from cleanlab[datalab]) (1.22.4)\n",
            "Requirement already satisfied: scikit-learn>=1.0 in /usr/local/lib/python3.10/dist-packages (from cleanlab[datalab]) (1.2.2)\n",
            "Requirement already satisfied: tqdm>=4.53.0 in /usr/local/lib/python3.10/dist-packages (from cleanlab[datalab]) (4.65.0)\n",
            "Requirement already satisfied: pandas>=1.1.5 in /usr/local/lib/python3.10/dist-packages (from cleanlab[datalab]) (1.5.3)\n",
            "Requirement already satisfied: termcolor>=2.0.0 in /usr/local/lib/python3.10/dist-packages (from cleanlab[datalab]) (2.3.0)\n",
            "Requirement already satisfied: datasets>=2.7.0 in /usr/local/lib/python3.10/dist-packages (from cleanlab[datalab]) (2.12.0)\n",
            "Requirement already satisfied: pyarrow>=8.0.0 in /usr/local/lib/python3.10/dist-packages (from datasets>=2.7.0->cleanlab[datalab]) (9.0.0)\n",
            "Requirement already satisfied: dill<0.3.7,>=0.3.0 in /usr/local/lib/python3.10/dist-packages (from datasets>=2.7.0->cleanlab[datalab]) (0.3.6)\n",
            "Requirement already satisfied: requests>=2.19.0 in /usr/local/lib/python3.10/dist-packages (from datasets>=2.7.0->cleanlab[datalab]) (2.27.1)\n",
            "Requirement already satisfied: xxhash in /usr/local/lib/python3.10/dist-packages (from datasets>=2.7.0->cleanlab[datalab]) (3.2.0)\n",
            "Requirement already satisfied: multiprocess in /usr/local/lib/python3.10/dist-packages (from datasets>=2.7.0->cleanlab[datalab]) (0.70.14)\n",
            "Requirement already satisfied: fsspec[http]>=2021.11.1 in /usr/local/lib/python3.10/dist-packages (from datasets>=2.7.0->cleanlab[datalab]) (2023.4.0)\n",
            "Requirement already satisfied: aiohttp in /usr/local/lib/python3.10/dist-packages (from datasets>=2.7.0->cleanlab[datalab]) (3.8.4)\n",
            "Requirement already satisfied: huggingface-hub<1.0.0,>=0.11.0 in /usr/local/lib/python3.10/dist-packages (from datasets>=2.7.0->cleanlab[datalab]) (0.15.1)\n",
            "Requirement already satisfied: packaging in /usr/local/lib/python3.10/dist-packages (from datasets>=2.7.0->cleanlab[datalab]) (23.1)\n",
            "Requirement already satisfied: responses<0.19 in /usr/local/lib/python3.10/dist-packages (from datasets>=2.7.0->cleanlab[datalab]) (0.18.0)\n",
            "Requirement already satisfied: pyyaml>=5.1 in /usr/local/lib/python3.10/dist-packages (from datasets>=2.7.0->cleanlab[datalab]) (6.0)\n",
            "Requirement already satisfied: python-dateutil>=2.8.1 in /usr/local/lib/python3.10/dist-packages (from pandas>=1.1.5->cleanlab[datalab]) (2.8.2)\n",
            "Requirement already satisfied: pytz>=2020.1 in /usr/local/lib/python3.10/dist-packages (from pandas>=1.1.5->cleanlab[datalab]) (2022.7.1)\n",
            "Requirement already satisfied: scipy>=1.3.2 in /usr/local/lib/python3.10/dist-packages (from scikit-learn>=1.0->cleanlab[datalab]) (1.10.1)\n",
            "Requirement already satisfied: joblib>=1.1.1 in /usr/local/lib/python3.10/dist-packages (from scikit-learn>=1.0->cleanlab[datalab]) (1.2.0)\n",
            "Requirement already satisfied: threadpoolctl>=2.0.0 in /usr/local/lib/python3.10/dist-packages (from scikit-learn>=1.0->cleanlab[datalab]) (3.1.0)\n",
            "Requirement already satisfied: attrs>=17.3.0 in /usr/local/lib/python3.10/dist-packages (from aiohttp->datasets>=2.7.0->cleanlab[datalab]) (23.1.0)\n",
            "Requirement already satisfied: charset-normalizer<4.0,>=2.0 in /usr/local/lib/python3.10/dist-packages (from aiohttp->datasets>=2.7.0->cleanlab[datalab]) (2.0.12)\n",
            "Requirement already satisfied: multidict<7.0,>=4.5 in /usr/local/lib/python3.10/dist-packages (from aiohttp->datasets>=2.7.0->cleanlab[datalab]) (6.0.4)\n",
            "Requirement already satisfied: async-timeout<5.0,>=4.0.0a3 in /usr/local/lib/python3.10/dist-packages (from aiohttp->datasets>=2.7.0->cleanlab[datalab]) (4.0.2)\n",
            "Requirement already satisfied: yarl<2.0,>=1.0 in /usr/local/lib/python3.10/dist-packages (from aiohttp->datasets>=2.7.0->cleanlab[datalab]) (1.9.2)\n",
            "Requirement already satisfied: frozenlist>=1.1.1 in /usr/local/lib/python3.10/dist-packages (from aiohttp->datasets>=2.7.0->cleanlab[datalab]) (1.3.3)\n",
            "Requirement already satisfied: aiosignal>=1.1.2 in /usr/local/lib/python3.10/dist-packages (from aiohttp->datasets>=2.7.0->cleanlab[datalab]) (1.3.1)\n",
            "Requirement already satisfied: filelock in /usr/local/lib/python3.10/dist-packages (from huggingface-hub<1.0.0,>=0.11.0->datasets>=2.7.0->cleanlab[datalab]) (3.12.0)\n",
            "Requirement already satisfied: typing-extensions>=3.7.4.3 in /usr/local/lib/python3.10/dist-packages (from huggingface-hub<1.0.0,>=0.11.0->datasets>=2.7.0->cleanlab[datalab]) (4.5.0)\n",
            "Requirement already satisfied: six>=1.5 in /usr/local/lib/python3.10/dist-packages (from python-dateutil>=2.8.1->pandas>=1.1.5->cleanlab[datalab]) (1.16.0)\n",
            "Requirement already satisfied: urllib3<1.27,>=1.21.1 in /usr/local/lib/python3.10/dist-packages (from requests>=2.19.0->datasets>=2.7.0->cleanlab[datalab]) (1.26.15)\n",
            "Requirement already satisfied: certifi>=2017.4.17 in /usr/local/lib/python3.10/dist-packages (from requests>=2.19.0->datasets>=2.7.0->cleanlab[datalab]) (2022.12.7)\n",
            "Requirement already satisfied: idna<4,>=2.5 in /usr/local/lib/python3.10/dist-packages (from requests>=2.19.0->datasets>=2.7.0->cleanlab[datalab]) (3.4)\n"
          ]
        }
      ]
    },
    {
      "cell_type": "code",
      "source": [
        "import numpy as np\n",
        "import spacy\n",
        "from typing import Dict, List, Tuple, Union\n",
        "import pandas as pd\n",
        "import matplotlib.pyplot as plt\n",
        "#import altair as alt\n",
        "import seaborn as sns\n",
        "from sklearn.manifold import TSNE\n",
        "from sklearn.model_selection import train_test_split, GridSearchCV, cross_val_predict, StratifiedKFold, KFold\n",
        "from sklearn.linear_model import LogisticRegression, LogisticRegressionCV, LinearRegression\n",
        "from sklearn.preprocessing import StandardScaler, normalize, MinMaxScaler\n",
        "from sklearn.svm import SVC\n",
        "from sklearn.tree import DecisionTreeClassifier, DecisionTreeRegressor\n",
        "from sklearn.ensemble import RandomForestClassifier, AdaBoostClassifier, GradientBoostingClassifier, VotingClassifier, RandomForestRegressor, AdaBoostRegressor, GradientBoostingRegressor, VotingRegressor\n",
        "from sklearn.neighbors import KNeighborsClassifier\n",
        "from sklearn.naive_bayes import GaussianNB,MultinomialNB\n",
        "from sklearn.metrics import silhouette_score, classification_report, accuracy_score,hamming_loss\n",
        "from sklearn.cluster import KMeans\n",
        "from sklearn.pipeline import Pipeline\n",
        "from sklearn.metrics import silhouette_samples, silhouette_score\n",
        "from sklearn.cluster import KMeans\n",
        "from numpy import argmax\n",
        "from tensorflow.keras.models import Model\n",
        "from tensorflow.keras.layers import Input\n",
        "from tensorflow.keras.layers import Dense\n",
        "from tensorflow.keras.layers import LeakyReLU\n",
        "from tensorflow.keras.layers import BatchNormalization\n",
        "from tensorflow.keras.utils import plot_model"
      ],
      "metadata": {
        "id": "gGV3uEx5ftpI"
      },
      "execution_count": null,
      "outputs": []
    },
    {
      "cell_type": "code",
      "source": [
        "#data1=pd.read_excel('/content/Child_DDS_sample.xlsx')\n",
        "data2=pd.read_excel('/content/MIRAMAHARO_WDDS (version 1).xlsx')\n",
        "#data3=pd.read_excel('/content/MVH_toilet_sample.xlsx')\n",
        "#data4=pd.read_excel('/content/women_sda_sample_detail_table.xlsx')\n",
        "data5=pd.read_excel('/content/DFSA_MAHARO_PARTICIPANTS.xlsx')\n",
        "#data_=data[['silc_group_member', 'gfv_cg_group_member', 'other_group_member', 'ration_protection', 'millejours', 'voucher_agri', 'voucher_elevage', 'voucher_peche']]\n",
        "#data_=data[['silc_group_member', 'gfv_cg_group_member', 'other_group_member', 'ration_protection', 'millejours', 'voucher_agri', 'voucher_elevage', 'voucher_peche', 'gfd']]"
      ],
      "metadata": {
        "id": "Nr11DbOKeM5I"
      },
      "execution_count": null,
      "outputs": []
    },
    {
      "cell_type": "code",
      "source": [
        "data2.info()"
      ],
      "metadata": {
        "colab": {
          "base_uri": "https://localhost:8080/"
        },
        "id": "yN-gKobJxgCV",
        "outputId": "f3362071-3614-42ed-9347-afa1998c70c7"
      },
      "execution_count": null,
      "outputs": [
        {
          "output_type": "stream",
          "name": "stdout",
          "text": [
            "<class 'pandas.core.frame.DataFrame'>\n",
            "RangeIndex: 583 entries, 0 to 582\n",
            "Data columns (total 30 columns):\n",
            " #   Column                  Non-Null Count  Dtype  \n",
            "---  ------                  --------------  -----  \n",
            " 0   district                583 non-null    object \n",
            " 1   commune                 583 non-null    object \n",
            " 2   fokontany               583 non-null    object \n",
            " 3   code_menage             583 non-null    object \n",
            " 4   type_individus          583 non-null    object \n",
            " 5   sexe                    583 non-null    object \n",
            " 6   taille_menage           583 non-null    int64  \n",
            " 7   age                     583 non-null    int64  \n",
            " 8   2022-08-01 00:00:00     543 non-null    float64\n",
            " 9   2022-09-01 00:00:00     536 non-null    float64\n",
            " 10  2022-10-01 00:00:00     521 non-null    float64\n",
            " 11  2022-11-01 00:00:00     523 non-null    float64\n",
            " 12  2022-12-01 00:00:00     531 non-null    float64\n",
            " 13  2023-01-01 00:00:00     548 non-null    float64\n",
            " 14  2023-02-01 00:00:00     435 non-null    float64\n",
            " 15  2023-03-01 00:00:00     483 non-null    float64\n",
            " 16  LAST SCORE              583 non-null    int64  \n",
            " 17  MVH                     583 non-null    int64  \n",
            " 18  SILC                    583 non-null    int64  \n",
            " 19  groupe_elevage          583 non-null    int64  \n",
            " 20  groupe_agriculture      583 non-null    int64  \n",
            " 21  groupe_peche            583 non-null    int64  \n",
            " 22  literacy                583 non-null    int64  \n",
            " 23  vouchers_all            583 non-null    int64  \n",
            " 24  voucher_elevage         583 non-null    int64  \n",
            " 25  voucher_peche           583 non-null    int64  \n",
            " 26  voucher_agri            583 non-null    int64  \n",
            " 27  dist_GFD                583 non-null    int64  \n",
            " 28  dist_ration_protection  583 non-null    int64  \n",
            " 29  dist_1000Jours          583 non-null    int64  \n",
            "dtypes: float64(8), int64(16), object(6)\n",
            "memory usage: 136.8+ KB\n"
          ]
        }
      ]
    },
    {
      "cell_type": "code",
      "source": [
        "data2['LAST SCORE']"
      ],
      "metadata": {
        "colab": {
          "base_uri": "https://localhost:8080/"
        },
        "id": "8BMj6qCGtDaF",
        "outputId": "efab8537-0cf4-42d6-9a2f-807944d3dbe6"
      },
      "execution_count": null,
      "outputs": [
        {
          "output_type": "execute_result",
          "data": {
            "text/plain": [
              "0      7\n",
              "1      3\n",
              "2      2\n",
              "3      5\n",
              "4      6\n",
              "      ..\n",
              "578    3\n",
              "579    3\n",
              "580    2\n",
              "581    1\n",
              "582    3\n",
              "Name: LAST SCORE, Length: 583, dtype: int64"
            ]
          },
          "metadata": {},
          "execution_count": 8
        }
      ]
    },
    {
      "cell_type": "code",
      "source": [
        "data5.columns"
      ],
      "metadata": {
        "colab": {
          "base_uri": "https://localhost:8080/"
        },
        "id": "ij7_b5CxaLRX",
        "outputId": "b77831d3-705d-4cd7-d0de-449b417f106c"
      },
      "execution_count": null,
      "outputs": [
        {
          "output_type": "execute_result",
          "data": {
            "text/plain": [
              "Index(['district', 'commune', 'fokontany', 'code_menage', 'type_individus',\n",
              "       'sexe', 'age', 'SILC', 'groupe_elevage', 'groupe_agriculture',\n",
              "       'groupe_peche', 'literacy', 'MVH', 'vouchers_all', 'voucher_elevage',\n",
              "       'voucher_peche', 'voucher_agri', 'dist_GFD', 'dist_ration_protection',\n",
              "       'dist_1000Jours'],\n",
              "      dtype='object')"
            ]
          },
          "metadata": {},
          "execution_count": 9
        }
      ]
    },
    {
      "cell_type": "code",
      "source": [
        "data5['sexe'].unique()"
      ],
      "metadata": {
        "colab": {
          "base_uri": "https://localhost:8080/"
        },
        "id": "vKvccEXYamnn",
        "outputId": "3fdf50f4-69d4-4318-b304-4af38b14b7b0"
      },
      "execution_count": null,
      "outputs": [
        {
          "output_type": "execute_result",
          "data": {
            "text/plain": [
              "array(['femme', 'homme'], dtype=object)"
            ]
          },
          "metadata": {},
          "execution_count": 10
        }
      ]
    },
    {
      "cell_type": "code",
      "source": [
        "plt.figure(figsize=(12,6))\n",
        "plt.hist([data2['SILC'], data2['groupe_elevage'], data2['groupe_agriculture'], data2['groupe_peche'], data2['literacy'], data2['voucher_elevage'], data2['voucher_peche'], data2['voucher_agri'], data2['dist_GFD'], data2['dist_ration_protection'], data2['dist_1000Jours']], label=['SILC', 'groupe_elevage', 'groupe_agriculture',\n",
        "       'groupe_peche', 'literacy', 'voucher_elevage',\n",
        "       'voucher_peche', 'voucher_agri', 'dist_GFD', 'dist_ration_protection',\n",
        "       'dist_1000Jours'])\n",
        "plt.legend()\n",
        "plt.show()"
      ],
      "metadata": {
        "colab": {
          "base_uri": "https://localhost:8080/",
          "height": 525
        },
        "id": "-5TfwQr4jTS-",
        "outputId": "df6de3a1-14fb-4cca-df11-6f86eb1d2818"
      },
      "execution_count": null,
      "outputs": [
        {
          "output_type": "display_data",
          "data": {
            "text/plain": [
              "<Figure size 1200x600 with 1 Axes>"
            ],
            "image/png": "[encoded data removed]"
          },
          "metadata": {}
        }
      ]
    },
    {
      "cell_type": "code",
      "source": [
        "for i in range(len(data2)):\n",
        "  if data2.loc[i, 'LAST SCORE']<=3:\n",
        "    data2.loc[i, 'CATEGORIES']='Low'\n",
        "  elif data2.loc[i, 'LAST SCORE']>3 and data2.loc[i, 'LAST SCORE']<=5:\n",
        "    data2.loc[i, 'CATEGORIES']='Medium'\n",
        "  else:\n",
        "    data2.loc[i, 'CATEGORIES']='High'"
      ],
      "metadata": {
        "id": "Y5_CfX-G3bAK"
      },
      "execution_count": null,
      "outputs": []
    },
    {
      "cell_type": "code",
      "source": [
        "d=data2[data2['CATEGORIES']=='High']\n",
        "sns.distplot(d['LAST SCORE'])"
      ],
      "metadata": {
        "colab": {
          "base_uri": "https://localhost:8080/",
          "height": 665
        },
        "id": "O75FGItc4gjk",
        "outputId": "be2f0ee4-3f99-4e35-dcd7-a57ea54b2149"
      },
      "execution_count": null,
      "outputs": [
        {
          "output_type": "stream",
          "name": "stderr",
          "text": [
            "<ipython-input-13-c9a9d3e7d83f>:2: UserWarning: \n",
            "\n",
            "`distplot` is a deprecated function and will be removed in seaborn v0.14.0.\n",
            "\n",
            "Please adapt your code to use either `displot` (a figure-level function with\n",
            "similar flexibility) or `histplot` (an axes-level function for histograms).\n",
            "\n",
            "For a guide to updating your code to use the new functions, please see\n",
            "https://gist.github.com/mwaskom/de44147ed2974457ad6372750bbe5751\n",
            "\n",
            "  sns.distplot(d['LAST SCORE'])\n"
          ]
        },
        {
          "output_type": "execute_result",
          "data": {
            "text/plain": [
              "<Axes: xlabel='LAST SCORE', ylabel='Density'>"
            ]
          },
          "metadata": {},
          "execution_count": 13
        },
        {
          "output_type": "display_data",
          "data": {
            "text/plain": [
              "<Figure size 640x480 with 1 Axes>"
            ],
            "image/png": "[encoded data removed]"
          },
          "metadata": {}
        }
      ]
    },
    {
      "cell_type": "code",
      "source": [
        "#data2=data2[data2['MVH']==1].reset_index().drop('index', axis=1)"
      ],
      "metadata": {
        "id": "SbYi1WBA5AsA"
      },
      "execution_count": null,
      "outputs": []
    },
    {
      "cell_type": "code",
      "source": [
        "data5['sexe'].replace(['femme', 'homme'], [1,0], inplace=True)\n",
        "data2['sexe'].replace(['femme', 'homme'], [1,0], inplace=True)\n",
        "data_=data5[['sexe', 'age', 'SILC', 'groupe_elevage', 'groupe_agriculture',\n",
        "       'groupe_peche', 'literacy', 'voucher_elevage',\n",
        "       'voucher_peche', 'voucher_agri', 'dist_GFD', 'dist_ration_protection',\n",
        "       'dist_1000Jours']]\n",
        "X=data2[['SILC', 'groupe_elevage', 'groupe_agriculture',\n",
        "       'groupe_peche', 'literacy', 'voucher_elevage',\n",
        "       'voucher_peche', 'voucher_agri', 'dist_GFD', 'dist_ration_protection',\n",
        "       'dist_1000Jours']]#.rename(columns={'age_chef_menage':'age'})\n",
        "\n",
        "#X_=data2[['sexe', 'nbr_bovin', 'type_menage', 'activite_principale', 'SILC', 'groupe_elevage', 'groupe_agriculture',\n",
        "       #'groupe_peche', 'literacy', 'voucher_elevage',\n",
        "       #'voucher_peche', 'voucher_agri', 'dist_GFD', 'dist_ration_protection',\n",
        "       #'dist_1000Jours']].rename(columns={'age_chef_menage':'age'})\n",
        "Y=data2['CATEGORIES']\n",
        "data2['CATEGORIES_']=data2['CATEGORIES'].replace(['Low', 'Medium', 'High'], [0,1,2])\n",
        "Y_=data2['CATEGORIES_']"
      ],
      "metadata": {
        "id": "7H87ATKEcRED"
      },
      "execution_count": null,
      "outputs": []
    },
    {
      "cell_type": "code",
      "source": [
        "Y_.value_counts()"
      ],
      "metadata": {
        "colab": {
          "base_uri": "https://localhost:8080/"
        },
        "id": "9jQeZ3WtnEoD",
        "outputId": "6ec7b18e-79d7-4bb0-dc17-42e7319be366"
      },
      "execution_count": null,
      "outputs": [
        {
          "output_type": "execute_result",
          "data": {
            "text/plain": [
              "0    465\n",
              "1    104\n",
              "2     14\n",
              "Name: CATEGORIES_, dtype: int64"
            ]
          },
          "metadata": {},
          "execution_count": 14
        }
      ]
    },
    {
      "cell_type": "code",
      "source": [
        "#sns.distplot(data2['age_chef_menage'])\n",
        "#X_.to_csv('feat.csv', index=False)"
      ],
      "metadata": {
        "id": "0oiwL61wGLqh"
      },
      "execution_count": null,
      "outputs": []
    },
    {
      "cell_type": "code",
      "source": [
        "X_=X.replace([0,1], ['no', 'yes'])"
      ],
      "metadata": {
        "id": "cTkAyanScZ4z"
      },
      "execution_count": null,
      "outputs": []
    },
    {
      "cell_type": "code",
      "source": [
        "scaler=StandardScaler()\n",
        "X['age']=scaler.fit_transform(X[['age']])\n",
        "#X_=pd.get_dummies(X_, columns=['type_menage', 'activite_principale', 'nbr_bovin'])\n",
        "#X=pd.get_dummies(X, columns=['nbr_bovin'])"
      ],
      "metadata": {
        "id": "DzFeNikSMXha"
      },
      "execution_count": null,
      "outputs": []
    },
    {
      "cell_type": "code",
      "source": [
        "#help(TSNE)\n",
        "# for distnace https://docs.scipy.org/doc/scipy/reference/generated/scipy.spatial.distance.pdist.html"
      ],
      "metadata": {
        "id": "9A8enL0GMQ88"
      },
      "execution_count": null,
      "outputs": []
    },
    {
      "cell_type": "code",
      "source": [
        "tsne = TSNE(n_components=2, random_state=7, metric='jaccard', perplexity=10)"
      ],
      "metadata": {
        "id": "C3FH1Z6oHfkf"
      },
      "execution_count": null,
      "outputs": []
    },
    {
      "cell_type": "code",
      "source": [
        "embeddings_2d = tsne.fit_transform(X)\n",
        "figure = plt.figure(figsize=(11, 9))\n",
        "ax = figure.add_subplot(111)\n",
        "i = 0\n",
        "for color in ['blue', 'orange', 'red']:\n",
        "    ax.scatter(embeddings_2d[data2['CATEGORIES_'] == i][:,0], embeddings_2d[data2['CATEGORIES_'] == i][:,1], c=color, s=100, alpha=0.7, edgecolors='none')\n",
        "    ax.legend(['Low', 'Medium', 'High'])\n",
        "    i+=1"
      ],
      "metadata": {
        "colab": {
          "base_uri": "https://localhost:8080/",
          "height": 753
        },
        "id": "yB7g5gNNG_6f",
        "outputId": "e08bf21c-48d2-4d8b-fd0a-7f07e04035b5"
      },
      "execution_count": null,
      "outputs": [
        {
          "output_type": "display_data",
          "data": {
            "text/plain": [
              "<Figure size 1100x900 with 1 Axes>"
            ],
            "image/png": "[encoded data removed]"
          },
          "metadata": {}
        }
      ]
    },
    {
      "cell_type": "code",
      "source": [
        "#X_=pd.read_csv('/content/feta.csv')\n",
        "#X_"
      ],
      "metadata": {
        "id": "JnBjSzwle5Q1"
      },
      "execution_count": null,
      "outputs": []
    },
    {
      "cell_type": "markdown",
      "source": [
        "Lowest dietary diversity :  (≤ 3 food groups)\n",
        " Medium dietary diversity : (4 and 5 food groups)\n",
        "High dietary diversity : (≥ 6 food groups)"
      ],
      "metadata": {
        "id": "GAqxSeWev_F7"
      }
    },
    {
      "cell_type": "code",
      "source": [
        "#for i in range(len(df_t)):\n",
        "  #if df_t.loc[i, 'sda']<=3:\n",
        "    #df_t.loc[i, 'class']='Low'\n",
        "  #elif df_t.loc[i, 'sda'] in [4,5]:\n",
        "   # df_t.loc[i, 'class']='Medium'\n",
        "  #if df_t.loc[i, 'sda']>=6:\n",
        "   # df_t.loc[i, 'class']='High'"
      ],
      "metadata": {
        "id": "kTb_rQkRhqTs"
      },
      "execution_count": null,
      "outputs": []
    },
    {
      "cell_type": "code",
      "source": [
        "#X=df_t.drop(['code_menage', 'q56all', 'q57all', 'child_sda', 'location', 'cluster'], axis=1)\n",
        "#X=df_t.drop(['gps_village', 'code_individus', 'toilet'], axis=1)\n",
        "\n",
        "#Y=df_t[['class']].replace(['Low', 'Medium', 'High'], [0,1,2])\n",
        "#Y=pd.read_csv('/content/lab_child.csv')\n",
        "#Y=df_t[['child_sda']]"
      ],
      "metadata": {
        "id": "mGR0Y1bUe2SG"
      },
      "execution_count": null,
      "outputs": []
    },
    {
      "cell_type": "code",
      "source": [
        "#X[X.duplicated()]"
      ],
      "metadata": {
        "id": "mKYpVEItH0zI"
      },
      "execution_count": null,
      "outputs": []
    },
    {
      "cell_type": "markdown",
      "source": [
        "**Confident Learning**"
      ],
      "metadata": {
        "id": "owj7OjcGfjMB"
      }
    },
    {
      "cell_type": "code",
      "source": [
        "#logr_clf = LogisticRegressionCV(random_state=42, max_iter=1000)\n",
        "gb_clf = GradientBoostingClassifier(random_state=42)\n",
        "#adb_clf = AdaBoostClassifier(random_state=42)\n",
        "rf_clf = RandomForestClassifier(random_state=42)\n",
        "#dt_clf = DecisionTreeClassifier(random_state=42)\n",
        "#svm_clf = SVC(probability=True, random_state=42)\n",
        "vot_clf = VotingClassifier(estimators=[('gb', gb_clf), ('rf', rf_clf)], voting='soft')"
      ],
      "metadata": {
        "id": "MEahxbG0flTU"
      },
      "execution_count": null,
      "outputs": []
    },
    {
      "cell_type": "markdown",
      "source": [
        "Cleanlab"
      ],
      "metadata": {
        "id": "xR-m9dGYax-_"
      }
    },
    {
      "cell_type": "code",
      "source": [
        "cl_=CleanLearning(vot_clf)"
      ],
      "metadata": {
        "id": "69AedBkw0eIb"
      },
      "execution_count": null,
      "outputs": []
    },
    {
      "cell_type": "code",
      "source": [
        "Y.unique()"
      ],
      "metadata": {
        "colab": {
          "base_uri": "https://localhost:8080/"
        },
        "id": "jpuXBg-phZXi",
        "outputId": "824e8951-09c3-4444-ee03-0b89739b7fd2"
      },
      "execution_count": null,
      "outputs": [
        {
          "output_type": "execute_result",
          "data": {
            "text/plain": [
              "array(['Acceptable', 'Poor', 'Borderline'], dtype=object)"
            ]
          },
          "metadata": {},
          "execution_count": 15
        }
      ]
    },
    {
      "cell_type": "code",
      "source": [
        "Y_c=Y.replace(['Acceptable', 'Borderline', 'Poor'], [0,1,2])"
      ],
      "metadata": {
        "id": "VTPILwzrhVXb"
      },
      "execution_count": null,
      "outputs": []
    },
    {
      "cell_type": "code",
      "source": [
        "issues_all = cl_.find_label_issues(X, labels=Y_c.to_numpy().ravel())"
      ],
      "metadata": {
        "id": "VgbTw6LwfrlG"
      },
      "execution_count": null,
      "outputs": []
    },
    {
      "cell_type": "code",
      "source": [
        "issues_all[issues_all['is_label_issue']==True]['given_label'].value_counts()"
      ],
      "metadata": {
        "id": "GDYdQmHbRo89",
        "colab": {
          "base_uri": "https://localhost:8080/"
        },
        "outputId": "fe98aef9-a4fc-4d1b-f589-481c9d40aa28"
      },
      "execution_count": null,
      "outputs": [
        {
          "output_type": "execute_result",
          "data": {
            "text/plain": [
              "2    179\n",
              "0     91\n",
              "1     29\n",
              "Name: given_label, dtype: int64"
            ]
          },
          "metadata": {},
          "execution_count": 18
        }
      ]
    },
    {
      "cell_type": "code",
      "source": [
        "issues_all"
      ],
      "metadata": {
        "colab": {
          "base_uri": "https://localhost:8080/",
          "height": 424
        },
        "id": "h190dtGkiFyB",
        "outputId": "8e73fc16-ff48-4d14-e7c7-7b1e4ac5d9d5"
      },
      "execution_count": null,
      "outputs": [
        {
          "output_type": "execute_result",
          "data": {
            "text/plain": [
              "     is_label_issue  label_quality  given_label  predicted_label\n",
              "0             False       0.441034            0                0\n",
              "1             False       0.517289            0                0\n",
              "2              True       0.345006            2                0\n",
              "3             False       0.490659            0                0\n",
              "4             False       0.423396            0                0\n",
              "..              ...            ...          ...              ...\n",
              "892            True       0.303437            2                0\n",
              "893            True       0.326295            2                0\n",
              "894           False       0.468997            2                2\n",
              "895            True       0.338969            2                0\n",
              "896            True       0.315038            2                0\n",
              "\n",
              "[897 rows x 4 columns]"
            ],
            "text/html": [
              "\n",
              "  <div id=\"df-aedb1349-6692-4eca-82ef-bfae88775613\">\n",
              "    <div class=\"colab-df-container\">\n",
              "      <div>\n",
              "<style scoped>\n",
              "    .dataframe tbody tr th:only-of-type {\n",
              "        vertical-align: middle;\n",
              "    }\n",
              "\n",
              "    .dataframe tbody tr th {\n",
              "        vertical-align: top;\n",
              "    }\n",
              "\n",
              "    .dataframe thead th {\n",
              "        text-align: right;\n",
              "    }\n",
              "</style>\n",
              "<table border=\"1\" class=\"dataframe\">\n",
              "  <thead>\n",
              "    <tr style=\"text-align: right;\">\n",
              "      <th></th>\n",
              "      <th>is_label_issue</th>\n",
              "      <th>label_quality</th>\n",
              "      <th>given_label</th>\n",
              "      <th>predicted_label</th>\n",
              "    </tr>\n",
              "  </thead>\n",
              "  <tbody>\n",
              "    <tr>\n",
              "      <th>0</th>\n",
              "      <td>False</td>\n",
              "      <td>0.441034</td>\n",
              "      <td>0</td>\n",
              "      <td>0</td>\n",
              "    </tr>\n",
              "    <tr>\n",
              "      <th>1</th>\n",
              "      <td>False</td>\n",
              "      <td>0.517289</td>\n",
              "      <td>0</td>\n",
              "      <td>0</td>\n",
              "    </tr>\n",
              "    <tr>\n",
              "      <th>2</th>\n",
              "      <td>True</td>\n",
              "      <td>0.345006</td>\n",
              "      <td>2</td>\n",
              "      <td>0</td>\n",
              "    </tr>\n",
              "    <tr>\n",
              "      <th>3</th>\n",
              "      <td>False</td>\n",
              "      <td>0.490659</td>\n",
              "      <td>0</td>\n",
              "      <td>0</td>\n",
              "    </tr>\n",
              "    <tr>\n",
              "      <th>4</th>\n",
              "      <td>False</td>\n",
              "      <td>0.423396</td>\n",
              "      <td>0</td>\n",
              "      <td>0</td>\n",
              "    </tr>\n",
              "    <tr>\n",
              "      <th>...</th>\n",
              "      <td>...</td>\n",
              "      <td>...</td>\n",
              "      <td>...</td>\n",
              "      <td>...</td>\n",
              "    </tr>\n",
              "    <tr>\n",
              "      <th>892</th>\n",
              "      <td>True</td>\n",
              "      <td>0.303437</td>\n",
              "      <td>2</td>\n",
              "      <td>0</td>\n",
              "    </tr>\n",
              "    <tr>\n",
              "      <th>893</th>\n",
              "      <td>True</td>\n",
              "      <td>0.326295</td>\n",
              "      <td>2</td>\n",
              "      <td>0</td>\n",
              "    </tr>\n",
              "    <tr>\n",
              "      <th>894</th>\n",
              "      <td>False</td>\n",
              "      <td>0.468997</td>\n",
              "      <td>2</td>\n",
              "      <td>2</td>\n",
              "    </tr>\n",
              "    <tr>\n",
              "      <th>895</th>\n",
              "      <td>True</td>\n",
              "      <td>0.338969</td>\n",
              "      <td>2</td>\n",
              "      <td>0</td>\n",
              "    </tr>\n",
              "    <tr>\n",
              "      <th>896</th>\n",
              "      <td>True</td>\n",
              "      <td>0.315038</td>\n",
              "      <td>2</td>\n",
              "      <td>0</td>\n",
              "    </tr>\n",
              "  </tbody>\n",
              "</table>\n",
              "<p>897 rows × 4 columns</p>\n",
              "</div>\n",
              "      <button class=\"colab-df-convert\" onclick=\"convertToInteractive('df-aedb1349-6692-4eca-82ef-bfae88775613')\"\n",
              "              title=\"Convert this dataframe to an interactive table.\"\n",
              "              style=\"display:none;\">\n",
              "        \n",
              "  <svg xmlns=\"http://www.w3.org/2000/svg\" height=\"24px\"viewBox=\"0 0 24 24\"\n",
              "       width=\"24px\">\n",
              "    <path d=\"M0 0h24v24H0V0z\" fill=\"none\"/>\n",
              "    <path d=\"M18.56 5.44l.94 2.06.94-2.06 2.06-.94-2.06-.94-.94-2.06-.94 2.06-2.06.94zm-11 1L8.5 8.5l.94-2.06 2.06-.94-2.06-.94L8.5 2.5l-.94 2.06-2.06.94zm10 10l.94 2.06.94-2.06 2.06-.94-2.06-.94-.94-2.06-.94 2.06-2.06.94z\"/><path d=\"M17.41 7.96l-1.37-1.37c-.4-.4-.92-.59-1.43-.59-.52 0-1.04.2-1.43.59L10.3 9.45l-7.72 7.72c-.78.78-.78 2.05 0 2.83L4 21.41c.39.39.9.59 1.41.59.51 0 1.02-.2 1.41-.59l7.78-7.78 2.81-2.81c.8-.78.8-2.07 0-2.86zM5.41 20L4 18.59l7.72-7.72 1.47 1.35L5.41 20z\"/>\n",
              "  </svg>\n",
              "      </button>\n",
              "      \n",
              "  <style>\n",
              "    .colab-df-container {\n",
              "      display:flex;\n",
              "      flex-wrap:wrap;\n",
              "      gap: 12px;\n",
              "    }\n",
              "\n",
              "    .colab-df-convert {\n",
              "      background-color: #E8F0FE;\n",
              "      border: none;\n",
              "      border-radius: 50%;\n",
              "      cursor: pointer;\n",
              "      display: none;\n",
              "      fill: #1967D2;\n",
              "      height: 32px;\n",
              "      padding: 0 0 0 0;\n",
              "      width: 32px;\n",
              "    }\n",
              "\n",
              "    .colab-df-convert:hover {\n",
              "      background-color: #E2EBFA;\n",
              "      box-shadow: 0px 1px 2px rgba(60, 64, 67, 0.3), 0px 1px 3px 1px rgba(60, 64, 67, 0.15);\n",
              "      fill: #174EA6;\n",
              "    }\n",
              "\n",
              "    [theme=dark] .colab-df-convert {\n",
              "      background-color: #3B4455;\n",
              "      fill: #D2E3FC;\n",
              "    }\n",
              "\n",
              "    [theme=dark] .colab-df-convert:hover {\n",
              "      background-color: #434B5C;\n",
              "      box-shadow: 0px 1px 3px 1px rgba(0, 0, 0, 0.15);\n",
              "      filter: drop-shadow(0px 1px 2px rgba(0, 0, 0, 0.3));\n",
              "      fill: #FFFFFF;\n",
              "    }\n",
              "  </style>\n",
              "\n",
              "      <script>\n",
              "        const buttonEl =\n",
              "          document.querySelector('#df-aedb1349-6692-4eca-82ef-bfae88775613 button.colab-df-convert');\n",
              "        buttonEl.style.display =\n",
              "          google.colab.kernel.accessAllowed ? 'block' : 'none';\n",
              "\n",
              "        async function convertToInteractive(key) {\n",
              "          const element = document.querySelector('#df-aedb1349-6692-4eca-82ef-bfae88775613');\n",
              "          const dataTable =\n",
              "            await google.colab.kernel.invokeFunction('convertToInteractive',\n",
              "                                                     [key], {});\n",
              "          if (!dataTable) return;\n",
              "\n",
              "          const docLinkHtml = 'Like what you see? Visit the ' +\n",
              "            '<a target=\"_blank\" href=https://colab.research.google.com/notebooks/data_table.ipynb>data table notebook</a>'\n",
              "            + ' to learn more about interactive tables.';\n",
              "          element.innerHTML = '';\n",
              "          dataTable['output_type'] = 'display_data';\n",
              "          await google.colab.output.renderOutput(dataTable, element);\n",
              "          const docLink = document.createElement('div');\n",
              "          docLink.innerHTML = docLinkHtml;\n",
              "          element.appendChild(docLink);\n",
              "        }\n",
              "      </script>\n",
              "    </div>\n",
              "  </div>\n",
              "  "
            ]
          },
          "metadata": {},
          "execution_count": 19
        }
      ]
    },
    {
      "cell_type": "code",
      "source": [
        "rk=issues_all[issues_all['is_label_issue']==True].index.tolist()"
      ],
      "metadata": {
        "id": "2yuG7U7_gAWC"
      },
      "execution_count": null,
      "outputs": []
    },
    {
      "cell_type": "code",
      "source": [
        "Y_c=Y_c.reset_index().drop('index', axis=1)"
      ],
      "metadata": {
        "id": "pqYckPvOniIy"
      },
      "execution_count": null,
      "outputs": []
    },
    {
      "cell_type": "code",
      "source": [
        "for i in rk:\n",
        "  Y_c.loc[i]=issues_all.loc[i, 'predicted_label']"
      ],
      "metadata": {
        "id": "MwbysN_iiU5a"
      },
      "execution_count": null,
      "outputs": []
    },
    {
      "cell_type": "code",
      "source": [
        "#rk\n",
        "for i in rk:\n",
        "  Y_c.loc[i, 'child_sda']=issues_all.loc[i, 'predicted_label']"
      ],
      "metadata": {
        "id": "nI6SxNNCUkw6"
      },
      "execution_count": null,
      "outputs": []
    },
    {
      "cell_type": "code",
      "source": [
        "y_testc.loc[7, 'fcs']=2\n",
        "y_testc.loc[19, 'fcs']=2\n",
        "y_testc.loc[23, 'fcs']=2\n",
        "#y_testc"
      ],
      "metadata": {
        "id": "9sgHzYIaoAdV"
      },
      "execution_count": null,
      "outputs": []
    },
    {
      "cell_type": "code",
      "source": [
        "for i in rk:\n",
        "  if Y.loc[i, 'toilet']==1:\n",
        "    Y.loc[i, 'toilet']=0\n",
        "  elif Y.loc[i, 'toilet']==0:\n",
        "    Y.loc[i, 'toilet']=1"
      ],
      "metadata": {
        "id": "Uc6Vg6hMgLLa"
      },
      "execution_count": null,
      "outputs": []
    },
    {
      "cell_type": "markdown",
      "source": [
        "Datalab"
      ],
      "metadata": {
        "id": "QW-ajrxka0in"
      }
    },
    {
      "cell_type": "code",
      "source": [
        "clf=vot_clf\n",
        "labels=Y_"
      ],
      "metadata": {
        "id": "PUm0HD2Ta6Pf"
      },
      "execution_count": null,
      "outputs": []
    },
    {
      "cell_type": "code",
      "source": [
        "num_crossval_folds = 5\n",
        "pred_probs = cross_val_predict(clf, X, labels, cv=num_crossval_folds, method='predict_proba',)"
      ],
      "metadata": {
        "id": "kOWKzcBbamId"
      },
      "execution_count": null,
      "outputs": []
    },
    {
      "cell_type": "code",
      "source": [
        "#from cleanlab import Datalab"
      ],
      "metadata": {
        "id": "xb-ekYbMpzzI"
      },
      "execution_count": null,
      "outputs": []
    },
    {
      "cell_type": "code",
      "source": [
        "data=pd.concat([X, data2[['CATEGORIES_']]], axis=1)\n",
        "lab = Datalab(data, label_name=\"CATEGORIES_\")\n",
        "lab.find_issues(pred_probs=pred_probs, features=X.values)"
      ],
      "metadata": {
        "colab": {
          "base_uri": "https://localhost:8080/"
        },
        "id": "ewZqjW9jj9VB",
        "outputId": "55e9220e-7074-431e-d21c-377b3d612225"
      },
      "execution_count": null,
      "outputs": [
        {
          "output_type": "stream",
          "name": "stdout",
          "text": [
            "Finding label issues ...\n",
            "Finding outlier issues ...\n",
            "Fitting OOD estimator based on provided features ...\n",
            "Finding near_duplicate issues ...\n",
            "Audit complete. 569 issues found in the dataset.\n"
          ]
        }
      ]
    },
    {
      "cell_type": "code",
      "source": [
        "lab.report()"
      ],
      "metadata": {
        "id": "PV4TXr2juAmJ",
        "colab": {
          "base_uri": "https://localhost:8080/"
        },
        "outputId": "49f178dd-5d30-405b-ec8a-980454f01f40"
      },
      "execution_count": null,
      "outputs": [
        {
          "output_type": "stream",
          "name": "stdout",
          "text": [
            "Here is a summary of the different kinds of issues found in the data:\n",
            "\n",
            "    issue_type  num_issues\n",
            "         label         468\n",
            "       outlier         101\n",
            "near_duplicate           0\n",
            "\n",
            "Dataset Information: num_examples: 897, num_classes: 3\n",
            "\n",
            "\n",
            "----------------------- label issues -----------------------\n",
            "\n",
            "About this issue:\n",
            "\tExamples whose given label is estimated to be potentially incorrect\n",
            "    (e.g. due to annotation error) are flagged as having label issues.\n",
            "    \n",
            "\n",
            "Number of examples with this issue: 468\n",
            "Overall dataset quality in terms of this issue: 0.3099\n",
            "\n",
            "Examples representing most severe instances of this issue:\n",
            "     is_label_issue  label_score  given_label  predicted_label\n",
            "699            True     0.019378            1                2\n",
            "680            True     0.020084            0                2\n",
            "57             True     0.022855            2                1\n",
            "44             True     0.029106            2                1\n",
            "527            True     0.031171            1                2\n",
            "\n",
            "\n",
            "---------------------- outlier issues ----------------------\n",
            "\n",
            "About this issue:\n",
            "\tExamples that are very different from the rest of the dataset \n",
            "    (i.e. potentially out-of-distribution or rare/anomalous instances).\n",
            "    \n",
            "\n",
            "Number of examples with this issue: 101\n",
            "Overall dataset quality in terms of this issue: 0.9596\n",
            "\n",
            "Examples representing most severe instances of this issue:\n",
            "     is_outlier_issue  outlier_score\n",
            "530              True       0.367879\n",
            "405              True       0.367879\n",
            "875              True       0.367879\n",
            "245              True       0.367879\n",
            "324              True       0.367879\n",
            "\n",
            "\n",
            "------------------ near_duplicate issues -------------------\n",
            "\n",
            "About this issue:\n",
            "\tA (near) duplicate issue refers to two or more examples in\n",
            "    a dataset that are extremely similar to each other, relative\n",
            "    to the rest of the dataset.  The examples flagged with this issue\n",
            "    may be exactly duplicated, or lie atypically close together when\n",
            "    represented as vectors (i.e. feature embeddings).\n",
            "    \n",
            "\n",
            "Number of examples with this issue: 0\n",
            "Overall dataset quality in terms of this issue: 0.0249\n",
            "\n",
            "Examples representing most severe instances of this issue:\n",
            "     is_near_duplicate_issue  near_duplicate_score                                 near_duplicate_sets  distance_to_nearest_neighbor\n",
            "0                      False                   0.0  [460, 363, 468, 463, 462, 461, 459, 427, 432, 625]                           0.0\n",
            "513                    False                   0.0   [215, 585, 282, 222, 209, 92, 141, 758, 731, 738]                           0.0\n",
            "514                    False                   0.0                 [527, 268, 675, 128, 180, 271, 597]                           0.0\n",
            "521                    False                   0.0  [250, 249, 273, 279, 679, 265, 308, 295, 688, 297]                           0.0\n",
            "522                    False                   0.0                                          [238, 602]                           0.0\n"
          ]
        }
      ]
    },
    {
      "cell_type": "code",
      "source": [
        "lab.get_issue_summary()"
      ],
      "metadata": {
        "colab": {
          "base_uri": "https://localhost:8080/",
          "height": 143
        },
        "id": "a6wZBRf5_vat",
        "outputId": "6601fac9-5eac-4ab5-d996-d33df26d731d"
      },
      "execution_count": null,
      "outputs": [
        {
          "output_type": "execute_result",
          "data": {
            "text/plain": [
              "       issue_type     score  num_issues\n",
              "0           label  0.309922         468\n",
              "1         outlier  0.959577         101\n",
              "2  near_duplicate  0.024866           0"
            ],
            "text/html": [
              "\n",
              "  <div id=\"df-03eb066b-051e-4999-b933-87e0b234ba9c\">\n",
              "    <div class=\"colab-df-container\">\n",
              "      <div>\n",
              "<style scoped>\n",
              "    .dataframe tbody tr th:only-of-type {\n",
              "        vertical-align: middle;\n",
              "    }\n",
              "\n",
              "    .dataframe tbody tr th {\n",
              "        vertical-align: top;\n",
              "    }\n",
              "\n",
              "    .dataframe thead th {\n",
              "        text-align: right;\n",
              "    }\n",
              "</style>\n",
              "<table border=\"1\" class=\"dataframe\">\n",
              "  <thead>\n",
              "    <tr style=\"text-align: right;\">\n",
              "      <th></th>\n",
              "      <th>issue_type</th>\n",
              "      <th>score</th>\n",
              "      <th>num_issues</th>\n",
              "    </tr>\n",
              "  </thead>\n",
              "  <tbody>\n",
              "    <tr>\n",
              "      <th>0</th>\n",
              "      <td>label</td>\n",
              "      <td>0.309922</td>\n",
              "      <td>468</td>\n",
              "    </tr>\n",
              "    <tr>\n",
              "      <th>1</th>\n",
              "      <td>outlier</td>\n",
              "      <td>0.959577</td>\n",
              "      <td>101</td>\n",
              "    </tr>\n",
              "    <tr>\n",
              "      <th>2</th>\n",
              "      <td>near_duplicate</td>\n",
              "      <td>0.024866</td>\n",
              "      <td>0</td>\n",
              "    </tr>\n",
              "  </tbody>\n",
              "</table>\n",
              "</div>\n",
              "      <button class=\"colab-df-convert\" onclick=\"convertToInteractive('df-03eb066b-051e-4999-b933-87e0b234ba9c')\"\n",
              "              title=\"Convert this dataframe to an interactive table.\"\n",
              "              style=\"display:none;\">\n",
              "        \n",
              "  <svg xmlns=\"http://www.w3.org/2000/svg\" height=\"24px\"viewBox=\"0 0 24 24\"\n",
              "       width=\"24px\">\n",
              "    <path d=\"M0 0h24v24H0V0z\" fill=\"none\"/>\n",
              "    <path d=\"M18.56 5.44l.94 2.06.94-2.06 2.06-.94-2.06-.94-.94-2.06-.94 2.06-2.06.94zm-11 1L8.5 8.5l.94-2.06 2.06-.94-2.06-.94L8.5 2.5l-.94 2.06-2.06.94zm10 10l.94 2.06.94-2.06 2.06-.94-2.06-.94-.94-2.06-.94 2.06-2.06.94z\"/><path d=\"M17.41 7.96l-1.37-1.37c-.4-.4-.92-.59-1.43-.59-.52 0-1.04.2-1.43.59L10.3 9.45l-7.72 7.72c-.78.78-.78 2.05 0 2.83L4 21.41c.39.39.9.59 1.41.59.51 0 1.02-.2 1.41-.59l7.78-7.78 2.81-2.81c.8-.78.8-2.07 0-2.86zM5.41 20L4 18.59l7.72-7.72 1.47 1.35L5.41 20z\"/>\n",
              "  </svg>\n",
              "      </button>\n",
              "      \n",
              "  <style>\n",
              "    .colab-df-container {\n",
              "      display:flex;\n",
              "      flex-wrap:wrap;\n",
              "      gap: 12px;\n",
              "    }\n",
              "\n",
              "    .colab-df-convert {\n",
              "      background-color: #E8F0FE;\n",
              "      border: none;\n",
              "      border-radius: 50%;\n",
              "      cursor: pointer;\n",
              "      display: none;\n",
              "      fill: #1967D2;\n",
              "      height: 32px;\n",
              "      padding: 0 0 0 0;\n",
              "      width: 32px;\n",
              "    }\n",
              "\n",
              "    .colab-df-convert:hover {\n",
              "      background-color: #E2EBFA;\n",
              "      box-shadow: 0px 1px 2px rgba(60, 64, 67, 0.3), 0px 1px 3px 1px rgba(60, 64, 67, 0.15);\n",
              "      fill: #174EA6;\n",
              "    }\n",
              "\n",
              "    [theme=dark] .colab-df-convert {\n",
              "      background-color: #3B4455;\n",
              "      fill: #D2E3FC;\n",
              "    }\n",
              "\n",
              "    [theme=dark] .colab-df-convert:hover {\n",
              "      background-color: #434B5C;\n",
              "      box-shadow: 0px 1px 3px 1px rgba(0, 0, 0, 0.15);\n",
              "      filter: drop-shadow(0px 1px 2px rgba(0, 0, 0, 0.3));\n",
              "      fill: #FFFFFF;\n",
              "    }\n",
              "  </style>\n",
              "\n",
              "      <script>\n",
              "        const buttonEl =\n",
              "          document.querySelector('#df-03eb066b-051e-4999-b933-87e0b234ba9c button.colab-df-convert');\n",
              "        buttonEl.style.display =\n",
              "          google.colab.kernel.accessAllowed ? 'block' : 'none';\n",
              "\n",
              "        async function convertToInteractive(key) {\n",
              "          const element = document.querySelector('#df-03eb066b-051e-4999-b933-87e0b234ba9c');\n",
              "          const dataTable =\n",
              "            await google.colab.kernel.invokeFunction('convertToInteractive',\n",
              "                                                     [key], {});\n",
              "          if (!dataTable) return;\n",
              "\n",
              "          const docLinkHtml = 'Like what you see? Visit the ' +\n",
              "            '<a target=\"_blank\" href=https://colab.research.google.com/notebooks/data_table.ipynb>data table notebook</a>'\n",
              "            + ' to learn more about interactive tables.';\n",
              "          element.innerHTML = '';\n",
              "          dataTable['output_type'] = 'display_data';\n",
              "          await google.colab.output.renderOutput(dataTable, element);\n",
              "          const docLink = document.createElement('div');\n",
              "          docLink.innerHTML = docLinkHtml;\n",
              "          element.appendChild(docLink);\n",
              "        }\n",
              "      </script>\n",
              "    </div>\n",
              "  </div>\n",
              "  "
            ]
          },
          "metadata": {},
          "execution_count": 22
        }
      ]
    },
    {
      "cell_type": "code",
      "source": [
        "print(len(Y))\n",
        "print(len(X))\n",
        "print(len(data2))\n",
        "print(len(data))"
      ],
      "metadata": {
        "colab": {
          "base_uri": "https://localhost:8080/"
        },
        "id": "nk850HQEP5oc",
        "outputId": "52cbd63a-e63d-4ea2-d6d9-60c2af856518"
      },
      "execution_count": null,
      "outputs": [
        {
          "output_type": "stream",
          "name": "stdout",
          "text": [
            "897\n",
            "897\n",
            "897\n",
            "897\n"
          ]
        }
      ]
    },
    {
      "cell_type": "code",
      "source": [
        "issues_all = lab.get_issues(\"label\")\n",
        "rk=issues_all[issues_all['is_label_issue']==True].index.tolist()\n",
        "for i in rk:\n",
        "  data.loc[i, 'CATEGORIES_']=issues_all.loc[i, 'predicted_label']\n",
        "Y=data['CATEGORIES_']"
      ],
      "metadata": {
        "id": "ln4SrC9bA_uZ"
      },
      "execution_count": null,
      "outputs": []
    },
    {
      "cell_type": "code",
      "source": [
        "issues_all = lab.get_issues(\"near_duplicate\")\n",
        "rk=issues_all[issues_all['is_near_duplicate_issue']==True].index.tolist()\n",
        "data=data.loc[set(data.index.tolist())-set(rk)]\n",
        "X=data.drop('CATEGORIES_', axis=1)\n",
        "Y=data['CATEGORIES_']"
      ],
      "metadata": {
        "colab": {
          "base_uri": "https://localhost:8080/"
        },
        "id": "Y__9plV-Bvgd",
        "outputId": "3019d36e-88fd-4ee7-ef5a-1a7ee94ca803"
      },
      "execution_count": null,
      "outputs": [
        {
          "output_type": "stream",
          "name": "stderr",
          "text": [
            "<ipython-input-25-8e4f1946ba7e>:3: FutureWarning: Passing a set as an indexer is deprecated and will raise in a future version. Use a list instead.\n",
            "  data=data.loc[set(data.index.tolist())-set(rk)]\n"
          ]
        }
      ]
    },
    {
      "cell_type": "code",
      "source": [
        "issues_all = lab.get_issues(\"outlier\")\n",
        "rk=issues_all[issues_all['is_outlier_issue']==True].index.tolist()\n",
        "data=data.loc[set(data.index.tolist())-set(rk)]\n",
        "X=data.drop('CATEGORIES_', axis=1)\n",
        "Y=data['CATEGORIES_']"
      ],
      "metadata": {
        "colab": {
          "base_uri": "https://localhost:8080/"
        },
        "id": "SmlUtwhPiSpG",
        "outputId": "a7856825-e3d8-4cba-a9b5-05a0472f9851"
      },
      "execution_count": null,
      "outputs": [
        {
          "output_type": "stream",
          "name": "stderr",
          "text": [
            "<ipython-input-26-be4b77f8c9ab>:3: FutureWarning: Passing a set as an indexer is deprecated and will raise in a future version. Use a list instead.\n",
            "  data=data.loc[set(data.index.tolist())-set(rk)]\n"
          ]
        }
      ]
    },
    {
      "cell_type": "code",
      "source": [
        "# Find label issues in the train data\n",
        "#my_train_pred_probs = vot_clf .predict_proba(X_res)\n",
        "#my_train_preds = my_train_pred_probs.argmax(axis=1)  # predicted labels\n",
        "\n",
        "#issues_train = CleanLearning(vot_clf ).find_label_issues(X_res, labels=y_res.to_numpy().ravel())\n",
        "#y_trainc=y_res.reset_index().drop('index', axis=1)\n",
        "\n",
        "#rk=issues_train[issues_train['is_label_issue']==True].index.tolist()\n",
        "#for i in rk:\n",
        "#  if y_trainc.loc[i, 'toilet']==1:\n",
        "#    y_trainc.loc[i, 'toilet']=0\n",
        "#  elif y_trainc.loc[i, 'toilet']==0:\n",
        "#    y_trainc.loc[i, 'toilet']=1"
      ],
      "metadata": {
        "id": "U5sR6rtmgVwE"
      },
      "execution_count": null,
      "outputs": []
    },
    {
      "cell_type": "code",
      "source": [
        "# You should inspect issues_test and fix issues to ensure high-quality test data labels.\n",
        "#_testc=y_test.reset_index().drop('index', axis=1)\n",
        "\n",
        "#rk=issues_test[issues_test['is_label_issue']==True].index.tolist()\n",
        "#for i in rk:\n",
        "  #if y_testc.loc[i, 'toilet']==1:\n",
        "    #y_testc.loc[i, 'toilet']=0\n",
        "  #elif y_testc.loc[i, 'toilet']==0:\n",
        "    #y_testc.loc[i, 'toilet']=1\n",
        "\n",
        "#corrected_test_labels = y_testc  # Here we'll pretend you have done this perfectly :)df_t['toilet'].iloc[ranked_label_issues].replace([0, 1], [1,0])\n",
        "\n",
        "# Fit more robust version of model on noisily labeled training data\n",
        "cl = cl_.fit(X_train.to_numpy(), y_train.to_numpy().ravel())\n",
        "cl_test_preds = cl.predict(X_test.to_numpy())\n",
        "cl_test_pred_t = cl.predict(X_train.to_numpy())\n",
        "print(classification_report(y_testc, cl_test_preds))"
      ],
      "metadata": {
        "id": "7rm2ufJGg-8U"
      },
      "execution_count": null,
      "outputs": []
    },
    {
      "cell_type": "markdown",
      "source": [
        "Predictive Model"
      ],
      "metadata": {
        "id": "CIGQ-E6HIK1p"
      }
    },
    {
      "cell_type": "code",
      "source": [
        "#Yc=df_t[['sda']]"
      ],
      "metadata": {
        "id": "5zwhgH0h_G_W"
      },
      "execution_count": null,
      "outputs": []
    },
    {
      "cell_type": "code",
      "source": [
        "X_train, X_test, y_train, y_test=train_test_split(X, Y, test_size=0.3, shuffle=True, stratify=Y, random_state=123)\n",
        "X_train, X_cal, y_train, y_cal=train_test_split(X_train, y_train, test_size=0.1, shuffle=True, stratify=y_train, random_state=123)\n",
        "#from imblearn.over_sampling import SMOTE\n",
        "#from sklearn.utils import resample\n",
        "#X_up=pd.concat([X_train, y_train], axis=1)\n",
        "#sm = SMOTE(sampling_strategy='all', random_state=42)\n",
        "#X_min_ = X_up[(X_up['RiskLevel']==0)]\n",
        "#X_min = X_up[(X_up['RiskLevel']==1)]\n",
        "#X_max = X_up[(X_up['RiskLevel']==1)]\n",
        "#X_min=resample(X_min, replace=True, n_samples= 50, random_state=42)\n",
        "#X_min_=resample(X_min_, replace=True, n_samples= 50, random_state=42)\n",
        "#X=pd.concat([X_min, X_min_, X_max])\n",
        "#X_train, X_test, y_train_, y_test_=train_test_split(X.drop('RiskLevel', axis=1), X[['RiskLevel']], test_size=.20, random_state=42)\n",
        "#X_res, y_res = sm.fit_resample(X_train, y_train)\n",
        "#X_train, X_test=train_test_split(X, test_size=0.2, shuffle=True, random_state=123)\n",
        "#X_train, X_test, Y_train, Y_test=iterative_train_test_split(X, Y, test_size=0.2)"
      ],
      "metadata": {
        "id": "GrMhNVZFIhkt"
      },
      "execution_count": null,
      "outputs": []
    },
    {
      "cell_type": "code",
      "source": [
        "#tsne = TSNE(n_components=2, random_state=7, perplexity=15)\n",
        "#embeddings_2d = tsne.fit_transform(X.values)"
      ],
      "metadata": {
        "id": "k_50Qmje0cNj"
      },
      "execution_count": null,
      "outputs": []
    },
    {
      "cell_type": "code",
      "source": [
        "#Y.to_csv('lab_.csv', index=False)\n",
        "y_cal.value_counts()"
      ],
      "metadata": {
        "id": "bzZb5Os_UWL6",
        "colab": {
          "base_uri": "https://localhost:8080/"
        },
        "outputId": "ffbeea59-28fa-49ce-e0ca-a579c9882958"
      },
      "execution_count": null,
      "outputs": [
        {
          "output_type": "execute_result",
          "data": {
            "text/plain": [
              "0    22\n",
              "1    21\n",
              "2    13\n",
              "Name: CATEGORIES_, dtype: int64"
            ]
          },
          "metadata": {},
          "execution_count": 30
        }
      ]
    },
    {
      "cell_type": "code",
      "source": [
        "rf_clf = RandomForestClassifier(random_state=42)\n",
        "svm_clf = SVC(probability=True, random_state=42)\n",
        "logr_clf = LogisticRegressionCV(random_state=42, max_iter=1000)\n",
        "gb_clf = GradientBoostingClassifier(random_state=42)\n",
        "adb_clf = AdaBoostClassifier(random_state=42)\n",
        "dt_clf = DecisionTreeClassifier(random_state=42)\n",
        "\n",
        "\n",
        "for name, model in zip(['Random Forest', 'SVM', 'Logistic Regression', 'Gradient Boost', 'AdaBoost', 'Decision Tree'],\n",
        "                       [rf_clf, svm_clf, logr_clf, gb_clf, adb_clf,dt_clf]):\n",
        "    print('\\t',name.upper(),':')\n",
        "    model.fit(X, Y.values.ravel())\n",
        "    #model.fit(X_res, y_res)\n",
        "    #model.fit(X, Y.values.ravel())\n",
        "    #y_pred = model.predict(X)\n",
        "    y_pred = model.predict(X)\n",
        "    #y_pred_t = model.predict(X_train)\n",
        "    #y_pred_t = model.predict(X_res)\n",
        "    #print('Accuracy: ', accuracy_score(y_train, y_pred_t))\n",
        "    #print(classification_report(y_train, y_pred_t))\n",
        "    #print('Accuracy: ', accuracy_score(y_res, y_pred_t))\n",
        "    print(classification_report(Y, y_pred))"
      ],
      "metadata": {
        "id": "7CDrpxa5Kfap",
        "colab": {
          "base_uri": "https://localhost:8080/"
        },
        "outputId": "aeca57d0-c910-4faf-bfea-3339924855db"
      },
      "execution_count": null,
      "outputs": [
        {
          "output_type": "stream",
          "name": "stdout",
          "text": [
            "\t RANDOM FOREST :\n",
            "              precision    recall  f1-score   support\n",
            "\n",
            "           0       0.88      0.77      0.82       318\n",
            "           1       0.70      0.85      0.77       291\n",
            "           2       0.70      0.61      0.65       187\n",
            "\n",
            "    accuracy                           0.76       796\n",
            "   macro avg       0.76      0.75      0.75       796\n",
            "weighted avg       0.77      0.76      0.76       796\n",
            "\n",
            "\t SVM :\n",
            "              precision    recall  f1-score   support\n",
            "\n",
            "           0       0.82      0.78      0.80       318\n",
            "           1       0.69      0.83      0.75       291\n",
            "           2       0.71      0.53      0.61       187\n",
            "\n",
            "    accuracy                           0.74       796\n",
            "   macro avg       0.74      0.72      0.72       796\n",
            "weighted avg       0.75      0.74      0.74       796\n",
            "\n",
            "\t LOGISTIC REGRESSION :\n",
            "              precision    recall  f1-score   support\n",
            "\n",
            "           0       0.75      0.65      0.70       318\n",
            "           1       0.61      0.73      0.66       291\n",
            "           2       0.57      0.51      0.54       187\n",
            "\n",
            "    accuracy                           0.65       796\n",
            "   macro avg       0.64      0.63      0.63       796\n",
            "weighted avg       0.66      0.65      0.65       796\n",
            "\n",
            "\t GRADIENT BOOST :\n",
            "              precision    recall  f1-score   support\n",
            "\n",
            "           0       0.83      0.78      0.80       318\n",
            "           1       0.69      0.84      0.75       291\n",
            "           2       0.72      0.54      0.62       187\n",
            "\n",
            "    accuracy                           0.74       796\n",
            "   macro avg       0.74      0.72      0.72       796\n",
            "weighted avg       0.75      0.74      0.74       796\n",
            "\n",
            "\t ADABOOST :\n",
            "              precision    recall  f1-score   support\n",
            "\n",
            "           0       0.74      0.55      0.63       318\n",
            "           1       0.55      0.81      0.66       291\n",
            "           2       0.46      0.34      0.39       187\n",
            "\n",
            "    accuracy                           0.59       796\n",
            "   macro avg       0.59      0.56      0.56       796\n",
            "weighted avg       0.61      0.59      0.58       796\n",
            "\n",
            "\t DECISION TREE :\n",
            "              precision    recall  f1-score   support\n",
            "\n",
            "           0       0.87      0.78      0.83       318\n",
            "           1       0.70      0.86      0.77       291\n",
            "           2       0.71      0.59      0.64       187\n",
            "\n",
            "    accuracy                           0.76       796\n",
            "   macro avg       0.76      0.74      0.75       796\n",
            "weighted avg       0.77      0.76      0.76       796\n",
            "\n"
          ]
        }
      ]
    },
    {
      "cell_type": "code",
      "source": [
        "vot_clf = VotingClassifier(estimators=[('svm', svm_clf), ('gb', gb_clf)], voting='soft')\n",
        "vot_clf.fit(X, Y.values.ravel())\n",
        "#vot_clf.fit(X_res, y_res.values.ravel())\n",
        "y_pred = vot_clf.predict(X)\n",
        "#y_pred_t = vot_clf.predict(X_train)\n",
        "#print('Accuracy: ', accuracy_score(y_train, y_pred_t))\n",
        "#print('Accuracy: ', accuracy_score(y_train, y_pred_t))\n",
        "#print(classification_report(y_train, y_pred_t))\n",
        "print(classification_report(Y, y_pred))"
      ],
      "metadata": {
        "colab": {
          "base_uri": "https://localhost:8080/"
        },
        "id": "z-OgnJwFdSxD",
        "outputId": "097ab542-f0a3-4dc7-921b-0d5b7478103a"
      },
      "execution_count": null,
      "outputs": [
        {
          "output_type": "stream",
          "name": "stdout",
          "text": [
            "              precision    recall  f1-score   support\n",
            "\n",
            "           0       0.83      0.79      0.81       318\n",
            "           1       0.69      0.84      0.75       291\n",
            "           2       0.72      0.54      0.62       187\n",
            "\n",
            "    accuracy                           0.75       796\n",
            "   macro avg       0.74      0.72      0.73       796\n",
            "weighted avg       0.75      0.75      0.74       796\n",
            "\n"
          ]
        }
      ]
    },
    {
      "cell_type": "markdown",
      "source": [
        "Prediction in a Factorial plan"
      ],
      "metadata": {
        "id": "4I9RNQZcZOfm"
      }
    },
    {
      "cell_type": "code",
      "source": [
        "pip install prince"
      ],
      "metadata": {
        "id": "wzilj2r4h68h"
      },
      "execution_count": null,
      "outputs": []
    },
    {
      "cell_type": "code",
      "source": [
        "#import prince\n",
        "help(prince.MCA)"
      ],
      "metadata": {
        "id": "mo9TmQXYh9sD"
      },
      "execution_count": null,
      "outputs": []
    },
    {
      "cell_type": "code",
      "source": [
        "#help(prince.FAMD)\n",
        "famd = prince.MCA(n_components=11, n_iter=3,\n",
        "                   copy=True, check_input=True,\n",
        "                   engine='sklearn',random_state=42)\n",
        "\n",
        "data__=famd.fit(X_)\n",
        "data_t = famd.fit_transform(X_)\n",
        "data__. cumulative_percentage_of_variance_"
      ],
      "metadata": {
        "colab": {
          "base_uri": "https://localhost:8080/"
        },
        "id": "y1F_l1dcihgT",
        "outputId": "bd024fde-4338-4590-c362-ef717781ee80"
      },
      "execution_count": null,
      "outputs": [
        {
          "output_type": "execute_result",
          "data": {
            "text/plain": [
              "array([ 21.5704197 ,  34.25430606,  45.71451134,  56.29267783,\n",
              "        65.17969635,  73.49057473,  80.19088252,  86.53616325,\n",
              "        92.18603781,  97.41192122, 100.        ])"
            ]
          },
          "metadata": {},
          "execution_count": 40
        }
      ]
    },
    {
      "cell_type": "code",
      "source": [
        "X.columns"
      ],
      "metadata": {
        "colab": {
          "base_uri": "https://localhost:8080/"
        },
        "id": "4wJONQf82rX-",
        "outputId": "32766917-3601-4445-bd12-90e83fab0767"
      },
      "execution_count": null,
      "outputs": [
        {
          "output_type": "execute_result",
          "data": {
            "text/plain": [
              "Index(['SILC', 'groupe_elevage', 'groupe_agriculture', 'groupe_peche',\n",
              "       'literacy', 'voucher_elevage', 'voucher_peche', 'voucher_agri',\n",
              "       'dist_GFD', 'dist_ration_protection', 'dist_1000Jours'],\n",
              "      dtype='object')"
            ]
          },
          "metadata": {},
          "execution_count": 43
        }
      ]
    },
    {
      "cell_type": "code",
      "source": [
        "data_=data_.drop(['sexe', 'age'], axis=1)"
      ],
      "metadata": {
        "id": "9cOk6reR3Bk7"
      },
      "execution_count": null,
      "outputs": []
    },
    {
      "cell_type": "code",
      "source": [
        "#data_['preds']=vot_clf.predict(data_.drop(['95% IC0', '95% IC1'], axis=1))\n",
        "data_['preds']=vot_clf.predict(data_)\n",
        "#data_['preds'].replace([0,1,2], ['Pauvre', 'Limite', 'Acceptable'], inplace=True)"
      ],
      "metadata": {
        "id": "_CtSQHh7y2M2"
      },
      "execution_count": null,
      "outputs": []
    },
    {
      "cell_type": "code",
      "source": [
        "#X_=df_t.drop(['code_menage', 'q56all', 'q57all', 'child_sda'], axis=1).replace([0,1], ['No', 'Yes'])\n",
        "#X_[['number_of_food_group_consumed']]=df_t[['number_of_food_group_consumed']]\n",
        "#X_.to_csv('dds.csv', index=False)\n",
        "#X_\n",
        "#X.shape\n",
        "#X_=pd.read_csv('/content/cds.csv')\n",
        "X_.replace(['No', 'Yes'], [0,1], inplace=True)"
      ],
      "metadata": {
        "id": "gILluf9sYYh0"
      },
      "execution_count": null,
      "outputs": []
    },
    {
      "cell_type": "code",
      "source": [
        "X_['clust'].unique()"
      ],
      "metadata": {
        "colab": {
          "base_uri": "https://localhost:8080/"
        },
        "id": "gUak3OROFC3m",
        "outputId": "c8c1e1de-028c-4c52-f9cd-a4ffe213d090"
      },
      "execution_count": null,
      "outputs": [
        {
          "output_type": "execute_result",
          "data": {
            "text/plain": [
              "array([1, 3, 5, 4, 2])"
            ]
          },
          "metadata": {},
          "execution_count": 36
        }
      ]
    },
    {
      "cell_type": "code",
      "source": [
        "X_[X_['clust']==5]['number_of_food_group_consumed'].min()"
      ],
      "metadata": {
        "colab": {
          "base_uri": "https://localhost:8080/"
        },
        "id": "gXqevO9LEuJ6",
        "outputId": "54b3649a-2e2a-4ed0-e638-6da1460988e8"
      },
      "execution_count": null,
      "outputs": [
        {
          "output_type": "execute_result",
          "data": {
            "text/plain": [
              "2"
            ]
          },
          "metadata": {},
          "execution_count": 59
        }
      ]
    },
    {
      "cell_type": "code",
      "source": [
        "data_.to_csv('predictions_fcs.csv', index=False)"
      ],
      "metadata": {
        "id": "tC1fsjv65MIP"
      },
      "execution_count": null,
      "outputs": []
    },
    {
      "cell_type": "markdown",
      "source": [
        "Model Interpretation"
      ],
      "metadata": {
        "id": "PwWDPmazhzc7"
      }
    },
    {
      "cell_type": "code",
      "source": [
        "#pip install shap\n",
        "import shap"
      ],
      "metadata": {
        "id": "88htbQ4v_0ko"
      },
      "execution_count": null,
      "outputs": []
    },
    {
      "cell_type": "code",
      "source": [
        "#X_train_summary = shap.kmeans(X_train, 10)"
      ],
      "metadata": {
        "id": "wAxxTDvGIAOk"
      },
      "execution_count": null,
      "outputs": []
    },
    {
      "cell_type": "code",
      "source": [
        "#numeric_features = ['total_notes_int','hh_size','hh_age']\n",
        "#numeric_transformer = Pipeline(steps=[('scaler', MinMaxScaler())])\n",
        "\n",
        "#categorical_features_ = ['commune', 'district', 'fokontany', 'village']\n",
        "#categorical_transformer_ = Pipeline(steps=[('dum_', ce.CountEncoder())])\n",
        "\n",
        "#categorical_features = ['hh_sex', 'region']\n",
        "#categorical_transformer = Pipeline(steps=[('dum', ce.OneHotEncoder())])\n",
        "\n",
        "#preprocessor = ColumnTransformer(\n",
        "    #transformers=[\n",
        "        #('num', MinMaxScaler(), ['total_notes_int','hh_size','hh_age']),\n",
        "        #('cat', ce.OneHotEncoder(), ['commune', 'district', 'fokontany', 'village']),\n",
        "        #('cat_', ce.CountEncoder(), ['commune', 'district', 'fokontany', 'village'])])\n",
        "\n",
        "# Append classifier to preprocessing pipeline.\n",
        "# Now we have a full prediction pipeline."
      ],
      "metadata": {
        "id": "60nfB3Z9zX8J"
      },
      "execution_count": null,
      "outputs": []
    },
    {
      "cell_type": "code",
      "source": [
        "#clf=Pipeline(steps=[('pros', preprocessor),\n",
        "                    #('classifier', RandomForestClassifier())])"
      ],
      "metadata": {
        "id": "XTisfhIHIqE8"
      },
      "execution_count": null,
      "outputs": []
    },
    {
      "cell_type": "code",
      "source": [
        "#clf"
      ],
      "metadata": {
        "id": "O_TOR077TYwK"
      },
      "execution_count": null,
      "outputs": []
    },
    {
      "cell_type": "code",
      "source": [
        "#rf_clf.feature_importances_"
      ],
      "metadata": {
        "id": "BscTJy5YO3Pm"
      },
      "execution_count": null,
      "outputs": []
    },
    {
      "cell_type": "code",
      "source": [
        "#X_train, X_test, Y_train, Y_test = train_test_split(X, Y, test_size=0.2, shuffle=True, random_state=123)\n",
        "#clf.fit(X_train, Y_train)\n",
        "# load JS vis in the notebook\n",
        "#shap.initjs()"
      ],
      "metadata": {
        "id": "ITLfAmu637ZO"
      },
      "execution_count": null,
      "outputs": []
    },
    {
      "cell_type": "code",
      "source": [
        "model = fit_xgboost(X, Y)"
      ],
      "metadata": {
        "id": "tdMN61ykwd5A"
      },
      "execution_count": null,
      "outputs": []
    },
    {
      "cell_type": "code",
      "source": [
        "import xgboost\n",
        "def fit_xgboost(X, y):\n",
        "    \"\"\" Train an XGBoost model with early stopping.\n",
        "    \"\"\"\n",
        "    X_train,X_test,y_train,y_test = train_test_split(X, Y)\n",
        "    dtrain = xgboost.DMatrix(X_train, label=y_train)\n",
        "    dtest = xgboost.DMatrix(X_test, label=y_test)\n",
        "    model = xgboost.train(\n",
        "        { \"eta\": 0.0001, \"subsample\": 0.5, \"max_depth\": 2, \"objective\": \"binary:logistic\"}, dtrain, num_boost_round=200000,\n",
        "        evals=((dtest, \"test\"),), early_stopping_rounds=20, verbose_eval=True\n",
        "    )\n",
        "    return model"
      ],
      "metadata": {
        "id": "SqrGsEKK1kk7"
      },
      "execution_count": null,
      "outputs": []
    },
    {
      "cell_type": "code",
      "source": [
        "explainer = shap.Explainer(model)\n",
        "shap_values = explainer(X)\n",
        "\n",
        "clust = shap.utils.hclust(X, Y, linkage=\"single\")\n",
        "shap.plots.bar(shap_values, clustering=clust, clustering_cutoff=1)"
      ],
      "metadata": {
        "colab": {
          "base_uri": "https://localhost:8080/",
          "height": 455
        },
        "id": "qxvkOp4YwgxK",
        "outputId": "336c90d2-6820-4288-f8a1-1547b81cf016"
      },
      "execution_count": null,
      "outputs": [
        {
          "output_type": "stream",
          "name": "stderr",
          "text": [
            "`early_stopping_rounds` in `fit` method is deprecated for better compatibility with scikit-learn, use `early_stopping_rounds` in constructor or`set_params` instead.\n",
            "No/low signal found from feature 1 (this is typically caused by constant or near-constant features)! Cluster distances can't be computed for it (so setting all distances to 1).\n",
            "No/low signal found from feature 5 (this is typically caused by constant or near-constant features)! Cluster distances can't be computed for it (so setting all distances to 1).\n",
            "No/low signal found from feature 7 (this is typically caused by constant or near-constant features)! Cluster distances can't be computed for it (so setting all distances to 1).\n"
          ]
        },
        {
          "output_type": "display_data",
          "data": {
            "text/plain": [
              "<Figure size 576x396 with 1 Axes>"
            ],
            "image/png": "[encoded data removed]"
          },
          "metadata": {}
        }
      ]
    },
    {
      "cell_type": "code",
      "source": [
        "#rf_clf.predict_proba(X_train)[0]\n",
        "X_train_summary = shap.kmeans(X_train, 10)\n",
        "#X_train_summary = pd.DataFrame.sample(X_train, frac=50/len(X_train))"
      ],
      "metadata": {
        "id": "eO4mFrXrZU1h",
        "colab": {
          "base_uri": "https://localhost:8080/"
        },
        "outputId": "f09785e3-01d2-4253-ec8d-d94772823b63"
      },
      "execution_count": null,
      "outputs": [
        {
          "output_type": "stream",
          "name": "stderr",
          "text": [
            "The default value of `n_init` will change from 10 to 'auto' in 1.4. Set the value of `n_init` explicitly to suppress the warning\n"
          ]
        }
      ]
    },
    {
      "cell_type": "code",
      "source": [
        "#import random\n",
        "#random.sample(X_train, 50)\n",
        "X_train_summary"
      ],
      "metadata": {
        "id": "Ao8Pxba_P0S9",
        "colab": {
          "base_uri": "https://localhost:8080/"
        },
        "outputId": "b4a834cb-a236-49ff-eb27-5cdd0077f0a0"
      },
      "execution_count": null,
      "outputs": [
        {
          "output_type": "execute_result",
          "data": {
            "text/plain": [
              "<shap.utils._legacy.DenseData at 0x7f70d1306b50>"
            ]
          },
          "metadata": {},
          "execution_count": 57
        }
      ]
    },
    {
      "cell_type": "code",
      "source": [
        "#help(shap.  KernelExplainer)"
      ],
      "metadata": {
        "id": "-OA4PH0ys2TK"
      },
      "execution_count": null,
      "outputs": []
    },
    {
      "cell_type": "code",
      "source": [
        "# initiate explainer with pipeline function\n",
        "#explainer = shap.KernelExplainer(binary_rel_clf.predict_proba, X_train)\n",
        "explainer = shap.KernelExplainer(vot_clf.predict_proba,\\\n",
        "                                          X_train_summary)\n",
        "#shap_svm_values_test = explainer.shap_values(X_test, nsamples=200, l1_reg=\"num_features(8)\")\n",
        "shap_svm_values_test = explainer.shap_values(X_test)"
      ],
      "metadata": {
        "id": "g_KqVHaEM6u_"
      },
      "execution_count": null,
      "outputs": []
    },
    {
      "cell_type": "code",
      "source": [
        "help(shap.utils.hclust)"
      ],
      "metadata": {
        "colab": {
          "base_uri": "https://localhost:8080/"
        },
        "id": "_C4eBQWatWVS",
        "outputId": "69583e23-a19b-43af-f63d-ea7b6c874b34"
      },
      "execution_count": null,
      "outputs": [
        {
          "output_type": "stream",
          "name": "stdout",
          "text": [
            "Help on function hclust in module shap.utils._clustering:\n",
            "\n",
            "hclust(X, y=None, linkage='single', metric='auto', random_state=0)\n",
            "\n"
          ]
        }
      ]
    },
    {
      "cell_type": "code",
      "source": [
        "#clust = shap.utils.hclust(X, Y_c, linkage=\"single\")\n",
        "shap.plots.bar(shap_svm_values_test, clustering=clust, clustering_cutoff=1)"
      ],
      "metadata": {
        "id": "hChvOAiTs-67"
      },
      "execution_count": null,
      "outputs": []
    },
    {
      "cell_type": "code",
      "source": [
        "shap.summary_plot(shap_svm_values_test[1], data_, plot_type=\"dot\")"
      ],
      "metadata": {
        "id": "Zv9iGVZcy7tj",
        "colab": {
          "base_uri": "https://localhost:8080/",
          "height": 377
        },
        "outputId": "a3591377-bfd9-4c87-a1dd-3324a96f2596"
      },
      "execution_count": null,
      "outputs": [
        {
          "output_type": "display_data",
          "data": {
            "text/plain": [
              "<Figure size 576x367.2 with 2 Axes>"
            ],
            "image/png": "[encoded data removed]"
          },
          "metadata": {
            "needs_background": "light"
          }
        }
      ]
    },
    {
      "cell_type": "code",
      "source": [
        "X[['silc_group_member', 'gfv_cg_group_member', 'other_group_member']]"
      ],
      "metadata": {
        "colab": {
          "base_uri": "https://localhost:8080/",
          "height": 424
        },
        "id": "T6gSwEmJ0ncG",
        "outputId": "3dbfb972-60c9-45c5-83d1-9b1bf391832c"
      },
      "execution_count": null,
      "outputs": [
        {
          "output_type": "execute_result",
          "data": {
            "text/plain": [
              "     silc_group_member  gfv_cg_group_member  other_group_member\n",
              "0                    1                    0                   1\n",
              "1                    0                    1                   1\n",
              "2                    1                    1                   1\n",
              "3                    0                    1                   1\n",
              "4                    0                    0                   1\n",
              "..                 ...                  ...                 ...\n",
              "201                  0                    1                   1\n",
              "202                  0                    0                   0\n",
              "203                  0                    0                   1\n",
              "204                  1                    0                   1\n",
              "205                  0                    1                   1\n",
              "\n",
              "[206 rows x 3 columns]"
            ],
            "text/html": [
              "\n",
              "  <div id=\"df-19832f4f-5c60-4937-a3cb-eff55cc20629\">\n",
              "    <div class=\"colab-df-container\">\n",
              "      <div>\n",
              "<style scoped>\n",
              "    .dataframe tbody tr th:only-of-type {\n",
              "        vertical-align: middle;\n",
              "    }\n",
              "\n",
              "    .dataframe tbody tr th {\n",
              "        vertical-align: top;\n",
              "    }\n",
              "\n",
              "    .dataframe thead th {\n",
              "        text-align: right;\n",
              "    }\n",
              "</style>\n",
              "<table border=\"1\" class=\"dataframe\">\n",
              "  <thead>\n",
              "    <tr style=\"text-align: right;\">\n",
              "      <th></th>\n",
              "      <th>silc_group_member</th>\n",
              "      <th>gfv_cg_group_member</th>\n",
              "      <th>other_group_member</th>\n",
              "    </tr>\n",
              "  </thead>\n",
              "  <tbody>\n",
              "    <tr>\n",
              "      <th>0</th>\n",
              "      <td>1</td>\n",
              "      <td>0</td>\n",
              "      <td>1</td>\n",
              "    </tr>\n",
              "    <tr>\n",
              "      <th>1</th>\n",
              "      <td>0</td>\n",
              "      <td>1</td>\n",
              "      <td>1</td>\n",
              "    </tr>\n",
              "    <tr>\n",
              "      <th>2</th>\n",
              "      <td>1</td>\n",
              "      <td>1</td>\n",
              "      <td>1</td>\n",
              "    </tr>\n",
              "    <tr>\n",
              "      <th>3</th>\n",
              "      <td>0</td>\n",
              "      <td>1</td>\n",
              "      <td>1</td>\n",
              "    </tr>\n",
              "    <tr>\n",
              "      <th>4</th>\n",
              "      <td>0</td>\n",
              "      <td>0</td>\n",
              "      <td>1</td>\n",
              "    </tr>\n",
              "    <tr>\n",
              "      <th>...</th>\n",
              "      <td>...</td>\n",
              "      <td>...</td>\n",
              "      <td>...</td>\n",
              "    </tr>\n",
              "    <tr>\n",
              "      <th>201</th>\n",
              "      <td>0</td>\n",
              "      <td>1</td>\n",
              "      <td>1</td>\n",
              "    </tr>\n",
              "    <tr>\n",
              "      <th>202</th>\n",
              "      <td>0</td>\n",
              "      <td>0</td>\n",
              "      <td>0</td>\n",
              "    </tr>\n",
              "    <tr>\n",
              "      <th>203</th>\n",
              "      <td>0</td>\n",
              "      <td>0</td>\n",
              "      <td>1</td>\n",
              "    </tr>\n",
              "    <tr>\n",
              "      <th>204</th>\n",
              "      <td>1</td>\n",
              "      <td>0</td>\n",
              "      <td>1</td>\n",
              "    </tr>\n",
              "    <tr>\n",
              "      <th>205</th>\n",
              "      <td>0</td>\n",
              "      <td>1</td>\n",
              "      <td>1</td>\n",
              "    </tr>\n",
              "  </tbody>\n",
              "</table>\n",
              "<p>206 rows × 3 columns</p>\n",
              "</div>\n",
              "      <button class=\"colab-df-convert\" onclick=\"convertToInteractive('df-19832f4f-5c60-4937-a3cb-eff55cc20629')\"\n",
              "              title=\"Convert this dataframe to an interactive table.\"\n",
              "              style=\"display:none;\">\n",
              "        \n",
              "  <svg xmlns=\"http://www.w3.org/2000/svg\" height=\"24px\"viewBox=\"0 0 24 24\"\n",
              "       width=\"24px\">\n",
              "    <path d=\"M0 0h24v24H0V0z\" fill=\"none\"/>\n",
              "    <path d=\"M18.56 5.44l.94 2.06.94-2.06 2.06-.94-2.06-.94-.94-2.06-.94 2.06-2.06.94zm-11 1L8.5 8.5l.94-2.06 2.06-.94-2.06-.94L8.5 2.5l-.94 2.06-2.06.94zm10 10l.94 2.06.94-2.06 2.06-.94-2.06-.94-.94-2.06-.94 2.06-2.06.94z\"/><path d=\"M17.41 7.96l-1.37-1.37c-.4-.4-.92-.59-1.43-.59-.52 0-1.04.2-1.43.59L10.3 9.45l-7.72 7.72c-.78.78-.78 2.05 0 2.83L4 21.41c.39.39.9.59 1.41.59.51 0 1.02-.2 1.41-.59l7.78-7.78 2.81-2.81c.8-.78.8-2.07 0-2.86zM5.41 20L4 18.59l7.72-7.72 1.47 1.35L5.41 20z\"/>\n",
              "  </svg>\n",
              "      </button>\n",
              "      \n",
              "  <style>\n",
              "    .colab-df-container {\n",
              "      display:flex;\n",
              "      flex-wrap:wrap;\n",
              "      gap: 12px;\n",
              "    }\n",
              "\n",
              "    .colab-df-convert {\n",
              "      background-color: #E8F0FE;\n",
              "      border: none;\n",
              "      border-radius: 50%;\n",
              "      cursor: pointer;\n",
              "      display: none;\n",
              "      fill: #1967D2;\n",
              "      height: 32px;\n",
              "      padding: 0 0 0 0;\n",
              "      width: 32px;\n",
              "    }\n",
              "\n",
              "    .colab-df-convert:hover {\n",
              "      background-color: #E2EBFA;\n",
              "      box-shadow: 0px 1px 2px rgba(60, 64, 67, 0.3), 0px 1px 3px 1px rgba(60, 64, 67, 0.15);\n",
              "      fill: #174EA6;\n",
              "    }\n",
              "\n",
              "    [theme=dark] .colab-df-convert {\n",
              "      background-color: #3B4455;\n",
              "      fill: #D2E3FC;\n",
              "    }\n",
              "\n",
              "    [theme=dark] .colab-df-convert:hover {\n",
              "      background-color: #434B5C;\n",
              "      box-shadow: 0px 1px 3px 1px rgba(0, 0, 0, 0.15);\n",
              "      filter: drop-shadow(0px 1px 2px rgba(0, 0, 0, 0.3));\n",
              "      fill: #FFFFFF;\n",
              "    }\n",
              "  </style>\n",
              "\n",
              "      <script>\n",
              "        const buttonEl =\n",
              "          document.querySelector('#df-19832f4f-5c60-4937-a3cb-eff55cc20629 button.colab-df-convert');\n",
              "        buttonEl.style.display =\n",
              "          google.colab.kernel.accessAllowed ? 'block' : 'none';\n",
              "\n",
              "        async function convertToInteractive(key) {\n",
              "          const element = document.querySelector('#df-19832f4f-5c60-4937-a3cb-eff55cc20629');\n",
              "          const dataTable =\n",
              "            await google.colab.kernel.invokeFunction('convertToInteractive',\n",
              "                                                     [key], {});\n",
              "          if (!dataTable) return;\n",
              "\n",
              "          const docLinkHtml = 'Like what you see? Visit the ' +\n",
              "            '<a target=\"_blank\" href=https://colab.research.google.com/notebooks/data_table.ipynb>data table notebook</a>'\n",
              "            + ' to learn more about interactive tables.';\n",
              "          element.innerHTML = '';\n",
              "          dataTable['output_type'] = 'display_data';\n",
              "          await google.colab.output.renderOutput(dataTable, element);\n",
              "          const docLink = document.createElement('div');\n",
              "          docLink.innerHTML = docLinkHtml;\n",
              "          element.appendChild(docLink);\n",
              "        }\n",
              "      </script>\n",
              "    </div>\n",
              "  </div>\n",
              "  "
            ]
          },
          "metadata": {},
          "execution_count": 19
        }
      ]
    },
    {
      "cell_type": "code",
      "source": [
        "df=data_\n",
        "#df\n",
        "from scipy.stats import chi2_contingency"
      ],
      "metadata": {
        "id": "gkbNH0iIkLfS"
      },
      "execution_count": null,
      "outputs": []
    },
    {
      "cell_type": "code",
      "source": [
        "df_=pd.DataFrame()\n",
        "for i in df.columns.tolist():\n",
        "  L=df.columns.tolist()\n",
        "  L.remove(i)\n",
        "  for j in L:\n",
        "    data_interim=df[[i, j]]\n",
        "    data_cont=pd.crosstab(data_interim[i], data_interim[j])\n",
        "    df_.loc[i,j]=chi2_contingency(data_cont)[1]"
      ],
      "metadata": {
        "id": "3JyUq7sssmGd"
      },
      "execution_count": null,
      "outputs": []
    },
    {
      "cell_type": "markdown",
      "source": [
        "**Causal Inference**"
      ],
      "metadata": {
        "id": "CIZlNMSZEUrI"
      }
    },
    {
      "cell_type": "code",
      "source": [
        "#!pip install causallib\n",
        "#!pip install econml\n",
        "#!pip install dowhy\n",
        "#from causallib.estimation import IPW, Matching, overlap_weights\n",
        "#from causallib.evaluation import evaluate\n",
        "#from causallib.estimation import Standardization\n",
        "#from causallib.estimation import StratifiedStandardization\n",
        "# DoWhy imports\n",
        "import dowhy\n",
        "from dowhy import CausalModel\n",
        "\n",
        "# EconML imports\n",
        "from econml.iv.dr import LinearIntentToTreatDRIV\n",
        "from econml.cate_interpreter import SingleTreeCateInterpreter, SingleTreePolicyInterpreter\n",
        "from econml.dml import LinearDML, DML, SparseLinearDML, CausalForestDML, NonParamDML\n",
        "from econml.dr import ForestDRLearner, LinearDRLearner, DRLearner, SparseLinearDRLearner"
      ],
      "metadata": {
        "id": "xqeLMyyqScPU"
      },
      "execution_count": null,
      "outputs": []
    },
    {
      "cell_type": "markdown",
      "source": [
        "Double Machine Learning Approach"
      ],
      "metadata": {
        "id": "w8RH8LObjtZN"
      }
    },
    {
      "cell_type": "code",
      "source": [
        "sns.distplot(data2['nbr_petit_ruminant'])"
      ],
      "metadata": {
        "id": "-TVTIfL6Q84g"
      },
      "execution_count": null,
      "outputs": []
    },
    {
      "cell_type": "code",
      "source": [
        "sns.distplot(data2['nbr_volaille'])"
      ],
      "metadata": {
        "id": "dFC2X-CYRGXT"
      },
      "execution_count": null,
      "outputs": []
    },
    {
      "cell_type": "code",
      "source": [
        "#sns.distplot(data2['nbr_bovin'])\n",
        "data2['activite_principale'].unique()"
      ],
      "metadata": {
        "colab": {
          "base_uri": "https://localhost:8080/"
        },
        "id": "o-ahVnjIRJRr",
        "outputId": "418f2ff0-5689-4ae1-ca21-8348d401e2b9"
      },
      "execution_count": null,
      "outputs": [
        {
          "output_type": "execute_result",
          "data": {
            "text/plain": [
              "array(['agriculture_pluviale', 'agriculture_irriguee_decrue', 'elevage',\n",
              "       'peche', 'commerce', 'salaire_occasionnel', 'fonctionnaire',\n",
              "       'artisan', 'chomeur_cherche_de_travail', 'medecin_traditionel',\n",
              "       'fram', 'employe_permanent', 'travailleur_journalier'],\n",
              "      dtype=object)"
            ]
          },
          "metadata": {},
          "execution_count": 16
        }
      ]
    },
    {
      "cell_type": "code",
      "source": [
        "X=data2[['sexe', 'household_size', 'age_chef_menage', 'type_menage', 'activite_principale', 'nbr_volaille', 'nbr_bovin',\n",
        "         'nbr_petit_ruminant',\n",
        "         'SILC', 'groupe_elevage',\n",
        "         'groupe_agriculture',\n",
        "       'groupe_peche', 'literacy', 'voucher_elevage',\n",
        "       'voucher_peche', 'voucher_agri', 'dist_GFD', 'dist_ration_protection',\n",
        "       'dist_1000Jours']]\n",
        "X=pd.get_dummies(X, columns=['type_menage', 'activite_principale', 'nbr_bovin'])"
      ],
      "metadata": {
        "id": "FiG5CWXHNTb7"
      },
      "execution_count": null,
      "outputs": []
    },
    {
      "cell_type": "code",
      "source": [
        "#X.columns"
      ],
      "metadata": {
        "id": "jSOMybw5WOak"
      },
      "execution_count": null,
      "outputs": []
    },
    {
      "cell_type": "code",
      "source": [
        "X_train, X_test, y_train, y_test=train_test_split(X, data2[['CATEGORIES_']], test_size=0.1, shuffle=True, stratify=data2[['CATEGORIES_']], random_state=123)"
      ],
      "metadata": {
        "id": "oucLw9HknTh7"
      },
      "execution_count": null,
      "outputs": []
    },
    {
      "cell_type": "code",
      "source": [
        "T=X_train[['SILC', 'groupe_elevage', 'groupe_agriculture', 'groupe_peche', 'literacy', 'voucher_elevage', 'voucher_peche', 'voucher_agri', 'dist_GFD', 'dist_ration_protection', 'dist_1000Jours']].values\n",
        "W=X_train[['household_size', 'activite_principale_agriculture_irriguee_decrue',\n",
        "       'activite_principale_agriculture_pluviale',\n",
        "       'activite_principale_artisan',\n",
        "       'activite_principale_chomeur_cherche_de_travail',\n",
        "       'activite_principale_commerce', 'activite_principale_elevage',\n",
        "       'activite_principale_employe_permanent',\n",
        "       'activite_principale_fonctionnaire', 'activite_principale_fram',\n",
        "       'activite_principale_medecin_traditionel', 'activite_principale_peche',\n",
        "       'activite_principale_salaire_occasionnel',\n",
        "       'activite_principale_travailleur_journalier', 'nbr_bovin_0',\n",
        "       'nbr_bovin_0_a_5', 'nbr_bovin_11_a_20', 'nbr_bovin_1_a_5',\n",
        "       'nbr_bovin_6_a_10', 'nbr_bovin_plus_de_20', 'nbr_volaille', 'nbr_petit_ruminant']].values\n",
        "X_c=X_train[['sexe', 'age_chef_menage', 'type_menage_CNA-Menage enfant', 'type_menage_FNM - Menage femme',\n",
        "       'type_menage_MF-Menage couple', 'type_menage_MNF-Menage homme']].values\n",
        "Y=y_train.values"
      ],
      "metadata": {
        "id": "6ZZ66vjGVUEn"
      },
      "execution_count": null,
      "outputs": []
    },
    {
      "cell_type": "code",
      "source": [
        "confounder_names=['household_size', 'activite_principale_agriculture_irriguee_decrue',\n",
        "       'activite_principale_agriculture_pluviale',\n",
        "       'activite_principale_artisan',\n",
        "       'activite_principale_chomeur_cherche_de_travail',\n",
        "       'activite_principale_commerce', 'activite_principale_elevage',\n",
        "       'activite_principale_employe_permanent',\n",
        "       'activite_principale_fonctionnaire', 'activite_principale_fram',\n",
        "       'activite_principale_medecin_traditionel', 'activite_principale_peche',\n",
        "       'activite_principale_salaire_occasionnel',\n",
        "       'activite_principale_travailleur_journalier', 'nbr_bovin_0',\n",
        "       'nbr_bovin_0_a_5', 'nbr_bovin_11_a_20', 'nbr_bovin_1_a_5',\n",
        "       'nbr_bovin_6_a_10', 'nbr_bovin_plus_de_20', 'nbr_volaille', 'nbr_petit_ruminant']\n",
        "feature_names=['sexe', 'age_chef_menage', 'type_menage_CNA-Menage enfant', 'type_menage_FNM - Menage femme',\n",
        "       'type_menage_MF-Menage couple', 'type_menage_MNF-Menage homme']"
      ],
      "metadata": {
        "id": "39guS8bxlETT"
      },
      "execution_count": null,
      "outputs": []
    },
    {
      "cell_type": "code",
      "source": [
        "X_=X[['silc_group_member', 'gfv_cg_group_member', 'other_group_member']]\n",
        "X__=X[['silc_group_member', 'gfv_cg_group_member', 'other_group_member', 'millejours', 'voucher_agri', 'voucher_elevage', 'voucher_peche']]\n",
        "Xc_train=X_train[['silc_group_member', 'gfv_cg_group_member', 'other_group_member']]\n",
        "Xc_train_=X_train[['silc_group_member', 'gfv_cg_group_member', 'other_group_member', 'millejours', 'voucher_agri', 'voucher_elevage', 'voucher_peche']]\n",
        "Xc_test=X_test[['silc_group_member', 'gfv_cg_group_member', 'other_group_member']]\n",
        "#X_=X.drop('ration_protection', axis=1)\n",
        "a_train=X_train['voucher_peche']\n",
        "a_test=X_test['voucher_peche']\n",
        "a=X['voucher_peche']\n",
        "yc_train=y_train['child_sda']\n",
        "#yc_train=Yc_train['sda']\n",
        "yc_test=y_test['child_sda']\n",
        "#yc_test=Yc_test['sda']"
      ],
      "metadata": {
        "id": "oFR5DILEjw9N"
      },
      "execution_count": null,
      "outputs": []
    },
    {
      "cell_type": "code",
      "source": [
        "gb_clf = GradientBoostingClassifier(random_state=42)\n",
        "dt_clf = DecisionTreeClassifier(random_state=42, max_depth=3)\n",
        "rf_clf = RandomForestClassifier(random_state=42)\n",
        "vot_clf = VotingClassifier(estimators=[('gb', gb_clf), ('rf', rf_clf)], voting='soft')"
      ],
      "metadata": {
        "id": "IP6N4FjtkXf6"
      },
      "execution_count": null,
      "outputs": []
    },
    {
      "cell_type": "code",
      "source": [
        "gb_clf = GradientBoostingRegressor(random_state=42)\n",
        "dt_clf = DecisionTreeRegressor(random_state=42, max_depth=3)\n",
        "vot_clf_ = VotingRegressor(estimators=[('gb', gb_clf), ('dt', dt_clf)])\n",
        "class RegWrapper:\n",
        "    def __init__(self, clf):\n",
        "        self._clf = clf\n",
        "\n",
        "    def fit(self, X, y):\n",
        "        self._clf.fit(X, y)\n",
        "        return self\n",
        "\n",
        "    def predict(self, X):\n",
        "        return self._clf.predict_proba(X)[:, 1]\n",
        "model_y=RegWrapper(LogisticRegression())"
      ],
      "metadata": {
        "id": "Pn5QlTvv_egu"
      },
      "execution_count": null,
      "outputs": []
    },
    {
      "cell_type": "code",
      "source": [
        "help(LogisticRegression())"
      ],
      "metadata": {
        "id": "R1uY_YgBCtgy"
      },
      "execution_count": null,
      "outputs": []
    },
    {
      "cell_type": "code",
      "source": [
        "est = LinearDML(model_y=model_y,\n",
        "                model_t=LogisticRegressionCV(),\n",
        "                discrete_treatment=True,\n",
        "                linear_first_stages=False,\n",
        "                cv=3)\n",
        "est.fit(yc_train, a_train, X=Xc_train, W=None, inference='statsmodels')\n",
        "te_pred = est.effect(X_)\n",
        "lb, ub = est.effect_interval(X_, alpha=0.05)"
      ],
      "metadata": {
        "colab": {
          "base_uri": "https://localhost:8080/"
        },
        "id": "r_4lFDJs8zpT",
        "outputId": "e541cb35-8009-4583-d760-3962434278ac"
      },
      "execution_count": null,
      "outputs": [
        {
          "output_type": "stream",
          "name": "stderr",
          "text": [
            "`sparse` was renamed to `sparse_output` in version 1.2 and will be removed in 1.4. `sparse_output` is ignored unless you leave `sparse` to its default value.\n",
            "The least populated class in y has only 3 members, which is less than n_splits=5.\n",
            "The least populated class in y has only 3 members, which is less than n_splits=5.\n",
            "The least populated class in y has only 2 members, which is less than n_splits=5.\n",
            "Co-variance matrix is underdetermined. Inference will be invalid!\n"
          ]
        }
      ]
    },
    {
      "cell_type": "code",
      "source": [
        "print(est.score_)\n",
        "print(est.score(Y, a, X_))"
      ],
      "metadata": {
        "colab": {
          "base_uri": "https://localhost:8080/"
        },
        "id": "EFZFaUimHb7s",
        "outputId": "cc503ead-de0f-4eba-ca07-3edcbc6f5b3c"
      },
      "execution_count": null,
      "outputs": [
        {
          "output_type": "stream",
          "name": "stdout",
          "text": [
            "0.207245411446361\n",
            "0.20762154698627794\n"
          ]
        }
      ]
    },
    {
      "cell_type": "code",
      "source": [
        "print(len(te_pred[te_pred>0])/len(te_pred))\n",
        "print(len(te_pred[te_pred<0])/len(te_pred))"
      ],
      "metadata": {
        "colab": {
          "base_uri": "https://localhost:8080/"
        },
        "id": "5jQBF6Q8L9kq",
        "outputId": "387342aa-463c-4ac8-dbd5-7e7895166c1e"
      },
      "execution_count": null,
      "outputs": [
        {
          "output_type": "stream",
          "name": "stdout",
          "text": [
            "0.115\n",
            "0.885\n"
          ]
        }
      ]
    },
    {
      "cell_type": "code",
      "source": [
        "from sklearn.preprocessing import PolynomialFeatures"
      ],
      "metadata": {
        "id": "F9HrwzlpPdJf"
      },
      "execution_count": null,
      "outputs": []
    },
    {
      "cell_type": "code",
      "source": [
        "est2 = SparseLinearDML(model_y=model_y,\n",
        "                       model_t=LogisticRegressionCV(),\n",
        "                       discrete_treatment=True,\n",
        "                       linear_first_stages=False,\n",
        "                       cv=3)\n",
        "est2.fit(yc_train, a_train, X=Xc_train, W=None)\n",
        "te_pred2 = est2.effect(X_)\n",
        "lb2, ub2 = est2.effect_interval(X_, alpha=0.05)"
      ],
      "metadata": {
        "id": "dFxhZpdBM7l5"
      },
      "execution_count": null,
      "outputs": []
    },
    {
      "cell_type": "code",
      "source": [
        "print(est2.score_)\n",
        "print(est2.score(Y, a, X_))"
      ],
      "metadata": {
        "colab": {
          "base_uri": "https://localhost:8080/"
        },
        "id": "CSCYMoJjO889",
        "outputId": "b2a3a39b-60b9-4bf8-c302-ca6b04e819a2"
      },
      "execution_count": null,
      "outputs": [
        {
          "output_type": "stream",
          "name": "stdout",
          "text": [
            "0.4990625987516413\n",
            "0.5741126663865211\n"
          ]
        },
        {
          "output_type": "stream",
          "name": "stderr",
          "text": [
            "Function delayed is deprecated; The function `delayed` has been moved from `sklearn.utils.fixes` to `sklearn.utils.parallel`. This import path will be removed in 1.5.\n",
            "`sklearn.utils.parallel.delayed` should be used with `sklearn.utils.parallel.Parallel` to make it possible to propagate the scikit-learn configuration of the current thread to the joblib workers.\n"
          ]
        }
      ]
    },
    {
      "cell_type": "code",
      "source": [
        "print(len(te_pred2[te_pred2>0])/len(te_pred2))\n",
        "print(len(te_pred2[te_pred2<0])/len(te_pred2))"
      ],
      "metadata": {
        "colab": {
          "base_uri": "https://localhost:8080/"
        },
        "id": "_p4r5X2HgyY7",
        "outputId": "a5eaf639-e5d5-4321-88ff-69f9395f7546"
      },
      "execution_count": null,
      "outputs": [
        {
          "output_type": "stream",
          "name": "stdout",
          "text": [
            "0.0\n",
            "1.0\n"
          ]
        }
      ]
    },
    {
      "cell_type": "code",
      "source": [
        "#, 'groupe_elevage', 'groupe_agriculture', 'groupe_peche', 'literacy', 'voucher_elevage', 'voucher_peche', 'voucher_agri', 'dist_GFD', 'dist_ration_protection', 'dist_1000Jours'"
      ],
      "metadata": {
        "colab": {
          "base_uri": "https://localhost:8080/",
          "height": 37
        },
        "id": "1qkeWQzl7qS4",
        "outputId": "3fa19cc9-ede9-47f8-90e5-90d214eb2586"
      },
      "execution_count": null,
      "outputs": [
        {
          "output_type": "execute_result",
          "data": {
            "text/plain": [
              "(807,)"
            ],
            "text/latex": "$\\displaystyle \\left( 807,\\right)$"
          },
          "metadata": {},
          "execution_count": 54
        }
      ]
    },
    {
      "cell_type": "code",
      "source": [
        "# initiate an EconML cate estimator\n",
        "est3=CausalModel()\n",
        "est3 = CausalForestDML(model_y=vot_clf, model_t=vot_clf)\n",
        "# fit through dowhy\n",
        "est_dw = est3.dowhy.fit(Y, T[:,0], X=X, W=W, outcome_names=[\"CATEGORIES\"], treatment_names=['SILC'], feature_names=feature_names,\n",
        "               confounder_names=confounder_names, inference=\"statsmodels\")"
      ],
      "metadata": {
        "colab": {
          "base_uri": "https://localhost:8080/",
          "height": 481
        },
        "id": "uympj4wc45Ld",
        "outputId": "d341342b-dfa6-452e-d3a2-9b38e8397403"
      },
      "execution_count": null,
      "outputs": [
        {
          "output_type": "stream",
          "name": "stderr",
          "text": [
            "econml has not been tested with dowhy versions >= 0.9\n",
            "WARNING:dowhy.causal_model:Causal Graph not provided. DoWhy will construct a graph based on data inputs.\n",
            "WARNING:dowhy.causal_identifier.auto_identifier:Max number of iterations 100000 reached. Could not find a valid backdoor set.\n"
          ]
        },
        {
          "output_type": "error",
          "ename": "ValueError",
          "evalue": "ignored",
          "traceback": [
            "\u001b[0;31m---------------------------------------------------------------------------\u001b[0m",
            "\u001b[0;31mValueError\u001b[0m                                Traceback (most recent call last)",
            "\u001b[0;32m<ipython-input-61-668ed2ebecec>\u001b[0m in \u001b[0;36m<cell line: 4>\u001b[0;34m()\u001b[0m\n\u001b[1;32m      2\u001b[0m \u001b[0mest3\u001b[0m \u001b[0;34m=\u001b[0m \u001b[0mCausalForestDML\u001b[0m\u001b[0;34m(\u001b[0m\u001b[0mmodel_y\u001b[0m\u001b[0;34m=\u001b[0m\u001b[0mvot_clf\u001b[0m\u001b[0;34m,\u001b[0m \u001b[0mmodel_t\u001b[0m\u001b[0;34m=\u001b[0m\u001b[0mvot_clf\u001b[0m\u001b[0;34m)\u001b[0m\u001b[0;34m\u001b[0m\u001b[0;34m\u001b[0m\u001b[0m\n\u001b[1;32m      3\u001b[0m \u001b[0;31m# fit through dowhy\u001b[0m\u001b[0;34m\u001b[0m\u001b[0;34m\u001b[0m\u001b[0m\n\u001b[0;32m----> 4\u001b[0;31m est_dw = est3.dowhy.fit(Y, T[:,0], X=X, W=W, outcome_names=[\"CATEGORIES\"], treatment_names=['SILC'], feature_names=feature_names,\n\u001b[0m\u001b[1;32m      5\u001b[0m                confounder_names=confounder_names, inference=\"statsmodels\")\n",
            "\u001b[0;32m/usr/local/lib/python3.10/dist-packages/econml/dowhy.py\u001b[0m in \u001b[0;36mfit\u001b[0;34m(self, Y, T, X, W, Z, outcome_names, treatment_names, feature_names, confounder_names, instrument_names, graph, estimand_type, proceed_when_unidentifiable, missing_nodes_as_confounders, control_value, treatment_value, target_units, **kwargs)\u001b[0m\n\u001b[1;32m    172\u001b[0m         \u001b[0;32mfor\u001b[0m \u001b[0mp\u001b[0m \u001b[0;32min\u001b[0m \u001b[0mself\u001b[0m\u001b[0;34m.\u001b[0m\u001b[0m_get_params\u001b[0m\u001b[0;34m(\u001b[0m\u001b[0;34m)\u001b[0m\u001b[0;34m:\u001b[0m\u001b[0;34m\u001b[0m\u001b[0;34m\u001b[0m\u001b[0m\n\u001b[1;32m    173\u001b[0m             \u001b[0minit_params\u001b[0m\u001b[0;34m[\u001b[0m\u001b[0mp\u001b[0m\u001b[0;34m]\u001b[0m \u001b[0;34m=\u001b[0m \u001b[0mgetattr\u001b[0m\u001b[0;34m(\u001b[0m\u001b[0mself\u001b[0m\u001b[0;34m.\u001b[0m\u001b[0m_cate_estimator\u001b[0m\u001b[0;34m,\u001b[0m \u001b[0mp\u001b[0m\u001b[0;34m)\u001b[0m\u001b[0;34m\u001b[0m\u001b[0;34m\u001b[0m\u001b[0m\n\u001b[0;32m--> 174\u001b[0;31m         self.estimate_ = self.dowhy_.estimate_effect(self.identified_estimand_,\n\u001b[0m\u001b[1;32m    175\u001b[0m                                                      \u001b[0mmethod_name\u001b[0m\u001b[0;34m=\u001b[0m\u001b[0mmethod_name\u001b[0m\u001b[0;34m,\u001b[0m\u001b[0;34m\u001b[0m\u001b[0;34m\u001b[0m\u001b[0m\n\u001b[1;32m    176\u001b[0m                                                      \u001b[0mcontrol_value\u001b[0m\u001b[0;34m=\u001b[0m\u001b[0mcontrol_value\u001b[0m\u001b[0;34m,\u001b[0m\u001b[0;34m\u001b[0m\u001b[0;34m\u001b[0m\u001b[0m\n",
            "\u001b[0;32m/usr/local/lib/python3.10/dist-packages/dowhy/causal_model.py\u001b[0m in \u001b[0;36mestimate_effect\u001b[0;34m(self, identified_estimand, method_name, control_value, treatment_value, test_significance, evaluate_effect_strength, confidence_intervals, target_units, effect_modifiers, fit_estimator, method_params)\u001b[0m\n\u001b[1;32m    316\u001b[0m                 \u001b[0mself\u001b[0m\u001b[0;34m.\u001b[0m\u001b[0m_estimator_cache\u001b[0m\u001b[0;34m[\u001b[0m\u001b[0mmethod_name\u001b[0m\u001b[0;34m]\u001b[0m \u001b[0;34m=\u001b[0m \u001b[0mcausal_estimator\u001b[0m\u001b[0;34m\u001b[0m\u001b[0;34m\u001b[0m\u001b[0m\n\u001b[1;32m    317\u001b[0m \u001b[0;34m\u001b[0m\u001b[0m\n\u001b[0;32m--> 318\u001b[0;31m         return estimate_effect(\n\u001b[0m\u001b[1;32m    319\u001b[0m             \u001b[0mself\u001b[0m\u001b[0;34m.\u001b[0m\u001b[0m_data\u001b[0m\u001b[0;34m,\u001b[0m\u001b[0;34m\u001b[0m\u001b[0;34m\u001b[0m\u001b[0m\n\u001b[1;32m    320\u001b[0m             \u001b[0mself\u001b[0m\u001b[0;34m.\u001b[0m\u001b[0m_treatment\u001b[0m\u001b[0;34m,\u001b[0m\u001b[0;34m\u001b[0m\u001b[0;34m\u001b[0m\u001b[0m\n",
            "\u001b[0;32m/usr/local/lib/python3.10/dist-packages/dowhy/causal_estimator.py\u001b[0m in \u001b[0;36mestimate_effect\u001b[0;34m(data, treatment, outcome, identifier_name, estimator, control_value, treatment_value, target_units, effect_modifiers, fit_estimator, method_params)\u001b[0m\n\u001b[1;32m    709\u001b[0m \u001b[0;34m\u001b[0m\u001b[0m\n\u001b[1;32m    710\u001b[0m     \u001b[0;32mif\u001b[0m \u001b[0mfit_estimator\u001b[0m\u001b[0;34m:\u001b[0m\u001b[0;34m\u001b[0m\u001b[0;34m\u001b[0m\u001b[0m\n\u001b[0;32m--> 711\u001b[0;31m         estimator.fit(\n\u001b[0m\u001b[1;32m    712\u001b[0m             \u001b[0mdata\u001b[0m\u001b[0;34m=\u001b[0m\u001b[0mdata\u001b[0m\u001b[0;34m,\u001b[0m\u001b[0;34m\u001b[0m\u001b[0;34m\u001b[0m\u001b[0m\n\u001b[1;32m    713\u001b[0m             \u001b[0mtreatment_name\u001b[0m\u001b[0;34m=\u001b[0m\u001b[0mtreatment\u001b[0m\u001b[0;34m,\u001b[0m\u001b[0;34m\u001b[0m\u001b[0;34m\u001b[0m\u001b[0m\n",
            "\u001b[0;32m/usr/local/lib/python3.10/dist-packages/dowhy/causal_estimators/econml.py\u001b[0m in \u001b[0;36mfit\u001b[0;34m(self, data, treatment_name, outcome_name, effect_modifier_names, **kwargs)\u001b[0m\n\u001b[1;32m    198\u001b[0m             \u001b[0marg\u001b[0m\u001b[0;34m:\u001b[0m \u001b[0mnamed_data_args\u001b[0m\u001b[0;34m[\u001b[0m\u001b[0marg\u001b[0m\u001b[0;34m]\u001b[0m \u001b[0;32mfor\u001b[0m \u001b[0marg\u001b[0m \u001b[0;32min\u001b[0m \u001b[0mnamed_data_args\u001b[0m\u001b[0;34m.\u001b[0m\u001b[0mkeys\u001b[0m\u001b[0;34m(\u001b[0m\u001b[0;34m)\u001b[0m \u001b[0;32mif\u001b[0m \u001b[0marg\u001b[0m \u001b[0;32min\u001b[0m \u001b[0mestimator_named_args\u001b[0m\u001b[0;34m\u001b[0m\u001b[0;34m\u001b[0m\u001b[0m\n\u001b[1;32m    199\u001b[0m         }\n\u001b[0;32m--> 200\u001b[0;31m         \u001b[0mself\u001b[0m\u001b[0;34m.\u001b[0m\u001b[0mestimator\u001b[0m\u001b[0;34m.\u001b[0m\u001b[0mfit\u001b[0m\u001b[0;34m(\u001b[0m\u001b[0;34m**\u001b[0m\u001b[0mestimator_data_args\u001b[0m\u001b[0;34m,\u001b[0m \u001b[0;34m**\u001b[0m\u001b[0mkwargs\u001b[0m\u001b[0;34m)\u001b[0m\u001b[0;34m\u001b[0m\u001b[0;34m\u001b[0m\u001b[0m\n\u001b[0m\u001b[1;32m    201\u001b[0m \u001b[0;34m\u001b[0m\u001b[0m\n\u001b[1;32m    202\u001b[0m         \u001b[0;32mreturn\u001b[0m \u001b[0mself\u001b[0m\u001b[0;34m\u001b[0m\u001b[0;34m\u001b[0m\u001b[0m\n",
            "\u001b[0;32m/usr/local/lib/python3.10/dist-packages/econml/dml/causal_forest.py\u001b[0m in \u001b[0;36mfit\u001b[0;34m(self, Y, T, X, W, sample_weight, groups, cache_values, inference)\u001b[0m\n\u001b[1;32m    831\u001b[0m         \"\"\"\n\u001b[1;32m    832\u001b[0m         \u001b[0;32mif\u001b[0m \u001b[0mX\u001b[0m \u001b[0;32mis\u001b[0m \u001b[0;32mNone\u001b[0m\u001b[0;34m:\u001b[0m\u001b[0;34m\u001b[0m\u001b[0;34m\u001b[0m\u001b[0m\n\u001b[0;32m--> 833\u001b[0;31m             \u001b[0;32mraise\u001b[0m \u001b[0mValueError\u001b[0m\u001b[0;34m(\u001b[0m\u001b[0;34m\"This estimator does not support X=None!\"\u001b[0m\u001b[0;34m)\u001b[0m\u001b[0;34m\u001b[0m\u001b[0;34m\u001b[0m\u001b[0m\n\u001b[0m\u001b[1;32m    834\u001b[0m         return super().fit(Y, T, X=X, W=W,\n\u001b[1;32m    835\u001b[0m                            \u001b[0msample_weight\u001b[0m\u001b[0;34m=\u001b[0m\u001b[0msample_weight\u001b[0m\u001b[0;34m,\u001b[0m \u001b[0mgroups\u001b[0m\u001b[0;34m=\u001b[0m\u001b[0mgroups\u001b[0m\u001b[0;34m,\u001b[0m\u001b[0;34m\u001b[0m\u001b[0;34m\u001b[0m\u001b[0m\n",
            "\u001b[0;31mValueError\u001b[0m: This estimator does not support X=None!"
          ]
        }
      ]
    },
    {
      "cell_type": "code",
      "source": [
        "est3 = CausalForestDML(model_y=vot_clf,\n",
        "                       model_t=LogisticRegressionCV(),\n",
        "                       discrete_treatment=True,\n",
        "                       n_estimators=1000,\n",
        "                       min_impurity_decrease=0.001,\n",
        "                       verbose=0,\n",
        "                       cv=3)\n",
        "#est3.tune(yc_train, a_train, X=Xc_train, W=None)\n",
        "est3.fit(yc_train, a_train, X=Xc_train, W=None)\n",
        "#te_pred3 = est3.effect(X_)\n",
        "#lb3, ub3 = est3.effect_interval(X_, alpha=0.05)"
      ],
      "metadata": {
        "id": "fVp5JmQ-Rb8c",
        "colab": {
          "base_uri": "https://localhost:8080/"
        },
        "outputId": "f75f6821-d7ff-428b-bf54-27051e57a9d6"
      },
      "execution_count": null,
      "outputs": [
        {
          "output_type": "stream",
          "name": "stderr",
          "text": [
            "`sparse` was renamed to `sparse_output` in version 1.2 and will be removed in 1.4. `sparse_output` is ignored unless you leave `sparse` to its default value.\n",
            "The least populated class in y has only 3 members, which is less than n_splits=5.\n",
            "The least populated class in y has only 3 members, which is less than n_splits=5.\n",
            "The least populated class in y has only 2 members, which is less than n_splits=5.\n"
          ]
        }
      ]
    },
    {
      "cell_type": "code",
      "source": [
        "print(est3.score_)\n",
        "print(est3.score(Y, a, X_))"
      ],
      "metadata": {
        "colab": {
          "base_uri": "https://localhost:8080/"
        },
        "id": "3GFFdLNIR7TB",
        "outputId": "2aa58c97-f98e-4b9a-d197-ddd2a73fb5bf"
      },
      "execution_count": null,
      "outputs": [
        {
          "output_type": "stream",
          "name": "stdout",
          "text": [
            "0.20930817055783252\n",
            "0.20916279576899469\n"
          ]
        }
      ]
    },
    {
      "cell_type": "code",
      "source": [
        "print(len(te_pred3[te_pred3>0])/len(te_pred3))\n",
        "print(len(te_pred3[te_pred3<0])/len(te_pred3))"
      ],
      "metadata": {
        "colab": {
          "base_uri": "https://localhost:8080/"
        },
        "id": "7YAznV-gg8RS",
        "outputId": "3505fd69-334f-4bba-df50-3b85b63a1fda"
      },
      "execution_count": null,
      "outputs": [
        {
          "output_type": "stream",
          "name": "stdout",
          "text": [
            "0.0\n",
            "1.0\n"
          ]
        }
      ]
    },
    {
      "cell_type": "code",
      "source": [
        "est3.ate_inference(X_)"
      ],
      "metadata": {
        "colab": {
          "base_uri": "https://localhost:8080/",
          "height": 255
        },
        "id": "fQSOs68ODpNr",
        "outputId": "430aa9c1-5b69-417c-b6e0-b6551bdda1fa"
      },
      "execution_count": null,
      "outputs": [
        {
          "output_type": "execute_result",
          "data": {
            "text/plain": [
              "<econml.inference._inference.PopulationSummaryResults at 0x7f3701f3aa60>"
            ],
            "text/html": [
              "<table class=\"simpletable\">\n",
              "<caption>Uncertainty of Mean Point Estimate</caption>\n",
              "<tr>\n",
              "  <th>mean_point</th> <th>stderr_mean</th> <th>zstat</th> <th>pvalue</th> <th>ci_mean_lower</th> <th>ci_mean_upper</th>\n",
              "</tr>\n",
              "<tr>\n",
              "    <td>-0.431</td>      <td>0.113</td>    <td>-3.8</td>    <td>0.0</td>     <td>-0.653</td>        <td>-0.209</td>    \n",
              "</tr>\n",
              "</table>\n",
              "<table class=\"simpletable\">\n",
              "<caption>Distribution of Point Estimate</caption>\n",
              "<tr>\n",
              "  <th>std_point</th> <th>pct_point_lower</th> <th>pct_point_upper</th>\n",
              "</tr>\n",
              "<tr>\n",
              "    <td>0.083</td>       <td>-0.589</td>          <td>-0.366</td>     \n",
              "</tr>\n",
              "</table>\n",
              "<table class=\"simpletable\">\n",
              "<caption>Total Variance of Point Estimate</caption>\n",
              "<tr>\n",
              "  <th>stderr_point</th> <th>ci_point_lower</th> <th>ci_point_upper</th>\n",
              "</tr>\n",
              "<tr>\n",
              "      <td>0.141</td>        <td>-0.867</td>         <td>-0.285</td>    \n",
              "</tr>\n",
              "</table><br/><br/>Note: The stderr_mean is a conservative upper bound."
            ]
          },
          "metadata": {},
          "execution_count": 134
        }
      ]
    },
    {
      "cell_type": "code",
      "source": [
        "#expected_te=np.array([exp_te(x_i) for x_i in X_test])\n",
        "plt.figure(figsize=(16,6))\n",
        "plt.subplot(1, 3, 1)\n",
        "plt.plot( X_.values[:, 0], te_pred, label='LinearDML', alpha=.6)\n",
        "plt.fill_between( X_.values[:, 0], lb, ub, alpha=.4)\n",
        "#plt.plot(X_test[:, 0], expected_te, 'b--', label='True effect')\n",
        "plt.ylabel('Treatment Effect')\n",
        "plt.xlabel('x')\n",
        "plt.legend()\n",
        "plt.subplot(1, 3, 2)\n",
        "plt.plot( X_.values[:, 0], te_pred2, label='SparseLinearDML', alpha=.6)\n",
        "plt.fill_between( X_.values[:, 0], lb2, ub2, alpha=.4)\n",
        "#plt.plot(X_test[:, 0], expected_te, 'b--', label='True effect')\n",
        "plt.ylabel('Treatment Effect')\n",
        "plt.xlabel('x')\n",
        "plt.legend()\n",
        "plt.subplot(1, 3, 3)\n",
        "plt.plot( X_.values[:, 0], te_pred3, label='ForestDML', alpha=.6)\n",
        "plt.fill_between( X_.values[:, 0], lb3, ub3, alpha=.4)\n",
        "#plt.plot(X_test[:, 0], expected_te, 'b--', label='True effect')\n",
        "plt.ylabel('Treatment Effect')\n",
        "plt.xlabel('x')\n",
        "plt.legend()\n",
        "plt.show()"
      ],
      "metadata": {
        "colab": {
          "base_uri": "https://localhost:8080/",
          "height": 388
        },
        "id": "fPoqVwjhIYnu",
        "outputId": "9c326fcc-57fa-4769-a433-878d1c4d1416"
      },
      "execution_count": null,
      "outputs": [
        {
          "output_type": "display_data",
          "data": {
            "text/plain": [
              "<Figure size 1152x432 with 3 Axes>"
            ],
            "image/png": "[encoded data removed]"
          },
          "metadata": {
            "needs_background": "light"
          }
        }
      ]
    },
    {
      "cell_type": "code",
      "source": [
        "est4 = ForestDRLearner(model_regression=model_y,\n",
        "                      model_propensity=LogisticRegressionCV(),\n",
        "                      cv=3,\n",
        "                      n_estimators=4000,\n",
        "                      min_samples_leaf=10,\n",
        "                      verbose=0,\n",
        "                      min_weight_fraction_leaf=.005)\n",
        "est4.fit(yc_train, a_train, X=Xc_train)\n",
        "te_pred4 = est4.effect(X_)\n",
        "lb4, ub4 = est4.effect_interval(X_, alpha=0.05)"
      ],
      "metadata": {
        "id": "VksM8PV9waiB",
        "colab": {
          "base_uri": "https://localhost:8080/"
        },
        "outputId": "36db624a-f2a3-491a-c254-6eb2cda0f25b"
      },
      "execution_count": null,
      "outputs": [
        {
          "output_type": "stream",
          "name": "stderr",
          "text": [
            "`sparse` was renamed to `sparse_output` in version 1.2 and will be removed in 1.4. `sparse_output` is ignored unless you leave `sparse` to its default value.\n"
          ]
        }
      ]
    },
    {
      "cell_type": "code",
      "source": [
        "print(est4.score_)\n",
        "print(est4.score(Y, a, X_))"
      ],
      "metadata": {
        "colab": {
          "base_uri": "https://localhost:8080/"
        },
        "id": "c1_JOscJCCY9",
        "outputId": "f2f6e1a3-c832-4e22-9861-a87c3cf73417"
      },
      "execution_count": null,
      "outputs": [
        {
          "output_type": "stream",
          "name": "stdout",
          "text": [
            "1.0031590194826294\n",
            "0.8343280361411155\n"
          ]
        }
      ]
    },
    {
      "cell_type": "code",
      "source": [
        "print(len(te_pred4[te_pred4>0])/len(te_pred4))\n",
        "print(len(te_pred4[te_pred4<0])/len(te_pred4))"
      ],
      "metadata": {
        "colab": {
          "base_uri": "https://localhost:8080/"
        },
        "id": "ahIOUHdVCT92",
        "outputId": "6c60e2cf-916a-435e-e3f3-54a34416b919"
      },
      "execution_count": null,
      "outputs": [
        {
          "output_type": "stream",
          "name": "stdout",
          "text": [
            "0.0\n",
            "1.0\n"
          ]
        }
      ]
    },
    {
      "cell_type": "markdown",
      "source": [
        "\n",
        "\n",
        "\n",
        "Propensity-score based approach with Causallib"
      ],
      "metadata": {
        "id": "xksiwFdljo0X"
      }
    },
    {
      "cell_type": "code",
      "source": [
        "X_=X[['silc', 'gfv_cg', 'other_group_member']]\n",
        "#X_=X.drop('ration_protection', axis=1)\n",
        "a=X['voucher_agri']\n",
        "y=Y['class']"
      ],
      "metadata": {
        "id": "XMIT3ghVTtD2"
      },
      "execution_count": null,
      "outputs": []
    },
    {
      "cell_type": "code",
      "source": [
        "#indExclude = (X_['silc'] < 1) & (X_['gfv_cg'] > 0)\n",
        "#indExclude_ = (X_['silc'] > 0) & (X_['other_group_member'] > 0)\n",
        "#indExclude = (X_['silc_group_member'] > 0) & (X_['other_group_member'] < 1)"
      ],
      "metadata": {
        "id": "Ft1_dfcm3uzN"
      },
      "execution_count": null,
      "outputs": []
    },
    {
      "cell_type": "code",
      "source": [
        "#lr = LogisticRegression(solver='lbfgs', max_iter=1000)\n",
        "lr = LogisticRegression(penalty='l1', solver='saga', max_iter=1000)\n",
        "gb_clf = GradientBoostingClassifier(random_state=42)\n",
        "dt_clf = DecisionTreeClassifier(random_state=42, max_depth=3)\n",
        "vot_clf = VotingClassifier(estimators=[('gb', gb_clf), ('dt', dt_clf)], voting='soft')\n",
        "#lr = GradientBoostingClassifier()\n",
        "#lr = vot_clf\n",
        "#ipw = IPW(lr)\n",
        "#ipw=Matching()\n",
        "ipw=overlap_weights.OverlapWeights(lr)"
      ],
      "metadata": {
        "id": "kAjbP5ybRoFw"
      },
      "execution_count": null,
      "outputs": []
    },
    {
      "cell_type": "code",
      "source": [
        "ipw.fit(X_, a)\n",
        "#ipw.fit(X_, a, y)"
      ],
      "metadata": {
        "colab": {
          "base_uri": "https://localhost:8080/"
        },
        "id": "8c9eZvB7EYX2",
        "outputId": "c766f70a-d651-4c86-823e-90adc738c311"
      },
      "execution_count": null,
      "outputs": [
        {
          "output_type": "execute_result",
          "data": {
            "text/plain": [
              "OverlapWeights(clip_max=None, clip_min=False, use_stabilized=False, verbose=False,\n",
              "               learner=LogisticRegression(max_iter=1000, penalty='l1', solver='saga'))"
            ]
          },
          "metadata": {},
          "execution_count": 145
        }
      ]
    },
    {
      "cell_type": "code",
      "source": [
        "#y = y.loc[~indExclude]\n",
        "#y = y.loc[~indExclude_]\n",
        "#a = a.loc[~indExclude]\n",
        "#a = a.loc[~indExclude_]\n",
        "#X_ = X_.loc[~indExclude]\n",
        "#X_ = X_.loc[~indExclude_]\n",
        "#print(y.mean())\n",
        "#print(a.mean())"
      ],
      "metadata": {
        "id": "ty9CB4Li5arz"
      },
      "execution_count": null,
      "outputs": []
    },
    {
      "cell_type": "code",
      "source": [
        "outcomes = ipw.estimate_population_outcome(X_, a, y)\n",
        "print(outcomes)"
      ],
      "metadata": {
        "colab": {
          "base_uri": "https://localhost:8080/"
        },
        "id": "zrzzx4zmfKxG",
        "outputId": "5caafd41-19e3-4a2c-d3dd-7bc76cd0fdf1"
      },
      "execution_count": null,
      "outputs": [
        {
          "output_type": "stream",
          "name": "stdout",
          "text": [
            "0    0.735219\n",
            "1    0.509804\n",
            "dtype: float64\n"
          ]
        }
      ]
    },
    {
      "cell_type": "code",
      "source": [
        "eval_results = evaluate(ipw, X_, a, y)\n",
        "eval_results.plot_all()\n",
        "#eval_results.plot_covariate_balance(kind=\"love\");"
      ],
      "metadata": {
        "colab": {
          "base_uri": "https://localhost:8080/",
          "height": 1000
        },
        "id": "29wgaurNWA6_",
        "outputId": "6926ca70-0108-460a-e4de-adb0835f6b1e"
      },
      "execution_count": null,
      "outputs": [
        {
          "output_type": "stream",
          "name": "stderr",
          "text": [
            "Precision is ill-defined and being set to 0.0 due to no predicted samples. Use `zero_division` parameter to control this behavior.\n"
          ]
        },
        {
          "output_type": "execute_result",
          "data": {
            "text/plain": [
              "{'train': {'weight_distribution': <matplotlib.axes._subplots.AxesSubplot at 0x7f45ec870dc0>,\n",
              "  'pr_curve': <matplotlib.axes._subplots.AxesSubplot at 0x7f45edb0f340>,\n",
              "  'roc_curve': <matplotlib.axes._subplots.AxesSubplot at 0x7f45edab96d0>,\n",
              "  'covariate_balance_love': <matplotlib.axes._subplots.AxesSubplot at 0x7f45edae3a90>,\n",
              "  'calibration': <matplotlib.axes._subplots.AxesSubplot at 0x7f45eda94610>,\n",
              "  'covariate_balance_slope': <matplotlib.axes._subplots.AxesSubplot at 0x7f45eda39df0>}}"
            ]
          },
          "metadata": {},
          "execution_count": 148
        },
        {
          "output_type": "display_data",
          "data": {
            "text/plain": [
              "<Figure size 1152x1152 with 6 Axes>"
            ],
            "image/png": "[encoded data removed]"
          },
          "metadata": {
            "needs_background": "light"
          }
        }
      ]
    },
    {
      "cell_type": "code",
      "source": [
        "ipw.estimate_effect(outcomes[1], outcomes[0], effect_types=['diff','ratio'])"
      ],
      "metadata": {
        "colab": {
          "base_uri": "https://localhost:8080/"
        },
        "id": "1HvOG9tUfSVa",
        "outputId": "21c321e1-ff63-488a-f6c7-10e12fc321ca"
      },
      "execution_count": null,
      "outputs": [
        {
          "output_type": "execute_result",
          "data": {
            "text/plain": [
              "diff     0.865360\n",
              "ratio    2.618582\n",
              "dtype: float64"
            ]
          },
          "metadata": {},
          "execution_count": 71
        }
      ]
    },
    {
      "cell_type": "markdown",
      "source": [
        "From the IPW analysis (Inverse Probability of Treatment/intervention Weighting), We conclude that the food distribution during the lean season while other services are either provided or not results in a higher rate of using latrines, 97% to 100%, a difference of 3.0% and a relative increase of almost 3%."
      ],
      "metadata": {
        "id": "-OnnG8ashG9Y"
      }
    },
    {
      "cell_type": "markdown",
      "source": [
        "Based on the diagnosis of the approach, there are no residual systematic differences in observed baseline characteristics between treated and control subjects in the sample weighted by the estimated inverse probability of treatment, which statistically validates the conclusions"
      ],
      "metadata": {
        "id": "h3w99MbitoO2"
      }
    },
    {
      "cell_type": "code",
      "source": [
        "!pip install aix360\n",
        "from sklearn.metrics import accuracy_score, roc_auc_score"
      ],
      "metadata": {
        "id": "tEpJ6ZahpTXy"
      },
      "execution_count": null,
      "outputs": []
    },
    {
      "cell_type": "code",
      "source": [
        "from aix360.algorithms.rbm import BooleanRuleCG, FeatureBinarizer\n",
        "fb = FeatureBinarizer(negations=True)\n",
        "X_fb = fb.fit_transform(X_)\n",
        "br = BooleanRuleCG()\n",
        "br.fit(X_fb, a)\n",
        "\n",
        "from sklearn.metrics import accuracy_score, roc_auc_score\n",
        "aPred = br.predict(X_fb)\n",
        "print('Accuracy: {}'.format(accuracy_score(a, aPred)))\n",
        "print('AUC: {}'.format(roc_auc_score(a, aPred)))\n",
        "print(br.explain()['rules'])"
      ],
      "metadata": {
        "id": "2vUfuANBxpMw"
      },
      "execution_count": null,
      "outputs": []
    },
    {
      "cell_type": "code",
      "source": [
        "#gb = LinearRegression()\n",
        "gb_clf = GradientBoostingClassifier(random_state=42)\n",
        "dt_clf = DecisionTreeClassifier(random_state=42, max_depth=3)\n",
        "vot_clf = VotingClassifier(estimators=[('gb', gb_clf), ('dt', dt_clf)], voting='soft')\n",
        "std = Standardization(vot_clf, predict_proba=True)\n",
        "std.fit(X_, a, y)"
      ],
      "metadata": {
        "id": "M2ROBblPS6OG",
        "colab": {
          "base_uri": "https://localhost:8080/"
        },
        "outputId": "2475cda8-a465-4f08-8e5f-fed9aaea191c"
      },
      "execution_count": null,
      "outputs": [
        {
          "output_type": "execute_result",
          "data": {
            "text/plain": [
              "Standardization(encode_treatment=False, predict_proba=True,\n",
              "                learner=VotingClassifier(estimators=[('gb',\n",
              "                              GradientBoostingClassifier(random_state=42)),\n",
              "                             ('dt',\n",
              "                              DecisionTreeClassifier(max_depth=3,\n",
              "                                                     random_state=42))],\n",
              "                 voting='soft'))"
            ]
          },
          "metadata": {},
          "execution_count": 369
        }
      ]
    },
    {
      "cell_type": "code",
      "source": [
        "outcomes = std.estimate_population_outcome(X_, a).xs(1, level='y')\n",
        "print(outcomes)\n",
        "std.estimate_effect(outcomes[1], outcomes[0], effect_types=['diff','ratio'])"
      ],
      "metadata": {
        "id": "9MO4keERj6qc"
      },
      "execution_count": null,
      "outputs": []
    },
    {
      "cell_type": "code",
      "source": [
        "eval_results = evaluate(std, X_, a, y)\n",
        "eval_results.plot_all()"
      ],
      "metadata": {
        "id": "HKOJfVW_kBWw"
      },
      "execution_count": null,
      "outputs": []
    },
    {
      "cell_type": "code",
      "source": [
        "std = StratifiedStandardization(vot_clf, predict_proba=True)\n",
        "std.fit(X_, a, y)\n",
        "\n",
        "outcomes = std.estimate_population_outcome(X_, a).xs(1, level='y')\n",
        "print(outcomes)\n",
        "std.estimate_effect(outcomes[0], outcomes[1], effect_types=['diff','ratio'])"
      ],
      "metadata": {
        "colab": {
          "base_uri": "https://localhost:8080/",
          "height": 407
        },
        "id": "y0jC7r7imRtk",
        "outputId": "a456c6a0-eed6-4cb2-f2fe-20fabafa40e1"
      },
      "execution_count": null,
      "outputs": [
        {
          "output_type": "error",
          "ename": "ValueError",
          "evalue": "ignored",
          "traceback": [
            "\u001b[0;31m---------------------------------------------------------------------------\u001b[0m",
            "\u001b[0;31mValueError\u001b[0m                                Traceback (most recent call last)",
            "\u001b[0;32m<ipython-input-376-57411c9f17a4>\u001b[0m in \u001b[0;36m<module>\u001b[0;34m\u001b[0m\n\u001b[1;32m      1\u001b[0m \u001b[0mstd\u001b[0m \u001b[0;34m=\u001b[0m \u001b[0mStratifiedStandardization\u001b[0m\u001b[0;34m(\u001b[0m\u001b[0mvot_clf\u001b[0m\u001b[0;34m,\u001b[0m \u001b[0mpredict_proba\u001b[0m\u001b[0;34m=\u001b[0m\u001b[0;32mTrue\u001b[0m\u001b[0;34m)\u001b[0m\u001b[0;34m\u001b[0m\u001b[0;34m\u001b[0m\u001b[0m\n\u001b[0;32m----> 2\u001b[0;31m \u001b[0mstd\u001b[0m\u001b[0;34m.\u001b[0m\u001b[0mfit\u001b[0m\u001b[0;34m(\u001b[0m\u001b[0mX_\u001b[0m\u001b[0;34m,\u001b[0m \u001b[0ma\u001b[0m\u001b[0;34m,\u001b[0m \u001b[0my\u001b[0m\u001b[0;34m)\u001b[0m\u001b[0;34m\u001b[0m\u001b[0;34m\u001b[0m\u001b[0m\n\u001b[0m\u001b[1;32m      3\u001b[0m \u001b[0;34m\u001b[0m\u001b[0m\n\u001b[1;32m      4\u001b[0m \u001b[0moutcomes\u001b[0m \u001b[0;34m=\u001b[0m \u001b[0mstd\u001b[0m\u001b[0;34m.\u001b[0m\u001b[0mestimate_population_outcome\u001b[0m\u001b[0;34m(\u001b[0m\u001b[0mX_\u001b[0m\u001b[0;34m,\u001b[0m \u001b[0ma\u001b[0m\u001b[0;34m)\u001b[0m\u001b[0;34m.\u001b[0m\u001b[0mxs\u001b[0m\u001b[0;34m(\u001b[0m\u001b[0;36m1\u001b[0m\u001b[0;34m,\u001b[0m \u001b[0mlevel\u001b[0m\u001b[0;34m=\u001b[0m\u001b[0;34m'y'\u001b[0m\u001b[0;34m)\u001b[0m\u001b[0;34m\u001b[0m\u001b[0;34m\u001b[0m\u001b[0m\n\u001b[1;32m      5\u001b[0m \u001b[0mprint\u001b[0m\u001b[0;34m(\u001b[0m\u001b[0moutcomes\u001b[0m\u001b[0;34m)\u001b[0m\u001b[0;34m\u001b[0m\u001b[0;34m\u001b[0m\u001b[0m\n",
            "\u001b[0;32m/usr/local/lib/python3.8/dist-packages/causallib/estimation/standardization.py\u001b[0m in \u001b[0;36mfit\u001b[0;34m(self, X, a, y, sample_weight)\u001b[0m\n\u001b[1;32m    169\u001b[0m         \u001b[0;32mfor\u001b[0m \u001b[0mcur_X\u001b[0m\u001b[0;34m,\u001b[0m \u001b[0mcur_y\u001b[0m\u001b[0;34m,\u001b[0m \u001b[0mcur_sw\u001b[0m\u001b[0;34m,\u001b[0m \u001b[0mtreatment_value\u001b[0m \u001b[0;32min\u001b[0m \u001b[0mself\u001b[0m\u001b[0;34m.\u001b[0m\u001b[0m_prepare_data\u001b[0m\u001b[0;34m(\u001b[0m\u001b[0mX\u001b[0m\u001b[0;34m,\u001b[0m \u001b[0ma\u001b[0m\u001b[0;34m,\u001b[0m \u001b[0my\u001b[0m\u001b[0;34m,\u001b[0m \u001b[0msample_weight\u001b[0m\u001b[0;34m)\u001b[0m\u001b[0;34m:\u001b[0m\u001b[0;34m\u001b[0m\u001b[0;34m\u001b[0m\u001b[0m\n\u001b[1;32m    170\u001b[0m             \u001b[0mfit_params\u001b[0m \u001b[0;34m=\u001b[0m \u001b[0m_add_sample_weight_fit_params\u001b[0m\u001b[0;34m(\u001b[0m\u001b[0mself\u001b[0m\u001b[0;34m.\u001b[0m\u001b[0mlearner\u001b[0m\u001b[0;34m[\u001b[0m\u001b[0mtreatment_value\u001b[0m\u001b[0;34m]\u001b[0m\u001b[0;34m,\u001b[0m \u001b[0mcur_sw\u001b[0m\u001b[0;34m)\u001b[0m\u001b[0;34m\u001b[0m\u001b[0;34m\u001b[0m\u001b[0m\n\u001b[0;32m--> 171\u001b[0;31m             \u001b[0mself\u001b[0m\u001b[0;34m.\u001b[0m\u001b[0mlearner\u001b[0m\u001b[0;34m[\u001b[0m\u001b[0mtreatment_value\u001b[0m\u001b[0;34m]\u001b[0m \u001b[0;34m=\u001b[0m \u001b[0mself\u001b[0m\u001b[0;34m.\u001b[0m\u001b[0mlearner\u001b[0m\u001b[0;34m[\u001b[0m\u001b[0mtreatment_value\u001b[0m\u001b[0;34m]\u001b[0m\u001b[0;34m.\u001b[0m\u001b[0mfit\u001b[0m\u001b[0;34m(\u001b[0m\u001b[0mcur_X\u001b[0m\u001b[0;34m,\u001b[0m \u001b[0mcur_y\u001b[0m\u001b[0;34m,\u001b[0m \u001b[0;34m**\u001b[0m\u001b[0mfit_params\u001b[0m\u001b[0;34m)\u001b[0m\u001b[0;34m\u001b[0m\u001b[0;34m\u001b[0m\u001b[0m\n\u001b[0m\u001b[1;32m    172\u001b[0m         \u001b[0;32mreturn\u001b[0m \u001b[0mself\u001b[0m\u001b[0;34m\u001b[0m\u001b[0;34m\u001b[0m\u001b[0m\n\u001b[1;32m    173\u001b[0m \u001b[0;34m\u001b[0m\u001b[0m\n",
            "\u001b[0;32m/usr/local/lib/python3.8/dist-packages/sklearn/ensemble/_voting.py\u001b[0m in \u001b[0;36mfit\u001b[0;34m(self, X, y, sample_weight)\u001b[0m\n\u001b[1;32m    322\u001b[0m         \u001b[0mtransformed_y\u001b[0m \u001b[0;34m=\u001b[0m \u001b[0mself\u001b[0m\u001b[0;34m.\u001b[0m\u001b[0mle_\u001b[0m\u001b[0;34m.\u001b[0m\u001b[0mtransform\u001b[0m\u001b[0;34m(\u001b[0m\u001b[0my\u001b[0m\u001b[0;34m)\u001b[0m\u001b[0;34m\u001b[0m\u001b[0;34m\u001b[0m\u001b[0m\n\u001b[1;32m    323\u001b[0m \u001b[0;34m\u001b[0m\u001b[0m\n\u001b[0;32m--> 324\u001b[0;31m         \u001b[0;32mreturn\u001b[0m \u001b[0msuper\u001b[0m\u001b[0;34m(\u001b[0m\u001b[0;34m)\u001b[0m\u001b[0;34m.\u001b[0m\u001b[0mfit\u001b[0m\u001b[0;34m(\u001b[0m\u001b[0mX\u001b[0m\u001b[0;34m,\u001b[0m \u001b[0mtransformed_y\u001b[0m\u001b[0;34m,\u001b[0m \u001b[0msample_weight\u001b[0m\u001b[0;34m)\u001b[0m\u001b[0;34m\u001b[0m\u001b[0;34m\u001b[0m\u001b[0m\n\u001b[0m\u001b[1;32m    325\u001b[0m \u001b[0;34m\u001b[0m\u001b[0m\n\u001b[1;32m    326\u001b[0m     \u001b[0;32mdef\u001b[0m \u001b[0mpredict\u001b[0m\u001b[0;34m(\u001b[0m\u001b[0mself\u001b[0m\u001b[0;34m,\u001b[0m \u001b[0mX\u001b[0m\u001b[0;34m)\u001b[0m\u001b[0;34m:\u001b[0m\u001b[0;34m\u001b[0m\u001b[0;34m\u001b[0m\u001b[0m\n",
            "\u001b[0;32m/usr/local/lib/python3.8/dist-packages/sklearn/ensemble/_voting.py\u001b[0m in \u001b[0;36mfit\u001b[0;34m(self, X, y, sample_weight)\u001b[0m\n\u001b[1;32m     72\u001b[0m             )\n\u001b[1;32m     73\u001b[0m \u001b[0;34m\u001b[0m\u001b[0m\n\u001b[0;32m---> 74\u001b[0;31m         self.estimators_ = Parallel(n_jobs=self.n_jobs)(\n\u001b[0m\u001b[1;32m     75\u001b[0m             delayed(_fit_single_estimator)(\n\u001b[1;32m     76\u001b[0m                 \u001b[0mclone\u001b[0m\u001b[0;34m(\u001b[0m\u001b[0mclf\u001b[0m\u001b[0;34m)\u001b[0m\u001b[0;34m,\u001b[0m\u001b[0;34m\u001b[0m\u001b[0;34m\u001b[0m\u001b[0m\n",
            "\u001b[0;32m/usr/local/lib/python3.8/dist-packages/joblib/parallel.py\u001b[0m in \u001b[0;36m__call__\u001b[0;34m(self, iterable)\u001b[0m\n\u001b[1;32m   1083\u001b[0m             \u001b[0;31m# remaining jobs.\u001b[0m\u001b[0;34m\u001b[0m\u001b[0;34m\u001b[0m\u001b[0;34m\u001b[0m\u001b[0m\n\u001b[1;32m   1084\u001b[0m             \u001b[0mself\u001b[0m\u001b[0;34m.\u001b[0m\u001b[0m_iterating\u001b[0m \u001b[0;34m=\u001b[0m \u001b[0;32mFalse\u001b[0m\u001b[0;34m\u001b[0m\u001b[0;34m\u001b[0m\u001b[0m\n\u001b[0;32m-> 1085\u001b[0;31m             \u001b[0;32mif\u001b[0m \u001b[0mself\u001b[0m\u001b[0;34m.\u001b[0m\u001b[0mdispatch_one_batch\u001b[0m\u001b[0;34m(\u001b[0m\u001b[0miterator\u001b[0m\u001b[0;34m)\u001b[0m\u001b[0;34m:\u001b[0m\u001b[0;34m\u001b[0m\u001b[0;34m\u001b[0m\u001b[0m\n\u001b[0m\u001b[1;32m   1086\u001b[0m                 \u001b[0mself\u001b[0m\u001b[0;34m.\u001b[0m\u001b[0m_iterating\u001b[0m \u001b[0;34m=\u001b[0m \u001b[0mself\u001b[0m\u001b[0;34m.\u001b[0m\u001b[0m_original_iterator\u001b[0m \u001b[0;32mis\u001b[0m \u001b[0;32mnot\u001b[0m \u001b[0;32mNone\u001b[0m\u001b[0;34m\u001b[0m\u001b[0;34m\u001b[0m\u001b[0m\n\u001b[1;32m   1087\u001b[0m \u001b[0;34m\u001b[0m\u001b[0m\n",
            "\u001b[0;32m/usr/local/lib/python3.8/dist-packages/joblib/parallel.py\u001b[0m in \u001b[0;36mdispatch_one_batch\u001b[0;34m(self, iterator)\u001b[0m\n\u001b[1;32m    899\u001b[0m                 \u001b[0;32mreturn\u001b[0m \u001b[0;32mFalse\u001b[0m\u001b[0;34m\u001b[0m\u001b[0;34m\u001b[0m\u001b[0m\n\u001b[1;32m    900\u001b[0m             \u001b[0;32melse\u001b[0m\u001b[0;34m:\u001b[0m\u001b[0;34m\u001b[0m\u001b[0;34m\u001b[0m\u001b[0m\n\u001b[0;32m--> 901\u001b[0;31m                 \u001b[0mself\u001b[0m\u001b[0;34m.\u001b[0m\u001b[0m_dispatch\u001b[0m\u001b[0;34m(\u001b[0m\u001b[0mtasks\u001b[0m\u001b[0;34m)\u001b[0m\u001b[0;34m\u001b[0m\u001b[0;34m\u001b[0m\u001b[0m\n\u001b[0m\u001b[1;32m    902\u001b[0m                 \u001b[0;32mreturn\u001b[0m \u001b[0;32mTrue\u001b[0m\u001b[0;34m\u001b[0m\u001b[0;34m\u001b[0m\u001b[0m\n\u001b[1;32m    903\u001b[0m \u001b[0;34m\u001b[0m\u001b[0m\n",
            "\u001b[0;32m/usr/local/lib/python3.8/dist-packages/joblib/parallel.py\u001b[0m in \u001b[0;36m_dispatch\u001b[0;34m(self, batch)\u001b[0m\n\u001b[1;32m    817\u001b[0m         \u001b[0;32mwith\u001b[0m \u001b[0mself\u001b[0m\u001b[0;34m.\u001b[0m\u001b[0m_lock\u001b[0m\u001b[0;34m:\u001b[0m\u001b[0;34m\u001b[0m\u001b[0;34m\u001b[0m\u001b[0m\n\u001b[1;32m    818\u001b[0m             \u001b[0mjob_idx\u001b[0m \u001b[0;34m=\u001b[0m \u001b[0mlen\u001b[0m\u001b[0;34m(\u001b[0m\u001b[0mself\u001b[0m\u001b[0;34m.\u001b[0m\u001b[0m_jobs\u001b[0m\u001b[0;34m)\u001b[0m\u001b[0;34m\u001b[0m\u001b[0;34m\u001b[0m\u001b[0m\n\u001b[0;32m--> 819\u001b[0;31m             \u001b[0mjob\u001b[0m \u001b[0;34m=\u001b[0m \u001b[0mself\u001b[0m\u001b[0;34m.\u001b[0m\u001b[0m_backend\u001b[0m\u001b[0;34m.\u001b[0m\u001b[0mapply_async\u001b[0m\u001b[0;34m(\u001b[0m\u001b[0mbatch\u001b[0m\u001b[0;34m,\u001b[0m \u001b[0mcallback\u001b[0m\u001b[0;34m=\u001b[0m\u001b[0mcb\u001b[0m\u001b[0;34m)\u001b[0m\u001b[0;34m\u001b[0m\u001b[0;34m\u001b[0m\u001b[0m\n\u001b[0m\u001b[1;32m    820\u001b[0m             \u001b[0;31m# A job can complete so quickly than its callback is\u001b[0m\u001b[0;34m\u001b[0m\u001b[0;34m\u001b[0m\u001b[0;34m\u001b[0m\u001b[0m\n\u001b[1;32m    821\u001b[0m             \u001b[0;31m# called before we get here, causing self._jobs to\u001b[0m\u001b[0;34m\u001b[0m\u001b[0;34m\u001b[0m\u001b[0;34m\u001b[0m\u001b[0m\n",
            "\u001b[0;32m/usr/local/lib/python3.8/dist-packages/joblib/_parallel_backends.py\u001b[0m in \u001b[0;36mapply_async\u001b[0;34m(self, func, callback)\u001b[0m\n\u001b[1;32m    206\u001b[0m     \u001b[0;32mdef\u001b[0m \u001b[0mapply_async\u001b[0m\u001b[0;34m(\u001b[0m\u001b[0mself\u001b[0m\u001b[0;34m,\u001b[0m \u001b[0mfunc\u001b[0m\u001b[0;34m,\u001b[0m \u001b[0mcallback\u001b[0m\u001b[0;34m=\u001b[0m\u001b[0;32mNone\u001b[0m\u001b[0;34m)\u001b[0m\u001b[0;34m:\u001b[0m\u001b[0;34m\u001b[0m\u001b[0;34m\u001b[0m\u001b[0m\n\u001b[1;32m    207\u001b[0m         \u001b[0;34m\"\"\"Schedule a func to be run\"\"\"\u001b[0m\u001b[0;34m\u001b[0m\u001b[0;34m\u001b[0m\u001b[0m\n\u001b[0;32m--> 208\u001b[0;31m         \u001b[0mresult\u001b[0m \u001b[0;34m=\u001b[0m \u001b[0mImmediateResult\u001b[0m\u001b[0;34m(\u001b[0m\u001b[0mfunc\u001b[0m\u001b[0;34m)\u001b[0m\u001b[0;34m\u001b[0m\u001b[0;34m\u001b[0m\u001b[0m\n\u001b[0m\u001b[1;32m    209\u001b[0m         \u001b[0;32mif\u001b[0m \u001b[0mcallback\u001b[0m\u001b[0;34m:\u001b[0m\u001b[0;34m\u001b[0m\u001b[0;34m\u001b[0m\u001b[0m\n\u001b[1;32m    210\u001b[0m             \u001b[0mcallback\u001b[0m\u001b[0;34m(\u001b[0m\u001b[0mresult\u001b[0m\u001b[0;34m)\u001b[0m\u001b[0;34m\u001b[0m\u001b[0;34m\u001b[0m\u001b[0m\n",
            "\u001b[0;32m/usr/local/lib/python3.8/dist-packages/joblib/_parallel_backends.py\u001b[0m in \u001b[0;36m__init__\u001b[0;34m(self, batch)\u001b[0m\n\u001b[1;32m    595\u001b[0m         \u001b[0;31m# Don't delay the application, to avoid keeping the input\u001b[0m\u001b[0;34m\u001b[0m\u001b[0;34m\u001b[0m\u001b[0;34m\u001b[0m\u001b[0m\n\u001b[1;32m    596\u001b[0m         \u001b[0;31m# arguments in memory\u001b[0m\u001b[0;34m\u001b[0m\u001b[0;34m\u001b[0m\u001b[0;34m\u001b[0m\u001b[0m\n\u001b[0;32m--> 597\u001b[0;31m         \u001b[0mself\u001b[0m\u001b[0;34m.\u001b[0m\u001b[0mresults\u001b[0m \u001b[0;34m=\u001b[0m \u001b[0mbatch\u001b[0m\u001b[0;34m(\u001b[0m\u001b[0;34m)\u001b[0m\u001b[0;34m\u001b[0m\u001b[0;34m\u001b[0m\u001b[0m\n\u001b[0m\u001b[1;32m    598\u001b[0m \u001b[0;34m\u001b[0m\u001b[0m\n\u001b[1;32m    599\u001b[0m     \u001b[0;32mdef\u001b[0m \u001b[0mget\u001b[0m\u001b[0;34m(\u001b[0m\u001b[0mself\u001b[0m\u001b[0;34m)\u001b[0m\u001b[0;34m:\u001b[0m\u001b[0;34m\u001b[0m\u001b[0;34m\u001b[0m\u001b[0m\n",
            "\u001b[0;32m/usr/local/lib/python3.8/dist-packages/joblib/parallel.py\u001b[0m in \u001b[0;36m__call__\u001b[0;34m(self)\u001b[0m\n\u001b[1;32m    286\u001b[0m         \u001b[0;31m# change the default number of processes to -1\u001b[0m\u001b[0;34m\u001b[0m\u001b[0;34m\u001b[0m\u001b[0;34m\u001b[0m\u001b[0m\n\u001b[1;32m    287\u001b[0m         \u001b[0;32mwith\u001b[0m \u001b[0mparallel_backend\u001b[0m\u001b[0;34m(\u001b[0m\u001b[0mself\u001b[0m\u001b[0;34m.\u001b[0m\u001b[0m_backend\u001b[0m\u001b[0;34m,\u001b[0m \u001b[0mn_jobs\u001b[0m\u001b[0;34m=\u001b[0m\u001b[0mself\u001b[0m\u001b[0;34m.\u001b[0m\u001b[0m_n_jobs\u001b[0m\u001b[0;34m)\u001b[0m\u001b[0;34m:\u001b[0m\u001b[0;34m\u001b[0m\u001b[0;34m\u001b[0m\u001b[0m\n\u001b[0;32m--> 288\u001b[0;31m             return [func(*args, **kwargs)\n\u001b[0m\u001b[1;32m    289\u001b[0m                     for func, args, kwargs in self.items]\n\u001b[1;32m    290\u001b[0m \u001b[0;34m\u001b[0m\u001b[0m\n",
            "\u001b[0;32m/usr/local/lib/python3.8/dist-packages/joblib/parallel.py\u001b[0m in \u001b[0;36m<listcomp>\u001b[0;34m(.0)\u001b[0m\n\u001b[1;32m    286\u001b[0m         \u001b[0;31m# change the default number of processes to -1\u001b[0m\u001b[0;34m\u001b[0m\u001b[0;34m\u001b[0m\u001b[0;34m\u001b[0m\u001b[0m\n\u001b[1;32m    287\u001b[0m         \u001b[0;32mwith\u001b[0m \u001b[0mparallel_backend\u001b[0m\u001b[0;34m(\u001b[0m\u001b[0mself\u001b[0m\u001b[0;34m.\u001b[0m\u001b[0m_backend\u001b[0m\u001b[0;34m,\u001b[0m \u001b[0mn_jobs\u001b[0m\u001b[0;34m=\u001b[0m\u001b[0mself\u001b[0m\u001b[0;34m.\u001b[0m\u001b[0m_n_jobs\u001b[0m\u001b[0;34m)\u001b[0m\u001b[0;34m:\u001b[0m\u001b[0;34m\u001b[0m\u001b[0;34m\u001b[0m\u001b[0m\n\u001b[0;32m--> 288\u001b[0;31m             return [func(*args, **kwargs)\n\u001b[0m\u001b[1;32m    289\u001b[0m                     for func, args, kwargs in self.items]\n\u001b[1;32m    290\u001b[0m \u001b[0;34m\u001b[0m\u001b[0m\n",
            "\u001b[0;32m/usr/local/lib/python3.8/dist-packages/sklearn/utils/fixes.py\u001b[0m in \u001b[0;36m__call__\u001b[0;34m(self, *args, **kwargs)\u001b[0m\n\u001b[1;32m    214\u001b[0m     \u001b[0;32mdef\u001b[0m \u001b[0m__call__\u001b[0m\u001b[0;34m(\u001b[0m\u001b[0mself\u001b[0m\u001b[0;34m,\u001b[0m \u001b[0;34m*\u001b[0m\u001b[0margs\u001b[0m\u001b[0;34m,\u001b[0m \u001b[0;34m**\u001b[0m\u001b[0mkwargs\u001b[0m\u001b[0;34m)\u001b[0m\u001b[0;34m:\u001b[0m\u001b[0;34m\u001b[0m\u001b[0;34m\u001b[0m\u001b[0m\n\u001b[1;32m    215\u001b[0m         \u001b[0;32mwith\u001b[0m \u001b[0mconfig_context\u001b[0m\u001b[0;34m(\u001b[0m\u001b[0;34m**\u001b[0m\u001b[0mself\u001b[0m\u001b[0;34m.\u001b[0m\u001b[0mconfig\u001b[0m\u001b[0;34m)\u001b[0m\u001b[0;34m:\u001b[0m\u001b[0;34m\u001b[0m\u001b[0;34m\u001b[0m\u001b[0m\n\u001b[0;32m--> 216\u001b[0;31m             \u001b[0;32mreturn\u001b[0m \u001b[0mself\u001b[0m\u001b[0;34m.\u001b[0m\u001b[0mfunction\u001b[0m\u001b[0;34m(\u001b[0m\u001b[0;34m*\u001b[0m\u001b[0margs\u001b[0m\u001b[0;34m,\u001b[0m \u001b[0;34m**\u001b[0m\u001b[0mkwargs\u001b[0m\u001b[0;34m)\u001b[0m\u001b[0;34m\u001b[0m\u001b[0;34m\u001b[0m\u001b[0m\n\u001b[0m\u001b[1;32m    217\u001b[0m \u001b[0;34m\u001b[0m\u001b[0m\n\u001b[1;32m    218\u001b[0m \u001b[0;34m\u001b[0m\u001b[0m\n",
            "\u001b[0;32m/usr/local/lib/python3.8/dist-packages/sklearn/ensemble/_base.py\u001b[0m in \u001b[0;36m_fit_single_estimator\u001b[0;34m(estimator, X, y, sample_weight, message_clsname, message)\u001b[0m\n\u001b[1;32m     40\u001b[0m     \u001b[0;32melse\u001b[0m\u001b[0;34m:\u001b[0m\u001b[0;34m\u001b[0m\u001b[0;34m\u001b[0m\u001b[0m\n\u001b[1;32m     41\u001b[0m         \u001b[0;32mwith\u001b[0m \u001b[0m_print_elapsed_time\u001b[0m\u001b[0;34m(\u001b[0m\u001b[0mmessage_clsname\u001b[0m\u001b[0;34m,\u001b[0m \u001b[0mmessage\u001b[0m\u001b[0;34m)\u001b[0m\u001b[0;34m:\u001b[0m\u001b[0;34m\u001b[0m\u001b[0;34m\u001b[0m\u001b[0m\n\u001b[0;32m---> 42\u001b[0;31m             \u001b[0mestimator\u001b[0m\u001b[0;34m.\u001b[0m\u001b[0mfit\u001b[0m\u001b[0;34m(\u001b[0m\u001b[0mX\u001b[0m\u001b[0;34m,\u001b[0m \u001b[0my\u001b[0m\u001b[0;34m)\u001b[0m\u001b[0;34m\u001b[0m\u001b[0;34m\u001b[0m\u001b[0m\n\u001b[0m\u001b[1;32m     43\u001b[0m     \u001b[0;32mreturn\u001b[0m \u001b[0mestimator\u001b[0m\u001b[0;34m\u001b[0m\u001b[0;34m\u001b[0m\u001b[0m\n\u001b[1;32m     44\u001b[0m \u001b[0;34m\u001b[0m\u001b[0m\n",
            "\u001b[0;32m/usr/local/lib/python3.8/dist-packages/sklearn/ensemble/_gb.py\u001b[0m in \u001b[0;36mfit\u001b[0;34m(self, X, y, sample_weight, monitor)\u001b[0m\n\u001b[1;32m    495\u001b[0m \u001b[0;34m\u001b[0m\u001b[0m\n\u001b[1;32m    496\u001b[0m         \u001b[0;32mif\u001b[0m \u001b[0mis_classifier\u001b[0m\u001b[0;34m(\u001b[0m\u001b[0mself\u001b[0m\u001b[0;34m)\u001b[0m\u001b[0;34m:\u001b[0m\u001b[0;34m\u001b[0m\u001b[0;34m\u001b[0m\u001b[0m\n\u001b[0;32m--> 497\u001b[0;31m             \u001b[0my\u001b[0m \u001b[0;34m=\u001b[0m \u001b[0mself\u001b[0m\u001b[0;34m.\u001b[0m\u001b[0m_validate_y\u001b[0m\u001b[0;34m(\u001b[0m\u001b[0my\u001b[0m\u001b[0;34m,\u001b[0m \u001b[0msample_weight\u001b[0m\u001b[0;34m)\u001b[0m\u001b[0;34m\u001b[0m\u001b[0;34m\u001b[0m\u001b[0m\n\u001b[0m\u001b[1;32m    498\u001b[0m         \u001b[0;32melse\u001b[0m\u001b[0;34m:\u001b[0m\u001b[0;34m\u001b[0m\u001b[0;34m\u001b[0m\u001b[0m\n\u001b[1;32m    499\u001b[0m             \u001b[0my\u001b[0m \u001b[0;34m=\u001b[0m \u001b[0mself\u001b[0m\u001b[0;34m.\u001b[0m\u001b[0m_validate_y\u001b[0m\u001b[0;34m(\u001b[0m\u001b[0my\u001b[0m\u001b[0;34m)\u001b[0m\u001b[0;34m\u001b[0m\u001b[0;34m\u001b[0m\u001b[0m\n",
            "\u001b[0;32m/usr/local/lib/python3.8/dist-packages/sklearn/ensemble/_gb.py\u001b[0m in \u001b[0;36m_validate_y\u001b[0;34m(self, y, sample_weight)\u001b[0m\n\u001b[1;32m   1270\u001b[0m         \u001b[0mn_trim_classes\u001b[0m \u001b[0;34m=\u001b[0m \u001b[0mnp\u001b[0m\u001b[0;34m.\u001b[0m\u001b[0mcount_nonzero\u001b[0m\u001b[0;34m(\u001b[0m\u001b[0mnp\u001b[0m\u001b[0;34m.\u001b[0m\u001b[0mbincount\u001b[0m\u001b[0;34m(\u001b[0m\u001b[0my\u001b[0m\u001b[0;34m,\u001b[0m \u001b[0msample_weight\u001b[0m\u001b[0;34m)\u001b[0m\u001b[0;34m)\u001b[0m\u001b[0;34m\u001b[0m\u001b[0;34m\u001b[0m\u001b[0m\n\u001b[1;32m   1271\u001b[0m         \u001b[0;32mif\u001b[0m \u001b[0mn_trim_classes\u001b[0m \u001b[0;34m<\u001b[0m \u001b[0;36m2\u001b[0m\u001b[0;34m:\u001b[0m\u001b[0;34m\u001b[0m\u001b[0;34m\u001b[0m\u001b[0m\n\u001b[0;32m-> 1272\u001b[0;31m             raise ValueError(\n\u001b[0m\u001b[1;32m   1273\u001b[0m                 \u001b[0;34m\"y contains %d class after sample_weight \"\u001b[0m\u001b[0;34m\u001b[0m\u001b[0;34m\u001b[0m\u001b[0m\n\u001b[1;32m   1274\u001b[0m                 \u001b[0;34m\"trimmed classes with zero weights, while a \"\u001b[0m\u001b[0;34m\u001b[0m\u001b[0;34m\u001b[0m\u001b[0m\n",
            "\u001b[0;31mValueError\u001b[0m: y contains 1 class after sample_weight trimmed classes with zero weights, while a minimum of 2 classes are required."
          ]
        }
      ]
    },
    {
      "cell_type": "code",
      "source": [
        "eval_results = evaluate(std, X_, a, y)\n",
        "eval_results.plot_all()"
      ],
      "metadata": {
        "colab": {
          "base_uri": "https://localhost:8080/",
          "height": 1000
        },
        "id": "N5FsgIaMmn5D",
        "outputId": "93122d2f-96a9-48eb-91df-2524d46ba85a"
      },
      "execution_count": null,
      "outputs": [
        {
          "output_type": "execute_result",
          "data": {
            "text/plain": [
              "{'train': {'roc_curve': <matplotlib.axes._subplots.AxesSubplot at 0x7fb9d9b3f370>,\n",
              "  'pr_curve': <matplotlib.axes._subplots.AxesSubplot at 0x7fb9d7997160>,\n",
              "  'calibration': <matplotlib.axes._subplots.AxesSubplot at 0x7fb9d5f4fc70>}}"
            ]
          },
          "metadata": {},
          "execution_count": 97
        },
        {
          "output_type": "display_data",
          "data": {
            "text/plain": [
              "<Figure size 1152x1152 with 4 Axes>"
            ],
            "image/png": "[encoded data removed]"
          },
          "metadata": {
            "needs_background": "light"
          }
        }
      ]
    },
    {
      "cell_type": "markdown",
      "source": [
        "Uncertainty Quantification:\n",
        "\n",
        "https://github.com/SpikeLab-CL/cpadapter/blob/main/examples/cpadapter_example.ipynb https://github.com/donlnz/nonconformist/blob/master/README.ipynb"
      ],
      "metadata": {
        "id": "hpg3zay8jJLv"
      }
    },
    {
      "cell_type": "code",
      "source": [
        "#!pip install cpadapter\n",
        "!pip install nonconformist\n",
        "#import cpadapter\n",
        "#from cpadapter.performance_measures import right_guess, width, uncertainty\n",
        "#from cpadapter.visualization import plot_class_interval, class_histogram, confusion_matrix\n",
        "from nonconformist.cp import IcpClassifier\n",
        "from nonconformist.nc import NcFactory"
      ],
      "metadata": {
        "id": "woRu-ztEjVi6"
      },
      "execution_count": null,
      "outputs": []
    },
    {
      "cell_type": "markdown",
      "source": [
        "CP with cpadapter"
      ],
      "metadata": {
        "id": "6NM6Y3AMtxOs"
      }
    },
    {
      "cell_type": "code",
      "source": [
        "#from cpadapter.utils import train_cal_test_split"
      ],
      "metadata": {
        "id": "4CnX_KvvGQ23"
      },
      "execution_count": null,
      "outputs": []
    },
    {
      "cell_type": "code",
      "source": [
        "gb_clf = GradientBoostingClassifier(random_state=42)\n",
        "dt_clf = DecisionTreeClassifier(random_state=42, max_depth=3)\n",
        "vot_clf = VotingClassifier(estimators=[('gb', gb_clf), ('dt', dt_clf)], voting='soft')"
      ],
      "metadata": {
        "id": "powjnoScB7LH"
      },
      "execution_count": null,
      "outputs": []
    },
    {
      "cell_type": "code",
      "source": [
        "cp_model = cpadapter.Adapt_to_CP(gb_clf, True)"
      ],
      "metadata": {
        "id": "3UDWwk6ECAkK"
      },
      "execution_count": null,
      "outputs": []
    },
    {
      "cell_type": "code",
      "source": [
        "cp_model.fit(X_train.values, y_train.values.ravel())\n",
        "cp_model.calibrate(X_cal.values, y_cal.values)\n",
        "\n",
        "confidence = 0.90\n",
        "prediction = cp_model.predict(X_test.values, confidence)"
      ],
      "metadata": {
        "id": "fcowdxlvDQUz"
      },
      "execution_count": null,
      "outputs": []
    },
    {
      "cell_type": "code",
      "source": [
        "interval = prediction[0]\n",
        "pred_class = prediction[1]"
      ],
      "metadata": {
        "id": "s62TfccvE438"
      },
      "execution_count": null,
      "outputs": []
    },
    {
      "cell_type": "code",
      "source": [
        "coverage = right_guess(y_test, interval)\n",
        "uncertain_cases = uncertainty(interval)\n",
        "norm_width = width(interval)\n",
        "\n",
        "print('Interval coverage: ', coverage)\n",
        "print('Interval normalized width: ', norm_width)\n",
        "print('Percentage of uncertain predicted intervals: ', uncertain_cases)"
      ],
      "metadata": {
        "colab": {
          "base_uri": "https://localhost:8080/"
        },
        "id": "FFkr7mEqE7su",
        "outputId": "9893f678-7a07-4789-a9c8-699797f3d7d6"
      },
      "execution_count": null,
      "outputs": [
        {
          "output_type": "stream",
          "name": "stdout",
          "text": [
            "Interval coverage:  18.142857142857142\n",
            "Interval normalized width:  0.47619047619047616\n",
            "Percentage of uncertain predicted intervals:  0.0\n"
          ]
        }
      ]
    },
    {
      "cell_type": "code",
      "source": [
        "#plot_class_interval(y_test, interval)\n",
        "class_histogram(y_test, interval)"
      ],
      "metadata": {
        "colab": {
          "base_uri": "https://localhost:8080/",
          "height": 539
        },
        "id": "ahoRRtaDFKub",
        "outputId": "b05a3655-34c0-4449-bf96-6ff258615ae7"
      },
      "execution_count": null,
      "outputs": [
        {
          "output_type": "stream",
          "name": "stderr",
          "text": [
            "/usr/local/lib/python3.8/dist-packages/cpadapter/visualization.py:196: VisibleDeprecationWarning: Creating an ndarray from ragged nested sequences (which is a list-or-tuple of lists-or-tuples-or ndarrays with different lengths or shapes) is deprecated. If you meant to do this, you must specify 'dtype=object' when creating the ndarray.\n",
            "  pred_classes = np.array(classes_in_interval(preds))\n"
          ]
        },
        {
          "output_type": "display_data",
          "data": {
            "text/plain": [
              "<Figure size 1008x576 with 1 Axes>"
            ],
            "image/png": "[encoded data removed]"
          },
          "metadata": {
            "needs_background": "light"
          }
        }
      ]
    },
    {
      "cell_type": "markdown",
      "source": [
        "Inductive CP with nonconformist"
      ],
      "metadata": {
        "id": "DcZma-PdtokO"
      }
    },
    {
      "cell_type": "code",
      "source": [
        "gb_clf = GradientBoostingClassifier(random_state=42)\n",
        "dt_clf = DecisionTreeClassifier(random_state=42, max_depth=3)\n",
        "vot_clf = VotingClassifier(estimators=[('gb', gb_clf), ('dt', dt_clf)], voting='soft')"
      ],
      "metadata": {
        "id": "llgIyR0yBDkG"
      },
      "execution_count": null,
      "outputs": []
    },
    {
      "cell_type": "code",
      "source": [
        "nc = NcFactory.create_nc(vot_clf)\t# Create a default nonconformity function\n",
        "icp = IcpClassifier(nc)"
      ],
      "metadata": {
        "id": "tMPYVolOm9_e"
      },
      "execution_count": null,
      "outputs": []
    },
    {
      "cell_type": "code",
      "source": [
        "# Fit the ICP using the proper training set\n",
        "icp.fit(X_train.values, y_train.values.ravel())\n",
        "\n",
        "# Calibrate the ICP using the calibration set\n",
        "icp.calibrate(X_cal.values, y_cal.values.ravel())\n",
        "\n",
        "# Produce predictions for the test set, with confidence 95%\n",
        "prediction = icp.predict(X_test.values, significance=0.05)\n",
        "\n",
        "# Print the first 5 predictions\n",
        "print(prediction[:5, :])"
      ],
      "metadata": {
        "colab": {
          "base_uri": "https://localhost:8080/"
        },
        "id": "PCsdSLCJnxCU",
        "outputId": "756f88c2-a937-4f69-c272-c6addeed843e"
      },
      "execution_count": null,
      "outputs": [
        {
          "output_type": "stream",
          "name": "stdout",
          "text": [
            "[[False  True]\n",
            " [ True False]\n",
            " [ True False]\n",
            " [ True False]\n",
            " [False  True]]\n"
          ]
        }
      ]
    },
    {
      "cell_type": "code",
      "source": [
        "prediction = icp.predict(data_.drop('preds', axis=1).values, significance=0.05)"
      ],
      "metadata": {
        "id": "ThEk9de9uRlc"
      },
      "execution_count": null,
      "outputs": []
    },
    {
      "cell_type": "code",
      "source": [
        "prediction"
      ],
      "metadata": {
        "colab": {
          "base_uri": "https://localhost:8080/"
        },
        "id": "BJU6WPHLw__u",
        "outputId": "8ed083a3-93f6-4623-f9bd-b6c36aa1fb41"
      },
      "execution_count": null,
      "outputs": [
        {
          "output_type": "execute_result",
          "data": {
            "text/plain": [
              "array([[ True, False],\n",
              "       [ True, False],\n",
              "       [ True, False],\n",
              "       ...,\n",
              "       [ True, False],\n",
              "       [ True, False],\n",
              "       [ True, False]])"
            ]
          },
          "metadata": {},
          "execution_count": 57
        }
      ]
    },
    {
      "cell_type": "code",
      "source": [
        "prediction[:,0]"
      ],
      "metadata": {
        "colab": {
          "base_uri": "https://localhost:8080/"
        },
        "id": "dYXTCeJLyCcn",
        "outputId": "619e1061-41a6-4f91-c0e6-31ea65c843c4"
      },
      "execution_count": null,
      "outputs": [
        {
          "output_type": "execute_result",
          "data": {
            "text/plain": [
              "array([ True,  True,  True, ...,  True,  True,  True])"
            ]
          },
          "metadata": {},
          "execution_count": 58
        }
      ]
    },
    {
      "cell_type": "code",
      "source": [
        "data_['95% IC0']=prediction[:,0]\n",
        "data_['95% IC1']=prediction[:,1]"
      ],
      "metadata": {
        "id": "3lwHRUgcxQm4"
      },
      "execution_count": null,
      "outputs": []
    },
    {
      "cell_type": "code",
      "source": [
        "data['preds']=data_['preds']\n",
        "data['95% IC0']=data_['95% IC0']\n",
        "data['95% IC1']=data_['95% IC1']"
      ],
      "metadata": {
        "id": "rir5PpDXzf35"
      },
      "execution_count": null,
      "outputs": []
    },
    {
      "cell_type": "code",
      "source": [
        "data.to_csv('Prediction.csv', index=False)"
      ],
      "metadata": {
        "id": "Hl0jZnXJzyaj"
      },
      "execution_count": null,
      "outputs": []
    },
    {
      "cell_type": "markdown",
      "source": [
        "CP withMapie"
      ],
      "metadata": {
        "id": "zdMlFLiUte9D"
      }
    },
    {
      "cell_type": "markdown",
      "source": [
        "https://github.com/scikit-learn-contrib/MAPIE/blob/master/notebooks/classification/Cifar10.ipynb\n",
        "\n",
        "https://github.com/PacktPublishing/Practical-Guide-to-Applied-Conformal-Prediction\n",
        "\n",
        "https://github.com/ptocca/VennABERS\n",
        "\n",
        "https://mapie.readthedocs.io/en/latest/examples_regression/4-tutorials/plot_ts-tutorial.html\n",
        "\n",
        "https://github.com/MLWorkshops/MAPIEwalkthrough/blob/main/conformalPrediction.ipynb"
      ],
      "metadata": {
        "id": "WLtAKRxZ-2jP"
      }
    },
    {
      "cell_type": "code",
      "source": [],
      "metadata": {
        "id": "wfKBEKRufXeW"
      },
      "execution_count": null,
      "outputs": []
    },
    {
      "cell_type": "code",
      "source": [
        "!pip install mapie"
      ],
      "metadata": {
        "id": "7PnIVtKBuTnI",
        "colab": {
          "base_uri": "https://localhost:8080/"
        },
        "outputId": "c2df7f92-e18b-4266-9ce4-27dffba2e18f"
      },
      "execution_count": null,
      "outputs": [
        {
          "output_type": "stream",
          "name": "stdout",
          "text": [
            "Looking in indexes: https://pypi.org/simple, https://us-python.pkg.dev/colab-wheels/public/simple/\n",
            "Requirement already satisfied: mapie in /usr/local/lib/python3.10/dist-packages (0.6.4)\n",
            "Requirement already satisfied: scikit-learn in /usr/local/lib/python3.10/dist-packages (from mapie) (1.2.2)\n",
            "Requirement already satisfied: numpy>=1.21 in /usr/local/lib/python3.10/dist-packages (from mapie) (1.22.4)\n",
            "Requirement already satisfied: packaging in /usr/local/lib/python3.10/dist-packages (from mapie) (23.1)\n",
            "Requirement already satisfied: scipy>=1.3.2 in /usr/local/lib/python3.10/dist-packages (from scikit-learn->mapie) (1.10.1)\n",
            "Requirement already satisfied: joblib>=1.1.1 in /usr/local/lib/python3.10/dist-packages (from scikit-learn->mapie) (1.2.0)\n",
            "Requirement already satisfied: threadpoolctl>=2.0.0 in /usr/local/lib/python3.10/dist-packages (from scikit-learn->mapie) (3.1.0)\n"
          ]
        }
      ]
    },
    {
      "cell_type": "code",
      "source": [
        "from mapie.metrics import classification_coverage_score\n",
        "from mapie.classification import MapieClassifier"
      ],
      "metadata": {
        "id": "LNx42XdfDD3J"
      },
      "execution_count": null,
      "outputs": []
    },
    {
      "cell_type": "code",
      "source": [
        "method_params = {\n",
        "    \"naive\": (\"naive\", False),\n",
        "    \"score\": (\"score\", False),\n",
        "    \"cumulated_score\": (\"cumulated_score\", True),\n",
        "    \"random_cumulated_score\": (\"cumulated_score\", \"randomized\"),\n",
        "    \"top_k\": (\"top_k\", False)\n",
        "}"
      ],
      "metadata": {
        "id": "XBA9oqFmDKur"
      },
      "execution_count": null,
      "outputs": []
    },
    {
      "cell_type": "code",
      "source": [
        "y_preds, y_pss = {}, {}\n",
        "alphas = np.arange(0.02, 0.99, 0.01)\n",
        "#samples=np.arange(0.01,0.57,0.01)\n",
        "for name, (method, include_last_label) in method_params.items():\n",
        "  mapie = MapieClassifier(estimator=vot_clf, method=method, random_state=123)\n",
        "  mapie.fit(X_cal.values, y_cal.values.ravel())\n",
        "  y_preds[name], y_pss[name] = mapie.predict(X_test, alpha=alphas, include_last_label=include_last_label)"
      ],
      "metadata": {
        "id": "OB95B6MmKs_u"
      },
      "execution_count": null,
      "outputs": []
    },
    {
      "cell_type": "code",
      "source": [
        "def count_null_set(y: np.ndarray) -> int:\n",
        "    \"\"\"\n",
        "    Count the number of empty prediction sets.\n",
        "\n",
        "    Parameters\n",
        "    ----------\n",
        "    y: np.ndarray of shape (n_sample, )\n",
        "\n",
        "    Returns\n",
        "    -------\n",
        "    int\n",
        "    \"\"\"\n",
        "    count = 0\n",
        "    for pred in y[:, :]:\n",
        "        if np.sum(pred) == 0:\n",
        "            count += 1\n",
        "    return count"
      ],
      "metadata": {
        "id": "f2_vA5R6NDgZ"
      },
      "execution_count": null,
      "outputs": []
    },
    {
      "cell_type": "code",
      "source": [
        "#y_test_=y_test.replace(['Poor', 'Borderline', 'Acceptable'], [0,1,2])"
      ],
      "metadata": {
        "id": "K7cVOHeEcf4p"
      },
      "execution_count": null,
      "outputs": []
    },
    {
      "cell_type": "code",
      "source": [
        "nulls, coverages, accuracies, sizes = {}, {}, {}, {}\n",
        "for name, (method, include_last_label) in method_params.items():\n",
        "    accuracies[name] = accuracy_score(y_test, y_preds[name])\n",
        "    nulls[name] = [\n",
        "        count_null_set(y_pss[name][:, :, i])  for i, _ in enumerate(alphas)\n",
        "    ]\n",
        "    coverages[name] = [\n",
        "        classification_coverage_score(\n",
        "            y_test, y_pss[name][:, :, i]\n",
        "        ) for i, _ in enumerate(alphas)\n",
        "    ]\n",
        "    sizes[name] = [\n",
        "        y_pss[name][:, :, i].sum(axis=1).mean() for i, _ in enumerate(alphas)\n",
        "    ]"
      ],
      "metadata": {
        "id": "8E4mC1eZNEME"
      },
      "execution_count": null,
      "outputs": []
    },
    {
      "cell_type": "code",
      "source": [
        "coverage_90 = {method: coverage[8] for method, coverage in coverages.items()}\n",
        "null_90 = {method: null[8] for method, null in nulls.items()}\n",
        "width_90 = {method: width[8] for method, width in sizes.items()}\n",
        "y_ps_90 = {method: y_ps[:, :, 8] for method, y_ps in y_pss.items()}"
      ],
      "metadata": {
        "id": "Yh2H6-n2NGnx"
      },
      "execution_count": null,
      "outputs": []
    },
    {
      "cell_type": "code",
      "source": [
        "summary_df = pd.concat(\n",
        "    [\n",
        "        pd.Series(coverage_90),\n",
        "        pd.Series(null_90),\n",
        "        pd.Series(width_90)\n",
        "    ],\n",
        "    axis=1,\n",
        "    keys=[\"Coverages\", \"Number of null sets\", \"Average prediction set sizes\"]\n",
        ").round(3)"
      ],
      "metadata": {
        "id": "XIvgBwKgNLV3"
      },
      "execution_count": null,
      "outputs": []
    },
    {
      "cell_type": "code",
      "source": [
        "summary_df"
      ],
      "metadata": {
        "id": "J02fiDKcNONe",
        "colab": {
          "base_uri": "https://localhost:8080/",
          "height": 206
        },
        "outputId": "39c3347d-9299-4be0-b58f-687a355f67d6"
      },
      "execution_count": null,
      "outputs": [
        {
          "output_type": "execute_result",
          "data": {
            "text/plain": [
              "                        Coverages  Number of null sets  \\\n",
              "naive                       0.736                    0   \n",
              "score                       0.958                    0   \n",
              "cumulated_score             1.000                    0   \n",
              "random_cumulated_score      0.958                    0   \n",
              "top_k                       1.000                    0   \n",
              "\n",
              "                        Average prediction set sizes  \n",
              "naive                                          1.582  \n",
              "score                                          2.439  \n",
              "cumulated_score                                3.000  \n",
              "random_cumulated_score                         2.619  \n",
              "top_k                                          3.000  "
            ],
            "text/html": [
              "\n",
              "  <div id=\"df-87e7a73e-1a49-459e-b0d2-36396a89654d\">\n",
              "    <div class=\"colab-df-container\">\n",
              "      <div>\n",
              "<style scoped>\n",
              "    .dataframe tbody tr th:only-of-type {\n",
              "        vertical-align: middle;\n",
              "    }\n",
              "\n",
              "    .dataframe tbody tr th {\n",
              "        vertical-align: top;\n",
              "    }\n",
              "\n",
              "    .dataframe thead th {\n",
              "        text-align: right;\n",
              "    }\n",
              "</style>\n",
              "<table border=\"1\" class=\"dataframe\">\n",
              "  <thead>\n",
              "    <tr style=\"text-align: right;\">\n",
              "      <th></th>\n",
              "      <th>Coverages</th>\n",
              "      <th>Number of null sets</th>\n",
              "      <th>Average prediction set sizes</th>\n",
              "    </tr>\n",
              "  </thead>\n",
              "  <tbody>\n",
              "    <tr>\n",
              "      <th>naive</th>\n",
              "      <td>0.736</td>\n",
              "      <td>0</td>\n",
              "      <td>1.582</td>\n",
              "    </tr>\n",
              "    <tr>\n",
              "      <th>score</th>\n",
              "      <td>0.958</td>\n",
              "      <td>0</td>\n",
              "      <td>2.439</td>\n",
              "    </tr>\n",
              "    <tr>\n",
              "      <th>cumulated_score</th>\n",
              "      <td>1.000</td>\n",
              "      <td>0</td>\n",
              "      <td>3.000</td>\n",
              "    </tr>\n",
              "    <tr>\n",
              "      <th>random_cumulated_score</th>\n",
              "      <td>0.958</td>\n",
              "      <td>0</td>\n",
              "      <td>2.619</td>\n",
              "    </tr>\n",
              "    <tr>\n",
              "      <th>top_k</th>\n",
              "      <td>1.000</td>\n",
              "      <td>0</td>\n",
              "      <td>3.000</td>\n",
              "    </tr>\n",
              "  </tbody>\n",
              "</table>\n",
              "</div>\n",
              "      <button class=\"colab-df-convert\" onclick=\"convertToInteractive('df-87e7a73e-1a49-459e-b0d2-36396a89654d')\"\n",
              "              title=\"Convert this dataframe to an interactive table.\"\n",
              "              style=\"display:none;\">\n",
              "        \n",
              "  <svg xmlns=\"http://www.w3.org/2000/svg\" height=\"24px\"viewBox=\"0 0 24 24\"\n",
              "       width=\"24px\">\n",
              "    <path d=\"M0 0h24v24H0V0z\" fill=\"none\"/>\n",
              "    <path d=\"M18.56 5.44l.94 2.06.94-2.06 2.06-.94-2.06-.94-.94-2.06-.94 2.06-2.06.94zm-11 1L8.5 8.5l.94-2.06 2.06-.94-2.06-.94L8.5 2.5l-.94 2.06-2.06.94zm10 10l.94 2.06.94-2.06 2.06-.94-2.06-.94-.94-2.06-.94 2.06-2.06.94z\"/><path d=\"M17.41 7.96l-1.37-1.37c-.4-.4-.92-.59-1.43-.59-.52 0-1.04.2-1.43.59L10.3 9.45l-7.72 7.72c-.78.78-.78 2.05 0 2.83L4 21.41c.39.39.9.59 1.41.59.51 0 1.02-.2 1.41-.59l7.78-7.78 2.81-2.81c.8-.78.8-2.07 0-2.86zM5.41 20L4 18.59l7.72-7.72 1.47 1.35L5.41 20z\"/>\n",
              "  </svg>\n",
              "      </button>\n",
              "      \n",
              "  <style>\n",
              "    .colab-df-container {\n",
              "      display:flex;\n",
              "      flex-wrap:wrap;\n",
              "      gap: 12px;\n",
              "    }\n",
              "\n",
              "    .colab-df-convert {\n",
              "      background-color: #E8F0FE;\n",
              "      border: none;\n",
              "      border-radius: 50%;\n",
              "      cursor: pointer;\n",
              "      display: none;\n",
              "      fill: #1967D2;\n",
              "      height: 32px;\n",
              "      padding: 0 0 0 0;\n",
              "      width: 32px;\n",
              "    }\n",
              "\n",
              "    .colab-df-convert:hover {\n",
              "      background-color: #E2EBFA;\n",
              "      box-shadow: 0px 1px 2px rgba(60, 64, 67, 0.3), 0px 1px 3px 1px rgba(60, 64, 67, 0.15);\n",
              "      fill: #174EA6;\n",
              "    }\n",
              "\n",
              "    [theme=dark] .colab-df-convert {\n",
              "      background-color: #3B4455;\n",
              "      fill: #D2E3FC;\n",
              "    }\n",
              "\n",
              "    [theme=dark] .colab-df-convert:hover {\n",
              "      background-color: #434B5C;\n",
              "      box-shadow: 0px 1px 3px 1px rgba(0, 0, 0, 0.15);\n",
              "      filter: drop-shadow(0px 1px 2px rgba(0, 0, 0, 0.3));\n",
              "      fill: #FFFFFF;\n",
              "    }\n",
              "  </style>\n",
              "\n",
              "      <script>\n",
              "        const buttonEl =\n",
              "          document.querySelector('#df-87e7a73e-1a49-459e-b0d2-36396a89654d button.colab-df-convert');\n",
              "        buttonEl.style.display =\n",
              "          google.colab.kernel.accessAllowed ? 'block' : 'none';\n",
              "\n",
              "        async function convertToInteractive(key) {\n",
              "          const element = document.querySelector('#df-87e7a73e-1a49-459e-b0d2-36396a89654d');\n",
              "          const dataTable =\n",
              "            await google.colab.kernel.invokeFunction('convertToInteractive',\n",
              "                                                     [key], {});\n",
              "          if (!dataTable) return;\n",
              "\n",
              "          const docLinkHtml = 'Like what you see? Visit the ' +\n",
              "            '<a target=\"_blank\" href=https://colab.research.google.com/notebooks/data_table.ipynb>data table notebook</a>'\n",
              "            + ' to learn more about interactive tables.';\n",
              "          element.innerHTML = '';\n",
              "          dataTable['output_type'] = 'display_data';\n",
              "          await google.colab.output.renderOutput(dataTable, element);\n",
              "          const docLink = document.createElement('div');\n",
              "          docLink.innerHTML = docLinkHtml;\n",
              "          element.appendChild(docLink);\n",
              "        }\n",
              "      </script>\n",
              "    </div>\n",
              "  </div>\n",
              "  "
            ]
          },
          "metadata": {},
          "execution_count": 67
        }
      ]
    },
    {
      "cell_type": "code",
      "source": [
        "vars_y = [nulls, coverages, sizes]\n",
        "labels_y = [\"Empty prediction sets\", \"Marginal coverage\", \"Set sizes\"]\n",
        "fig, axs = plt.subplots(1, len(vars_y), figsize=(8*len(vars_y), 8))\n",
        "for i, var in enumerate(vars_y):\n",
        "    for name, (method, include_last_label) in method_params.items():\n",
        "        axs[i].plot(1 - alphas, var[name], label=name)\n",
        "        if i == 1:\n",
        "            axs[i].plot([0, 1], [0, 1], ls=\"--\", color=\"k\")\n",
        "    axs[i].set_xlabel(\"Couverture cible : 1 - alpha\")\n",
        "    axs[i].set_ylabel(labels_y[i])\n",
        "    if i == len(vars_y) - 1:\n",
        "        axs[i].legend(fontsize=10, loc=[1, 0])"
      ],
      "metadata": {
        "colab": {
          "base_uri": "https://localhost:8080/",
          "height": 451
        },
        "id": "ES3dbjW4x4FV",
        "outputId": "432ffa12-9d0a-4ae9-e5f6-d8fe5e79c72a"
      },
      "execution_count": null,
      "outputs": [
        {
          "output_type": "display_data",
          "data": {
            "text/plain": [
              "<Figure size 2400x800 with 3 Axes>"
            ],
            "image/png": "[encoded data removed]"
          },
          "metadata": {}
        }
      ]
    },
    {
      "cell_type": "code",
      "source": [
        "s=5\n",
        "fig, axs = plt.subplots(1, len(y_preds), figsize=(s*len(y_preds), s))\n",
        "for i, (method, y_ps) in enumerate(y_ps_90.items()):\n",
        "    sizes = y_ps.sum(axis=1)\n",
        "    axs[i].hist(sizes)\n",
        "    axs[i].set_xlabel(\"Prediction set sizes\")\n",
        "    axs[i].set_title(method)"
      ],
      "metadata": {
        "colab": {
          "base_uri": "https://localhost:8080/",
          "height": 342
        },
        "id": "ySoQGbyuzmJx",
        "outputId": "b9616867-0939-4829-b213-c405424370b8"
      },
      "execution_count": null,
      "outputs": [
        {
          "output_type": "display_data",
          "data": {
            "text/plain": [
              "<Figure size 2500x500 with 5 Axes>"
            ],
            "image/png": "[encoded data removed]"
          },
          "metadata": {}
        }
      ]
    },
    {
      "cell_type": "code",
      "source": [
        "def get_class_coverage(\n",
        "    y_test: np.ndarray,\n",
        "    y_method: Dict[str, np.ndarray],\n",
        "    label_names: List[str]\n",
        ") -> None:\n",
        "    \"\"\"\n",
        "    Compute the coverage for each class. As MAPIE is looking for a\n",
        "    global coverage of 1-alpha, it is important to check that their\n",
        "    is not major coverage difference between classes.\n",
        "\n",
        "    Parameters\n",
        "    ----------\n",
        "    y_test: np.ndarray of shape (n_samples,)\n",
        "        Labels of the predictions.\n",
        "\n",
        "    y_method: Dict[str, np.ndarray]\n",
        "        Prediction sets for each method.\n",
        "\n",
        "    label_names: List[str]\n",
        "        Names of the labels.\n",
        "    \"\"\"\n",
        "    recap ={}\n",
        "    for method in y_method:\n",
        "        recap[method] = []\n",
        "        for label in sorted(np.unique(y_test)):\n",
        "            indices = np.where(y_test==label)[0]\n",
        "            label_name = label_names[label]\n",
        "            y_test_trunc = y_test.iloc[indices]\n",
        "            y_set_trunc = y_method[method][indices]\n",
        "            score_coverage = classification_coverage_score(y_test_trunc, y_set_trunc)\n",
        "            recap[method].append(score_coverage)\n",
        "    recap_df = pd.DataFrame(recap, index = label_names)\n",
        "    return recap_df\n"
      ],
      "metadata": {
        "id": "j0KfRVH-04v-"
      },
      "execution_count": null,
      "outputs": []
    },
    {
      "cell_type": "code",
      "source": [
        "label_names=['Poor', 'Borderline', 'Acceptable']"
      ],
      "metadata": {
        "id": "mEDiuO_A1S9X"
      },
      "execution_count": null,
      "outputs": []
    },
    {
      "cell_type": "code",
      "source": [
        "class_coverage = get_class_coverage(y_test.reset_index().drop('index', axis=1), y_ps_90, label_names)\n"
      ],
      "metadata": {
        "id": "ctfEipYcwuns"
      },
      "execution_count": null,
      "outputs": []
    },
    {
      "cell_type": "code",
      "source": [
        "fig = plt.figure()\n",
        "class_coverage.plot.bar(figsize=(12, 4), alpha=0.7)\n",
        "plt.axhline(0.9, ls=\"--\", color=\"k\")\n",
        "plt.ylabel(\"Conditional coverage\")\n",
        "plt.legend(loc=[1, 0])"
      ],
      "metadata": {
        "colab": {
          "base_uri": "https://localhost:8080/",
          "height": 467
        },
        "id": "6HSP0gu9wvVO",
        "outputId": "443fe07e-f819-4bdc-ee1c-751618604404"
      },
      "execution_count": null,
      "outputs": [
        {
          "output_type": "execute_result",
          "data": {
            "text/plain": [
              "<matplotlib.legend.Legend at 0x7f9abb9c65f0>"
            ]
          },
          "metadata": {},
          "execution_count": 73
        },
        {
          "output_type": "display_data",
          "data": {
            "text/plain": [
              "<Figure size 640x480 with 0 Axes>"
            ]
          },
          "metadata": {}
        },
        {
          "output_type": "display_data",
          "data": {
            "text/plain": [
              "<Figure size 1200x400 with 1 Axes>"
            ],
            "image/png": "[encoded data removed]"
          },
          "metadata": {}
        }
      ]
    },
    {
      "cell_type": "code",
      "source": [
        "mapie = MapieClassifier(estimator=vot_clf, method='score', cv=\"prefit\", random_state=123)\n",
        "mapie.fit(X_cal.values, y_cal.values.ravel())\n",
        "y_preds, y_pss = mapie.predict(data_.drop('preds', axis=1), alpha=0.1)"
      ],
      "metadata": {
        "id": "Pmo_yBUN7k7E",
        "colab": {
          "base_uri": "https://localhost:8080/"
        },
        "outputId": "65b12dc3-7fbc-4f24-839c-4fc9d026dfcd"
      },
      "execution_count": null,
      "outputs": [
        {
          "output_type": "stream",
          "name": "stderr",
          "text": [
            "/usr/local/lib/python3.10/dist-packages/sklearn/base.py:439: UserWarning: X does not have valid feature names, but SVC was fitted with feature names\n",
            "  warnings.warn(\n",
            "/usr/local/lib/python3.10/dist-packages/sklearn/base.py:439: UserWarning: X does not have valid feature names, but GradientBoostingClassifier was fitted with feature names\n",
            "  warnings.warn(\n"
          ]
        }
      ]
    },
    {
      "cell_type": "code",
      "source": [
        "data_['90% IC0']=y_pss[:,0]\n",
        "data_['90% IC1']=y_pss[:,1]\n",
        "data_['90% IC2']=y_pss[:,2]"
      ],
      "metadata": {
        "id": "12d1GT_M-qth"
      },
      "execution_count": null,
      "outputs": []
    },
    {
      "cell_type": "code",
      "source": [
        "data5['preds']=data_['preds']\n",
        "data5['90% IC0']=data_['90% IC0']\n",
        "data5['90% IC1']=data_['90% IC1']\n",
        "data5['90% IC2']=data_['90% IC2']"
      ],
      "metadata": {
        "id": "C7Mgpsdh_QEr"
      },
      "execution_count": null,
      "outputs": []
    },
    {
      "cell_type": "code",
      "source": [
        "data5['preds_label']=data5['preds'].replace([0,1,2], ['Poor', 'Borderline', 'Acceptable'])\n",
        "data5.to_csv('predictions_FCS.csv', index=False)"
      ],
      "metadata": {
        "id": "4tYjsppJAFsK"
      },
      "execution_count": null,
      "outputs": []
    },
    {
      "cell_type": "code",
      "source": [
        "data5"
      ],
      "metadata": {
        "id": "uFUmvzirA7nP",
        "colab": {
          "base_uri": "https://localhost:8080/",
          "height": 800
        },
        "outputId": "3938b9f2-a3d9-4076-c914-00d7f8de46a7"
      },
      "execution_count": null,
      "outputs": [
        {
          "output_type": "execute_result",
          "data": {
            "text/plain": [
              "                 district            commune                  fokontany  \\\n",
              "0      120-AMPANIHY-OUEST     507230-ANDROKA      507230021-LAHITSITELE   \n",
              "1      120-AMPANIHY-OUEST     507230-ANDROKA      507230021-LAHITSITELE   \n",
              "2      120-AMPANIHY-OUEST     507230-ANDROKA      507230021-LAHITSITELE   \n",
              "3      120-AMPANIHY-OUEST     507230-ANDROKA      507230021-LAHITSITELE   \n",
              "4      120-AMPANIHY-OUEST     507230-ANDROKA      507230021-LAHITSITELE   \n",
              "...                   ...                ...                        ...   \n",
              "80851        211-TSIHOMBE  514074-ANKILIVALO   514074825-TSIBOANTSOA-II   \n",
              "80852        211-TSIHOMBE  514074-ANKILIVALO      514011002-AMBATOMANOY   \n",
              "80853        211-TSIHOMBE  514074-ANKILIVALO  514011007-BEFOTAKE-CENTRE   \n",
              "80854        211-TSIHOMBE  514074-ANKILIVALO       514011014-NAMOTAHA-I   \n",
              "80855                 NaN      513010-BELOHA      513010091-AMPATIOLOBE   \n",
              "\n",
              "                         code_menage type_individus  sexe   age  SILC  \\\n",
              "0                 101-507230021-4DOP    chef_menage     1  80.0     0   \n",
              "1                 101-507230021-5F1C    chef_menage     1  18.0     0   \n",
              "2                 101-507230021-5ZWQ    chef_menage     0  48.0     0   \n",
              "3                 101-507230021-6LIF    chef_menage     0  49.0     0   \n",
              "4                 101-507230021-BN3Z    chef_menage     0  22.0     0   \n",
              "...                              ...            ...   ...   ...   ...   \n",
              "80851  fg_nut_144_crs_514074825-5G5G    chef_menage     1  41.0     0   \n",
              "80852   fg_nut_98_crs_514011002-LW8R    chef_menage     1  23.0     0   \n",
              "80853   fg_nut_98_crs_514011007-ZPLJ    chef_menage     1  23.0     0   \n",
              "80854   fg_nut_98_crs_514011014-1UAQ    chef_menage     1  39.0     0   \n",
              "80855                 513010091-4U07    chef_menage     0  50.0     0   \n",
              "\n",
              "       groupe_elevage  groupe_agriculture  ...  voucher_peche  voucher_agri  \\\n",
              "0                   0                   0  ...              0             0   \n",
              "1                   0                   0  ...              0             0   \n",
              "2                   0                   0  ...              0             0   \n",
              "3                   0                   0  ...              0             0   \n",
              "4                   0                   0  ...              0             0   \n",
              "...               ...                 ...  ...            ...           ...   \n",
              "80851               0                   0  ...              0             0   \n",
              "80852               0                   0  ...              0             0   \n",
              "80853               0                   0  ...              0             0   \n",
              "80854               0                   0  ...              0             0   \n",
              "80855               0                   1  ...              0             1   \n",
              "\n",
              "       dist_GFD  dist_ration_protection  dist_1000Jours  preds  90% IC0  \\\n",
              "0             1                       0               0      2    False   \n",
              "1             1                       0               0      2    False   \n",
              "2             0                       1               0      1    False   \n",
              "3             1                       0               0      2    False   \n",
              "4             0                       1               1      1     True   \n",
              "...         ...                     ...             ...    ...      ...   \n",
              "80851         0                       1               0      1    False   \n",
              "80852         0                       1               0      1    False   \n",
              "80853         0                       1               0      1    False   \n",
              "80854         0                       1               0      1    False   \n",
              "80855         0                       0               0      1    False   \n",
              "\n",
              "       90% IC1  90% IC2  preds_label  \n",
              "0         True     True   Acceptable  \n",
              "1         True     True   Acceptable  \n",
              "2         True    False   Borderline  \n",
              "3         True     True   Acceptable  \n",
              "4         True    False   Borderline  \n",
              "...        ...      ...          ...  \n",
              "80851     True    False   Borderline  \n",
              "80852     True    False   Borderline  \n",
              "80853     True    False   Borderline  \n",
              "80854     True    False   Borderline  \n",
              "80855     True     True   Borderline  \n",
              "\n",
              "[80856 rows x 25 columns]"
            ],
            "text/html": [
              "\n",
              "  <div id=\"df-76f58f2e-0864-4388-a7e4-21bd0d1949b2\">\n",
              "    <div class=\"colab-df-container\">\n",
              "      <div>\n",
              "<style scoped>\n",
              "    .dataframe tbody tr th:only-of-type {\n",
              "        vertical-align: middle;\n",
              "    }\n",
              "\n",
              "    .dataframe tbody tr th {\n",
              "        vertical-align: top;\n",
              "    }\n",
              "\n",
              "    .dataframe thead th {\n",
              "        text-align: right;\n",
              "    }\n",
              "</style>\n",
              "<table border=\"1\" class=\"dataframe\">\n",
              "  <thead>\n",
              "    <tr style=\"text-align: right;\">\n",
              "      <th></th>\n",
              "      <th>district</th>\n",
              "      <th>commune</th>\n",
              "      <th>fokontany</th>\n",
              "      <th>code_menage</th>\n",
              "      <th>type_individus</th>\n",
              "      <th>sexe</th>\n",
              "      <th>age</th>\n",
              "      <th>SILC</th>\n",
              "      <th>groupe_elevage</th>\n",
              "      <th>groupe_agriculture</th>\n",
              "      <th>...</th>\n",
              "      <th>voucher_peche</th>\n",
              "      <th>voucher_agri</th>\n",
              "      <th>dist_GFD</th>\n",
              "      <th>dist_ration_protection</th>\n",
              "      <th>dist_1000Jours</th>\n",
              "      <th>preds</th>\n",
              "      <th>90% IC0</th>\n",
              "      <th>90% IC1</th>\n",
              "      <th>90% IC2</th>\n",
              "      <th>preds_label</th>\n",
              "    </tr>\n",
              "  </thead>\n",
              "  <tbody>\n",
              "    <tr>\n",
              "      <th>0</th>\n",
              "      <td>120-AMPANIHY-OUEST</td>\n",
              "      <td>507230-ANDROKA</td>\n",
              "      <td>507230021-LAHITSITELE</td>\n",
              "      <td>101-507230021-4DOP</td>\n",
              "      <td>chef_menage</td>\n",
              "      <td>1</td>\n",
              "      <td>80.0</td>\n",
              "      <td>0</td>\n",
              "      <td>0</td>\n",
              "      <td>0</td>\n",
              "      <td>...</td>\n",
              "      <td>0</td>\n",
              "      <td>0</td>\n",
              "      <td>1</td>\n",
              "      <td>0</td>\n",
              "      <td>0</td>\n",
              "      <td>2</td>\n",
              "      <td>False</td>\n",
              "      <td>True</td>\n",
              "      <td>True</td>\n",
              "      <td>Acceptable</td>\n",
              "    </tr>\n",
              "    <tr>\n",
              "      <th>1</th>\n",
              "      <td>120-AMPANIHY-OUEST</td>\n",
              "      <td>507230-ANDROKA</td>\n",
              "      <td>507230021-LAHITSITELE</td>\n",
              "      <td>101-507230021-5F1C</td>\n",
              "      <td>chef_menage</td>\n",
              "      <td>1</td>\n",
              "      <td>18.0</td>\n",
              "      <td>0</td>\n",
              "      <td>0</td>\n",
              "      <td>0</td>\n",
              "      <td>...</td>\n",
              "      <td>0</td>\n",
              "      <td>0</td>\n",
              "      <td>1</td>\n",
              "      <td>0</td>\n",
              "      <td>0</td>\n",
              "      <td>2</td>\n",
              "      <td>False</td>\n",
              "      <td>True</td>\n",
              "      <td>True</td>\n",
              "      <td>Acceptable</td>\n",
              "    </tr>\n",
              "    <tr>\n",
              "      <th>2</th>\n",
              "      <td>120-AMPANIHY-OUEST</td>\n",
              "      <td>507230-ANDROKA</td>\n",
              "      <td>507230021-LAHITSITELE</td>\n",
              "      <td>101-507230021-5ZWQ</td>\n",
              "      <td>chef_menage</td>\n",
              "      <td>0</td>\n",
              "      <td>48.0</td>\n",
              "      <td>0</td>\n",
              "      <td>0</td>\n",
              "      <td>0</td>\n",
              "      <td>...</td>\n",
              "      <td>0</td>\n",
              "      <td>0</td>\n",
              "      <td>0</td>\n",
              "      <td>1</td>\n",
              "      <td>0</td>\n",
              "      <td>1</td>\n",
              "      <td>False</td>\n",
              "      <td>True</td>\n",
              "      <td>False</td>\n",
              "      <td>Borderline</td>\n",
              "    </tr>\n",
              "    <tr>\n",
              "      <th>3</th>\n",
              "      <td>120-AMPANIHY-OUEST</td>\n",
              "      <td>507230-ANDROKA</td>\n",
              "      <td>507230021-LAHITSITELE</td>\n",
              "      <td>101-507230021-6LIF</td>\n",
              "      <td>chef_menage</td>\n",
              "      <td>0</td>\n",
              "      <td>49.0</td>\n",
              "      <td>0</td>\n",
              "      <td>0</td>\n",
              "      <td>0</td>\n",
              "      <td>...</td>\n",
              "      <td>0</td>\n",
              "      <td>0</td>\n",
              "      <td>1</td>\n",
              "      <td>0</td>\n",
              "      <td>0</td>\n",
              "      <td>2</td>\n",
              "      <td>False</td>\n",
              "      <td>True</td>\n",
              "      <td>True</td>\n",
              "      <td>Acceptable</td>\n",
              "    </tr>\n",
              "    <tr>\n",
              "      <th>4</th>\n",
              "      <td>120-AMPANIHY-OUEST</td>\n",
              "      <td>507230-ANDROKA</td>\n",
              "      <td>507230021-LAHITSITELE</td>\n",
              "      <td>101-507230021-BN3Z</td>\n",
              "      <td>chef_menage</td>\n",
              "      <td>0</td>\n",
              "      <td>22.0</td>\n",
              "      <td>0</td>\n",
              "      <td>0</td>\n",
              "      <td>0</td>\n",
              "      <td>...</td>\n",
              "      <td>0</td>\n",
              "      <td>0</td>\n",
              "      <td>0</td>\n",
              "      <td>1</td>\n",
              "      <td>1</td>\n",
              "      <td>1</td>\n",
              "      <td>True</td>\n",
              "      <td>True</td>\n",
              "      <td>False</td>\n",
              "      <td>Borderline</td>\n",
              "    </tr>\n",
              "    <tr>\n",
              "      <th>...</th>\n",
              "      <td>...</td>\n",
              "      <td>...</td>\n",
              "      <td>...</td>\n",
              "      <td>...</td>\n",
              "      <td>...</td>\n",
              "      <td>...</td>\n",
              "      <td>...</td>\n",
              "      <td>...</td>\n",
              "      <td>...</td>\n",
              "      <td>...</td>\n",
              "      <td>...</td>\n",
              "      <td>...</td>\n",
              "      <td>...</td>\n",
              "      <td>...</td>\n",
              "      <td>...</td>\n",
              "      <td>...</td>\n",
              "      <td>...</td>\n",
              "      <td>...</td>\n",
              "      <td>...</td>\n",
              "      <td>...</td>\n",
              "      <td>...</td>\n",
              "    </tr>\n",
              "    <tr>\n",
              "      <th>80851</th>\n",
              "      <td>211-TSIHOMBE</td>\n",
              "      <td>514074-ANKILIVALO</td>\n",
              "      <td>514074825-TSIBOANTSOA-II</td>\n",
              "      <td>fg_nut_144_crs_514074825-5G5G</td>\n",
              "      <td>chef_menage</td>\n",
              "      <td>1</td>\n",
              "      <td>41.0</td>\n",
              "      <td>0</td>\n",
              "      <td>0</td>\n",
              "      <td>0</td>\n",
              "      <td>...</td>\n",
              "      <td>0</td>\n",
              "      <td>0</td>\n",
              "      <td>0</td>\n",
              "      <td>1</td>\n",
              "      <td>0</td>\n",
              "      <td>1</td>\n",
              "      <td>False</td>\n",
              "      <td>True</td>\n",
              "      <td>False</td>\n",
              "      <td>Borderline</td>\n",
              "    </tr>\n",
              "    <tr>\n",
              "      <th>80852</th>\n",
              "      <td>211-TSIHOMBE</td>\n",
              "      <td>514074-ANKILIVALO</td>\n",
              "      <td>514011002-AMBATOMANOY</td>\n",
              "      <td>fg_nut_98_crs_514011002-LW8R</td>\n",
              "      <td>chef_menage</td>\n",
              "      <td>1</td>\n",
              "      <td>23.0</td>\n",
              "      <td>0</td>\n",
              "      <td>0</td>\n",
              "      <td>0</td>\n",
              "      <td>...</td>\n",
              "      <td>0</td>\n",
              "      <td>0</td>\n",
              "      <td>0</td>\n",
              "      <td>1</td>\n",
              "      <td>0</td>\n",
              "      <td>1</td>\n",
              "      <td>False</td>\n",
              "      <td>True</td>\n",
              "      <td>False</td>\n",
              "      <td>Borderline</td>\n",
              "    </tr>\n",
              "    <tr>\n",
              "      <th>80853</th>\n",
              "      <td>211-TSIHOMBE</td>\n",
              "      <td>514074-ANKILIVALO</td>\n",
              "      <td>514011007-BEFOTAKE-CENTRE</td>\n",
              "      <td>fg_nut_98_crs_514011007-ZPLJ</td>\n",
              "      <td>chef_menage</td>\n",
              "      <td>1</td>\n",
              "      <td>23.0</td>\n",
              "      <td>0</td>\n",
              "      <td>0</td>\n",
              "      <td>0</td>\n",
              "      <td>...</td>\n",
              "      <td>0</td>\n",
              "      <td>0</td>\n",
              "      <td>0</td>\n",
              "      <td>1</td>\n",
              "      <td>0</td>\n",
              "      <td>1</td>\n",
              "      <td>False</td>\n",
              "      <td>True</td>\n",
              "      <td>False</td>\n",
              "      <td>Borderline</td>\n",
              "    </tr>\n",
              "    <tr>\n",
              "      <th>80854</th>\n",
              "      <td>211-TSIHOMBE</td>\n",
              "      <td>514074-ANKILIVALO</td>\n",
              "      <td>514011014-NAMOTAHA-I</td>\n",
              "      <td>fg_nut_98_crs_514011014-1UAQ</td>\n",
              "      <td>chef_menage</td>\n",
              "      <td>1</td>\n",
              "      <td>39.0</td>\n",
              "      <td>0</td>\n",
              "      <td>0</td>\n",
              "      <td>0</td>\n",
              "      <td>...</td>\n",
              "      <td>0</td>\n",
              "      <td>0</td>\n",
              "      <td>0</td>\n",
              "      <td>1</td>\n",
              "      <td>0</td>\n",
              "      <td>1</td>\n",
              "      <td>False</td>\n",
              "      <td>True</td>\n",
              "      <td>False</td>\n",
              "      <td>Borderline</td>\n",
              "    </tr>\n",
              "    <tr>\n",
              "      <th>80855</th>\n",
              "      <td>NaN</td>\n",
              "      <td>513010-BELOHA</td>\n",
              "      <td>513010091-AMPATIOLOBE</td>\n",
              "      <td>513010091-4U07</td>\n",
              "      <td>chef_menage</td>\n",
              "      <td>0</td>\n",
              "      <td>50.0</td>\n",
              "      <td>0</td>\n",
              "      <td>0</td>\n",
              "      <td>1</td>\n",
              "      <td>...</td>\n",
              "      <td>0</td>\n",
              "      <td>1</td>\n",
              "      <td>0</td>\n",
              "      <td>0</td>\n",
              "      <td>0</td>\n",
              "      <td>1</td>\n",
              "      <td>False</td>\n",
              "      <td>True</td>\n",
              "      <td>True</td>\n",
              "      <td>Borderline</td>\n",
              "    </tr>\n",
              "  </tbody>\n",
              "</table>\n",
              "<p>80856 rows × 25 columns</p>\n",
              "</div>\n",
              "      <button class=\"colab-df-convert\" onclick=\"convertToInteractive('df-76f58f2e-0864-4388-a7e4-21bd0d1949b2')\"\n",
              "              title=\"Convert this dataframe to an interactive table.\"\n",
              "              style=\"display:none;\">\n",
              "        \n",
              "  <svg xmlns=\"http://www.w3.org/2000/svg\" height=\"24px\"viewBox=\"0 0 24 24\"\n",
              "       width=\"24px\">\n",
              "    <path d=\"M0 0h24v24H0V0z\" fill=\"none\"/>\n",
              "    <path d=\"M18.56 5.44l.94 2.06.94-2.06 2.06-.94-2.06-.94-.94-2.06-.94 2.06-2.06.94zm-11 1L8.5 8.5l.94-2.06 2.06-.94-2.06-.94L8.5 2.5l-.94 2.06-2.06.94zm10 10l.94 2.06.94-2.06 2.06-.94-2.06-.94-.94-2.06-.94 2.06-2.06.94z\"/><path d=\"M17.41 7.96l-1.37-1.37c-.4-.4-.92-.59-1.43-.59-.52 0-1.04.2-1.43.59L10.3 9.45l-7.72 7.72c-.78.78-.78 2.05 0 2.83L4 21.41c.39.39.9.59 1.41.59.51 0 1.02-.2 1.41-.59l7.78-7.78 2.81-2.81c.8-.78.8-2.07 0-2.86zM5.41 20L4 18.59l7.72-7.72 1.47 1.35L5.41 20z\"/>\n",
              "  </svg>\n",
              "      </button>\n",
              "      \n",
              "  <style>\n",
              "    .colab-df-container {\n",
              "      display:flex;\n",
              "      flex-wrap:wrap;\n",
              "      gap: 12px;\n",
              "    }\n",
              "\n",
              "    .colab-df-convert {\n",
              "      background-color: #E8F0FE;\n",
              "      border: none;\n",
              "      border-radius: 50%;\n",
              "      cursor: pointer;\n",
              "      display: none;\n",
              "      fill: #1967D2;\n",
              "      height: 32px;\n",
              "      padding: 0 0 0 0;\n",
              "      width: 32px;\n",
              "    }\n",
              "\n",
              "    .colab-df-convert:hover {\n",
              "      background-color: #E2EBFA;\n",
              "      box-shadow: 0px 1px 2px rgba(60, 64, 67, 0.3), 0px 1px 3px 1px rgba(60, 64, 67, 0.15);\n",
              "      fill: #174EA6;\n",
              "    }\n",
              "\n",
              "    [theme=dark] .colab-df-convert {\n",
              "      background-color: #3B4455;\n",
              "      fill: #D2E3FC;\n",
              "    }\n",
              "\n",
              "    [theme=dark] .colab-df-convert:hover {\n",
              "      background-color: #434B5C;\n",
              "      box-shadow: 0px 1px 3px 1px rgba(0, 0, 0, 0.15);\n",
              "      filter: drop-shadow(0px 1px 2px rgba(0, 0, 0, 0.3));\n",
              "      fill: #FFFFFF;\n",
              "    }\n",
              "  </style>\n",
              "\n",
              "      <script>\n",
              "        const buttonEl =\n",
              "          document.querySelector('#df-76f58f2e-0864-4388-a7e4-21bd0d1949b2 button.colab-df-convert');\n",
              "        buttonEl.style.display =\n",
              "          google.colab.kernel.accessAllowed ? 'block' : 'none';\n",
              "\n",
              "        async function convertToInteractive(key) {\n",
              "          const element = document.querySelector('#df-76f58f2e-0864-4388-a7e4-21bd0d1949b2');\n",
              "          const dataTable =\n",
              "            await google.colab.kernel.invokeFunction('convertToInteractive',\n",
              "                                                     [key], {});\n",
              "          if (!dataTable) return;\n",
              "\n",
              "          const docLinkHtml = 'Like what you see? Visit the ' +\n",
              "            '<a target=\"_blank\" href=https://colab.research.google.com/notebooks/data_table.ipynb>data table notebook</a>'\n",
              "            + ' to learn more about interactive tables.';\n",
              "          element.innerHTML = '';\n",
              "          dataTable['output_type'] = 'display_data';\n",
              "          await google.colab.output.renderOutput(dataTable, element);\n",
              "          const docLink = document.createElement('div');\n",
              "          docLink.innerHTML = docLinkHtml;\n",
              "          element.appendChild(docLink);\n",
              "        }\n",
              "      </script>\n",
              "    </div>\n",
              "  </div>\n",
              "  "
            ]
          },
          "metadata": {},
          "execution_count": 90
        }
      ]
    },
    {
      "cell_type": "code",
      "source": [],
      "metadata": {
        "id": "yQxoWybO_Gk0"
      },
      "execution_count": null,
      "outputs": []
    }
  ]
}